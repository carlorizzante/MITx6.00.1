{
 "cells": [
  {
   "cell_type": "code",
   "execution_count": 1,
   "metadata": {
    "collapsed": true
   },
   "outputs": [],
   "source": [
    "# List Comprehension\n",
    "# [expr for val in collection]\n",
    "# [expr for val in collection if <test>]\n",
    "# [expr for val in collection if <test1> and <test2> ...]\n",
    "# [expr for val1 in collection1 and val2 in collection2]"
   ]
  },
  {
   "cell_type": "code",
   "execution_count": 3,
   "metadata": {
    "collapsed": false
   },
   "outputs": [
    {
     "name": "stdout",
     "output_type": "stream",
     "text": [
      "[1, 4, 9, 16, 25, 36, 49, 64, 81, 100, 121, 144, 169, 196, 225, 256, 289, 324, 361, 400, 441, 484, 529, 576, 625, 676, 729, 784, 841, 900, 961, 1024, 1089, 1156, 1225, 1296, 1369, 1444, 1521, 1600, 1681, 1764, 1849, 1936, 2025, 2116, 2209, 2304, 2401, 2500, 2601, 2704, 2809, 2916, 3025, 3136, 3249, 3364, 3481, 3600, 3721, 3844, 3969, 4096, 4225, 4356, 4489, 4624, 4761, 4900, 5041, 5184, 5329, 5476, 5625, 5776, 5929, 6084, 6241, 6400, 6561, 6724, 6889, 7056, 7225, 7396, 7569, 7744, 7921, 8100, 8281, 8464, 8649, 8836, 9025, 9216, 9409, 9604, 9801, 10000]\n"
     ]
    }
   ],
   "source": [
    "# List of squares from 1 to 100\n",
    "squares = []\n",
    "for i in range(1, 101):\n",
    "    squares.append(i**2)\n",
    "print(squares)"
   ]
  },
  {
   "cell_type": "code",
   "execution_count": 11,
   "metadata": {
    "collapsed": false
   },
   "outputs": [
    {
     "name": "stdout",
     "output_type": "stream",
     "text": [
      "[0, 1, 4, 9, 16, 25, 36, 49, 64, 81, 100, 121, 144, 169, 196, 225, 256, 289, 324, 361, 400, 441, 484, 529, 576, 625, 676, 729, 784, 841, 900, 961, 1024, 1089, 1156, 1225, 1296, 1369, 1444, 1521, 1600, 1681, 1764, 1849, 1936, 2025, 2116, 2209, 2304, 2401, 2500, 2601, 2704, 2809, 2916, 3025, 3136, 3249, 3364, 3481, 3600, 3721, 3844, 3969, 4096, 4225, 4356, 4489, 4624, 4761, 4900, 5041, 5184, 5329, 5476, 5625, 5776, 5929, 6084, 6241, 6400, 6561, 6724, 6889, 7056, 7225, 7396, 7569, 7744, 7921, 8100, 8281, 8464, 8649, 8836, 9025, 9216, 9409, 9604, 9801, 10000]\n"
     ]
    }
   ],
   "source": [
    "# With List Comprehension\n",
    "squares2 = [val**2 for val in range(0, 101)]\n",
    "print(squares2)"
   ]
  },
  {
   "cell_type": "code",
   "execution_count": 10,
   "metadata": {
    "collapsed": false
   },
   "outputs": [
    {
     "name": "stdout",
     "output_type": "stream",
     "text": [
      "[0, 1, 4, 4, 1, 0, 1, 4, 4, 1, 0, 1, 4, 4, 1, 0, 1, 4, 4, 1, 0, 1, 4, 4, 1, 0, 1, 4, 4, 1, 0, 1, 4, 4, 1, 0, 1, 4, 4, 1, 0, 1, 4, 4, 1, 0, 1, 4, 4, 1, 0, 1, 4, 4, 1, 0, 1, 4, 4, 1, 0, 1, 4, 4, 1, 0, 1, 4, 4, 1, 0, 1, 4, 4, 1, 0, 1, 4, 4, 1, 0, 1, 4, 4, 1, 0, 1, 4, 4, 1, 0, 1, 4, 4, 1, 0, 1, 4, 4, 1, 0]\n"
     ]
    }
   ],
   "source": [
    "# x**2 % 2 -> x^2 (mod 5)\n",
    "remainders5 = [val**2%5 for val in range(0,101)]\n",
    "print(remainders5)"
   ]
  },
  {
   "cell_type": "code",
   "execution_count": 9,
   "metadata": {
    "collapsed": false
   },
   "outputs": [
    {
     "name": "stdout",
     "output_type": "stream",
     "text": [
      "[1, 4, 9, 5, 3, 3, 5, 9, 4, 1, 0, 1, 4, 9, 5, 3, 3, 5, 9, 4, 1, 0, 1, 4, 9, 5, 3, 3, 5, 9, 4, 1, 0, 1, 4, 9, 5, 3, 3, 5, 9, 4, 1, 0, 1, 4, 9, 5, 3, 3, 5, 9, 4, 1, 0, 1, 4, 9, 5, 3, 3, 5, 9, 4, 1, 0, 1, 4, 9, 5, 3, 3, 5, 9, 4, 1, 0, 1, 4, 9, 5, 3, 3, 5, 9, 4, 1, 0, 1, 4, 9, 5, 3, 3, 5, 9, 4, 1, 0, 1]\n"
     ]
    }
   ],
   "source": [
    "remainders11 = [val**2%11 for val in range(1, 101)]\n",
    "print(remainders11)"
   ]
  },
  {
   "cell_type": "code",
   "execution_count": 12,
   "metadata": {
    "collapsed": true
   },
   "outputs": [],
   "source": [
    "# Problem: Quadratic Reciprocity\n",
    "# p_remainders = [x**2 % p for x in range(0, p)]\n",
    "\n",
    "# len(p_remainders) = (p + 1) / 2"
   ]
  },
  {
   "cell_type": "code",
   "execution_count": 13,
   "metadata": {
    "collapsed": true
   },
   "outputs": [],
   "source": [
    "movies = [\"Star Wars\", \"Gandhi\", \"Casablanca\", \"Shawshank Redemption\", \"Toy Story\", \"Gone with the Wind\", \"Citizen Kane\", \"It's a Wonderful Life\", \"The Wizard of Oz\", \"Gattaca\", \"Rear Window\", \"Ghostbusters\", \"To Kill a Mockingbird\", \"Good Will Hunting\", \"2001: Space Odissey\", \"Raiders of the Lost Ark\", \"Groundhog Day\", \"Close Encounters of the Third Kind\"]"
   ]
  },
  {
   "cell_type": "code",
   "execution_count": 16,
   "metadata": {
    "collapsed": false
   },
   "outputs": [
    {
     "name": "stdout",
     "output_type": "stream",
     "text": [
      "['Gandhi', 'Gone with the Wind', 'Gattaca', 'Ghostbusters', 'Good Will Hunting', 'Groundhog Day']\n"
     ]
    }
   ],
   "source": [
    "# List movies that start with a \"g\"\n",
    "gmovies = []\n",
    "for movie in movies:\n",
    "    if movie[0] == \"G\": # also, movie.startswith(\"G\")\n",
    "        gmovies.append(movie)\n",
    "print(gmovies)"
   ]
  },
  {
   "cell_type": "code",
   "execution_count": 17,
   "metadata": {
    "collapsed": false
   },
   "outputs": [
    {
     "name": "stdout",
     "output_type": "stream",
     "text": [
      "['Gandhi', 'Gone with the Wind', 'Gattaca', 'Ghostbusters', 'Good Will Hunting', 'Groundhog Day']\n"
     ]
    }
   ],
   "source": [
    "# With List Comprehension\n",
    "gmovies2 = [movie for movie in movies if movie.startswith(\"G\")]\n",
    "print(gmovies2)"
   ]
  },
  {
   "cell_type": "code",
   "execution_count": 18,
   "metadata": {
    "collapsed": true
   },
   "outputs": [],
   "source": [
    "movies_year = [(\"Citizen Kane\", 1941), (\"Spirited Away\", 2001), (\"It's a Wonderful Life\", 1946), (\"Gattaca\", 1997), (\"No Country for Old Men\", 2007), (\"Rear Window\", 1954), (\"The Lord Of the Ring\", 2001), (\"Groundhog Day\", 1993), (\"Close Encounters of the Third Kind\", 1977), (\"The Royal Tenenbaums\", 2001), (\"The Aviator\", 2004), (\"Raiders of the Lost Ark\", 1981)]"
   ]
  },
  {
   "cell_type": "code",
   "execution_count": 20,
   "metadata": {
    "collapsed": false
   },
   "outputs": [
    {
     "name": "stdout",
     "output_type": "stream",
     "text": [
      "[('Citizen Kane', 1941), (\"It's a Wonderful Life\", 1946), ('Gattaca', 1997), ('Rear Window', 1954), ('Groundhog Day', 1993), ('Close Encounters of the Third Kind', 1977), ('Raiders of the Lost Ark', 1981)]\n"
     ]
    }
   ],
   "source": [
    "# List movies released before year 2000\n",
    "b2000movies = []\n",
    "for movie in movies_year:\n",
    "    if movie[1] < 2000:\n",
    "        b2000movies.append(movie)\n",
    "print(b2000movies)"
   ]
  },
  {
   "cell_type": "code",
   "execution_count": 21,
   "metadata": {
    "collapsed": false
   },
   "outputs": [
    {
     "name": "stdout",
     "output_type": "stream",
     "text": [
      "[('Citizen Kane', 1941), (\"It's a Wonderful Life\", 1946), ('Gattaca', 1997), ('Rear Window', 1954), ('Groundhog Day', 1993), ('Close Encounters of the Third Kind', 1977), ('Raiders of the Lost Ark', 1981)]\n"
     ]
    }
   ],
   "source": [
    "# With List Comprehension\n",
    "b2000movies2 = [movie for movie in movies_year if movie[1] < 2000]\n",
    "print(b2000movies2)"
   ]
  },
  {
   "cell_type": "code",
   "execution_count": 22,
   "metadata": {
    "collapsed": false
   },
   "outputs": [
    {
     "name": "stdout",
     "output_type": "stream",
     "text": [
      "['Citizen Kane', \"It's a Wonderful Life\", 'Gattaca', 'Rear Window', 'Groundhog Day', 'Close Encounters of the Third Kind', 'Raiders of the Lost Ark']\n"
     ]
    }
   ],
   "source": [
    "# Only titles\n",
    "b2000titles = [title for (title, year) in movies_year if year < 2000]\n",
    "print(b2000titles)"
   ]
  },
  {
   "cell_type": "code",
   "execution_count": 25,
   "metadata": {
    "collapsed": false
   },
   "outputs": [
    {
     "name": "stdout",
     "output_type": "stream",
     "text": [
      "[8, -12, 4]\n"
     ]
    }
   ],
   "source": [
    "# Scalar Multiplication\n",
    "v = [2, -3, 1]\n",
    "\n",
    "# Multiply each number by 4\n",
    "w = [x*4 for x in v]\n",
    "print(w)"
   ]
  },
  {
   "cell_type": "code",
   "execution_count": 26,
   "metadata": {
    "collapsed": true
   },
   "outputs": [],
   "source": [
    "# Cartesian Product\n",
    "\n",
    "# Given two sets, A and B, then the Cartesian product is\n",
    "# the set of pairs (a, b) where a is in A and b is in B.\n",
    "\n",
    "# A x B = {(a, b) | a in A, b in B}"
   ]
  },
  {
   "cell_type": "code",
   "execution_count": 27,
   "metadata": {
    "collapsed": true
   },
   "outputs": [],
   "source": [
    "# A = {1, 3}\n",
    "# B = {x, y}\n",
    "\n",
    "# A x B = {(1, x), (1, y), (3, x), (3, y)}"
   ]
  },
  {
   "cell_type": "code",
   "execution_count": 36,
   "metadata": {
    "collapsed": false
   },
   "outputs": [
    {
     "name": "stdout",
     "output_type": "stream",
     "text": [
      "[(1, 2), (1, 4), (1, 6), (1, 8), (3, 2), (3, 4), (3, 6), (3, 8), (5, 2), (5, 4), (5, 6), (5, 8), (7, 2), (7, 4), (7, 6), (7, 8)]\n"
     ]
    }
   ],
   "source": [
    "A = [1, 3, 5, 7]\n",
    "B = [2, 4, 6, 8]\n",
    "\n",
    "cartesian_product = [(a, b) for a in A for b in B]\n",
    "print(cartesian_product)"
   ]
  },
  {
   "cell_type": "code",
   "execution_count": null,
   "metadata": {
    "collapsed": true
   },
   "outputs": [],
   "source": []
  },
  {
   "cell_type": "code",
   "execution_count": null,
   "metadata": {
    "collapsed": true
   },
   "outputs": [],
   "source": []
  }
 ],
 "metadata": {
  "kernelspec": {
   "display_name": "Python 3",
   "language": "python",
   "name": "python3"
  },
  "language_info": {
   "codemirror_mode": {
    "name": "ipython",
    "version": 3
   },
   "file_extension": ".py",
   "mimetype": "text/x-python",
   "name": "python",
   "nbconvert_exporter": "python",
   "pygments_lexer": "ipython3",
   "version": "3.6.0"
  }
 },
 "nbformat": 4,
 "nbformat_minor": 2
}
