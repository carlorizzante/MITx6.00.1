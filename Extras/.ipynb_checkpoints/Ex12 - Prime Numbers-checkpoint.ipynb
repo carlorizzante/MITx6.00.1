{
 "cells": [
  {
   "cell_type": "code",
   "execution_count": 1,
   "metadata": {
    "collapsed": true
   },
   "outputs": [],
   "source": [
    "import math\n",
    "import time\n",
    "\n",
    "def is_prime_1(n):\n",
    "    \"\"\"Returns True if n is a prime number, False otherwise.\"\"\"\n",
    "    if n <= 1:\n",
    "        return False\n",
    "    else:\n",
    "        for d in range(2,n):\n",
    "            if n % d == 0:\n",
    "                return False\n",
    "    return True"
   ]
  },
  {
   "cell_type": "code",
   "execution_count": 13,
   "metadata": {
    "collapsed": false
   },
   "outputs": [
    {
     "name": "stdout",
     "output_type": "stream",
     "text": [
      "Time required: 38.76368594169617\n"
     ]
    }
   ],
   "source": [
    "# ===== Test function =====\n",
    "t0 = time.time()\n",
    "for n in range(0, 100000):\n",
    "    is_prime_1(n) # merely calculate, do not print anything\n",
    "t1 = time.time()\n",
    "print(\"Time required:\", t1 - t0)"
   ]
  },
  {
   "cell_type": "code",
   "execution_count": 17,
   "metadata": {
    "collapsed": true
   },
   "outputs": [],
   "source": [
    "def is_prime_2(n):\n",
    "    \"\"\"Returns True if n is a prime number, False otherwise\"\"\"\n",
    "    if n <= 1:\n",
    "        return False\n",
    "    else:\n",
    "        max_divisor = math.floor(math.sqrt(n))\n",
    "        for d in range(2, max_divisor + 1):\n",
    "            if n % d == 0:\n",
    "                return False\n",
    "    return True"
   ]
  },
  {
   "cell_type": "code",
   "execution_count": 24,
   "metadata": {
    "collapsed": false
   },
   "outputs": [
    {
     "name": "stdout",
     "output_type": "stream",
     "text": [
      "Time required: 0.2633540630340576\n"
     ]
    }
   ],
   "source": [
    "t0 = time.time()\n",
    "for n in range(0, 100000):\n",
    "    is_prime_2(n) # merely calculate, do not print anything\n",
    "t1 = time.time()\n",
    "print(\"Time required:\", t1 - t0)"
   ]
  },
  {
   "cell_type": "code",
   "execution_count": 36,
   "metadata": {
    "collapsed": true
   },
   "outputs": [],
   "source": [
    "def is_prime_3(n):\n",
    "    \"\"\"Returns True if n is a prime number, False otherwise\"\"\"\n",
    "    if n < 2 or n % 2 == 0:\n",
    "        return False\n",
    "    else:\n",
    "        max_divisor = math.floor(math.sqrt(n))\n",
    "        for d in range(2, max_divisor + 1):\n",
    "            if n % d == 0:\n",
    "                return False\n",
    "    return True"
   ]
  },
  {
   "cell_type": "code",
   "execution_count": 37,
   "metadata": {
    "collapsed": false
   },
   "outputs": [
    {
     "name": "stdout",
     "output_type": "stream",
     "text": [
      "Time required: 0.22956085205078125\n"
     ]
    }
   ],
   "source": [
    "t0 = time.time()\n",
    "for n in range(0, 100000):\n",
    "    is_prime_3(n) # merely calculate, do not print anything\n",
    "t1 = time.time()\n",
    "print(\"Time required:\", t1 - t0)"
   ]
  },
  {
   "cell_type": "code",
   "execution_count": 38,
   "metadata": {
    "collapsed": true
   },
   "outputs": [],
   "source": [
    "def is_prime_4(n):\n",
    "    \"\"\"Returns True if n is a prime number, False otherwise\"\"\"\n",
    "    if n < 2 or n % 2 == 0:\n",
    "        return False\n",
    "    else:\n",
    "        max_divisor = math.floor(math.sqrt(n))\n",
    "        for d in range(3, max_divisor + 1, 2): # Note the \"step value\" of 2\n",
    "            if n % d == 0:\n",
    "                return False\n",
    "    return True"
   ]
  },
  {
   "cell_type": "code",
   "execution_count": 39,
   "metadata": {
    "collapsed": false
   },
   "outputs": [
    {
     "name": "stdout",
     "output_type": "stream",
     "text": [
      "Time required: 0.1509389877319336\n"
     ]
    }
   ],
   "source": [
    "t0 = time.time()\n",
    "for n in range(0, 100000):\n",
    "    is_prime_4(n) # merely calculate, do not print anything\n",
    "t1 = time.time()\n",
    "print(\"Time required:\", t1 - t0)"
   ]
  },
  {
   "cell_type": "code",
   "execution_count": null,
   "metadata": {
    "collapsed": true
   },
   "outputs": [],
   "source": []
  }
 ],
 "metadata": {
  "kernelspec": {
   "display_name": "Python 3",
   "language": "python",
   "name": "python3"
  },
  "language_info": {
   "codemirror_mode": {
    "name": "ipython",
    "version": 3
   },
   "file_extension": ".py",
   "mimetype": "text/x-python",
   "name": "python",
   "nbconvert_exporter": "python",
   "pygments_lexer": "ipython3",
   "version": "3.6.0"
  }
 },
 "nbformat": 4,
 "nbformat_minor": 2
}
