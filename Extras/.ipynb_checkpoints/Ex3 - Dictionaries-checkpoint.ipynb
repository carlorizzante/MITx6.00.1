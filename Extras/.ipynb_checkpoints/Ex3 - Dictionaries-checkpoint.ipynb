{
 "cells": [
  {
   "cell_type": "code",
   "execution_count": 2,
   "metadata": {
    "collapsed": true
   },
   "outputs": [],
   "source": [
    "# FriendFace's post\n",
    "# user_id\n",
    "# message\n",
    "# language\n",
    "# datetime\n",
    "# location\n",
    "\n",
    "post = {\"user_id\": 209, \"message\": \"Porta Lorem Justo Tristique Vehicula\", \"language\": \"English\", \"datetime\": \"20230215T124231Z\", \"location\": (44.590533, -104.715556)}"
   ]
  },
  {
   "cell_type": "code",
   "execution_count": 3,
   "metadata": {
    "collapsed": false
   },
   "outputs": [
    {
     "data": {
      "text/plain": [
       "{'datetime': '20230215T124231Z',\n",
       " 'language': 'English',\n",
       " 'location': (44.590533, -104.715556),\n",
       " 'message': 'Porta Lorem Justo Tristique Vehicula',\n",
       " 'user_id': 209}"
      ]
     },
     "execution_count": 3,
     "metadata": {},
     "output_type": "execute_result"
    }
   ],
   "source": [
    "post"
   ]
  },
  {
   "cell_type": "code",
   "execution_count": 6,
   "metadata": {
    "collapsed": false
   },
   "outputs": [],
   "source": [
    "post2 = dict(message=\"Sem Ultricies Etiam Dolor Condimentum\", language=\"Latin\")"
   ]
  },
  {
   "cell_type": "code",
   "execution_count": 7,
   "metadata": {
    "collapsed": false
   },
   "outputs": [
    {
     "data": {
      "text/plain": [
       "{'language': 'Latin', 'message': 'Sem Ultricies Etiam Dolor Condimentum'}"
      ]
     },
     "execution_count": 7,
     "metadata": {},
     "output_type": "execute_result"
    }
   ],
   "source": [
    "post2"
   ]
  },
  {
   "cell_type": "code",
   "execution_count": 8,
   "metadata": {
    "collapsed": false
   },
   "outputs": [],
   "source": [
    "post2[\"user_id\"] = 209\n",
    "post2[\"datetime\"] = \"19771116T093001Z\""
   ]
  },
  {
   "cell_type": "code",
   "execution_count": 9,
   "metadata": {
    "collapsed": false
   },
   "outputs": [
    {
     "data": {
      "text/plain": [
       "{'datetime': '20230215T124231Z',\n",
       " 'language': 'English',\n",
       " 'location': (44.590533, -104.715556),\n",
       " 'message': 'Porta Lorem Justo Tristique Vehicula',\n",
       " 'user_id': 209}"
      ]
     },
     "execution_count": 9,
     "metadata": {},
     "output_type": "execute_result"
    }
   ],
   "source": [
    "post"
   ]
  },
  {
   "cell_type": "code",
   "execution_count": 10,
   "metadata": {
    "collapsed": false
   },
   "outputs": [
    {
     "name": "stdout",
     "output_type": "stream",
     "text": [
      "Post has no location.\n"
     ]
    }
   ],
   "source": [
    "if \"location\" in post2:\n",
    "    print(post2[\"location\"])\n",
    "else:\n",
    "    print(\"Post has no location.\")"
   ]
  },
  {
   "cell_type": "code",
   "execution_count": 12,
   "metadata": {
    "collapsed": false
   },
   "outputs": [
    {
     "name": "stdout",
     "output_type": "stream",
     "text": [
      "Post generated KeyError.\n"
     ]
    }
   ],
   "source": [
    "try:\n",
    "    print(post2[\"location\"])\n",
    "except KeyError:\n",
    "    print(\"Post generated KeyError.\")\n",
    "except:\n",
    "    print(\"Post has no location.\")"
   ]
  },
  {
   "cell_type": "code",
   "execution_count": 13,
   "metadata": {
    "collapsed": false
   },
   "outputs": [
    {
     "name": "stdout",
     "output_type": "stream",
     "text": [
      "None\n"
     ]
    }
   ],
   "source": [
    "print(post2.get(\"location\", None))"
   ]
  },
  {
   "cell_type": "code",
   "execution_count": 19,
   "metadata": {
    "collapsed": false
   },
   "outputs": [
    {
     "name": "stdout",
     "output_type": "stream",
     "text": [
      "message = Sem Ultricies Etiam Dolor Condimentum\n",
      "language = Latin\n",
      "user_id = 209\n",
      "datetime = 19771116T093001Z\n"
     ]
    }
   ],
   "source": [
    "for key in post2:\n",
    "    print(key, \"=\", post2[key])"
   ]
  },
  {
   "cell_type": "code",
   "execution_count": 20,
   "metadata": {
    "collapsed": false
   },
   "outputs": [
    {
     "name": "stdout",
     "output_type": "stream",
     "text": [
      "message = Sem Ultricies Etiam Dolor Condimentum\n",
      "language = Latin\n",
      "user_id = 209\n",
      "datetime = 19771116T093001Z\n"
     ]
    }
   ],
   "source": [
    "for key, value in post2.items():\n",
    "    print(key, \"=\", value)"
   ]
  },
  {
   "cell_type": "code",
   "execution_count": null,
   "metadata": {
    "collapsed": true
   },
   "outputs": [],
   "source": []
  }
 ],
 "metadata": {
  "kernelspec": {
   "display_name": "Python 3",
   "language": "python",
   "name": "python3"
  },
  "language_info": {
   "codemirror_mode": {
    "name": "ipython",
    "version": 3
   },
   "file_extension": ".py",
   "mimetype": "text/x-python",
   "name": "python",
   "nbconvert_exporter": "python",
   "pygments_lexer": "ipython3",
   "version": "3.6.0"
  }
 },
 "nbformat": 4,
 "nbformat_minor": 2
}
