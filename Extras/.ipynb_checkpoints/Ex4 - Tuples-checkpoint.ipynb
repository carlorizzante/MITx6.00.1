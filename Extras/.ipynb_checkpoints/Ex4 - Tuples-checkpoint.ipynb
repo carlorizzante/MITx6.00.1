{
 "cells": [
  {
   "cell_type": "code",
   "execution_count": 5,
   "metadata": {
    "collapsed": true
   },
   "outputs": [],
   "source": [
    "# List example\n",
    "prime_numbers = [2,3,5,7,11,13,17]\n",
    "\n",
    "# Tuple example\n",
    "perfect_squares = (1,4,9,16,25,36)"
   ]
  },
  {
   "cell_type": "code",
   "execution_count": 6,
   "metadata": {
    "collapsed": false
   },
   "outputs": [
    {
     "name": "stdout",
     "output_type": "stream",
     "text": [
      "7\n",
      "6\n"
     ]
    }
   ],
   "source": [
    "# Display length\n",
    "print(len(prime_numbers))\n",
    "print(len(perfect_squares))"
   ]
  },
  {
   "cell_type": "code",
   "execution_count": 8,
   "metadata": {
    "collapsed": false
   },
   "outputs": [
    {
     "name": "stdout",
     "output_type": "stream",
     "text": [
      "Prime: 2\n",
      "Prime: 3\n",
      "Prime: 5\n",
      "Prime: 7\n",
      "Prime: 11\n",
      "Prime: 13\n",
      "Prime: 17\n",
      "Square: 1\n",
      "Square: 4\n",
      "Square: 9\n",
      "Square: 16\n",
      "Square: 25\n",
      "Square: 36\n"
     ]
    }
   ],
   "source": [
    "# Iterate through elements\n",
    "for p in prime_numbers:\n",
    "    print(\"Prime:\", p)\n",
    "for n in perfect_squares:\n",
    "    print(\"Square:\", n)"
   ]
  },
  {
   "cell_type": "code",
   "execution_count": 9,
   "metadata": {
    "collapsed": false
   },
   "outputs": [
    {
     "name": "stdout",
     "output_type": "stream",
     "text": [
      "List methods:\n",
      "['__add__', '__class__', '__contains__', '__delattr__', '__delitem__', '__dir__', '__doc__', '__eq__', '__format__', '__ge__', '__getattribute__', '__getitem__', '__gt__', '__hash__', '__iadd__', '__imul__', '__init__', '__init_subclass__', '__iter__', '__le__', '__len__', '__lt__', '__mul__', '__ne__', '__new__', '__reduce__', '__reduce_ex__', '__repr__', '__reversed__', '__rmul__', '__setattr__', '__setitem__', '__sizeof__', '__str__', '__subclasshook__', 'append', 'clear', 'copy', 'count', 'extend', 'index', 'insert', 'pop', 'remove', 'reverse', 'sort']\n",
      "--------------------------------------------------------------------------------\n",
      "Tuple methods:\n",
      "['__add__', '__class__', '__contains__', '__delattr__', '__dir__', '__doc__', '__eq__', '__format__', '__ge__', '__getattribute__', '__getitem__', '__getnewargs__', '__gt__', '__hash__', '__init__', '__init_subclass__', '__iter__', '__le__', '__len__', '__lt__', '__mul__', '__ne__', '__new__', '__reduce__', '__reduce_ex__', '__repr__', '__rmul__', '__setattr__', '__sizeof__', '__str__', '__subclasshook__', 'count', 'index']\n"
     ]
    }
   ],
   "source": [
    "print(\"List methods:\")\n",
    "print(dir(prime_numbers))\n",
    "print(80*\"-\")\n",
    "print(\"Tuple methods:\")\n",
    "print(dir(perfect_squares))"
   ]
  },
  {
   "cell_type": "code",
   "execution_count": 10,
   "metadata": {
    "collapsed": true
   },
   "outputs": [],
   "source": [
    "# Lists take more memory than Tuples\n",
    "import sys # we need the getsizeof method"
   ]
  },
  {
   "cell_type": "code",
   "execution_count": 11,
   "metadata": {
    "collapsed": false
   },
   "outputs": [
    {
     "name": "stdout",
     "output_type": "stream",
     "text": [
      "Help on built-in function getsizeof in module sys:\n",
      "\n",
      "getsizeof(...)\n",
      "    getsizeof(object, default) -> int\n",
      "    \n",
      "    Return the size of object in bytes.\n",
      "\n"
     ]
    }
   ],
   "source": [
    "help(sys.getsizeof)"
   ]
  },
  {
   "cell_type": "code",
   "execution_count": 13,
   "metadata": {
    "collapsed": false
   },
   "outputs": [
    {
     "name": "stdout",
     "output_type": "stream",
     "text": [
      "List size:  152\n",
      "Tuple size: 136\n"
     ]
    }
   ],
   "source": [
    "list_ex = [1,2,3,4,\"a\",\"b\",\"c\",[1,2], True, False, 3.14159]\n",
    "tuple_ex = (1,2,3,4,\"a\",\"b\",\"c\",[1,2], True, False, 3.14159)\n",
    "\n",
    "print(\"List size: \", sys.getsizeof(list_ex))\n",
    "print(\"Tuple size:\", sys.getsizeof(tuple_ex))"
   ]
  },
  {
   "cell_type": "code",
   "execution_count": 21,
   "metadata": {
    "collapsed": false
   },
   "outputs": [
    {
     "name": "stdout",
     "output_type": "stream",
     "text": [
      "List test:  0.7051237790001323\n",
      "Tuple test: 0.17974207799943542\n"
     ]
    }
   ],
   "source": [
    "import timeit\n",
    "\n",
    "list_test = timeit.timeit(stmt=\"[1,2,3,4]\",\n",
    "                  number=10000000)\n",
    "tuple_test = timeit.timeit(stmt=\"(1,2,3,4)\",\n",
    "                  number=10000000)\n",
    "\n",
    "print(\"List test: \", list_test)\n",
    "print(\"Tuple test:\", tuple_test)"
   ]
  },
  {
   "cell_type": "code",
   "execution_count": 22,
   "metadata": {
    "collapsed": false
   },
   "outputs": [
    {
     "name": "stdout",
     "output_type": "stream",
     "text": [
      "()\n",
      "a\n",
      "('a', 'b')\n",
      "('a', 'b', 'c')\n"
     ]
    }
   ],
   "source": [
    "tuple0 = ()\n",
    "tuple1 = (\"a\")\n",
    "tuple2 = (\"a\", \"b\")\n",
    "tuple3 = (\"a\", \"b\", \"c\")\n",
    "\n",
    "print(tuple0)\n",
    "print(tuple1) # String!\n",
    "print(tuple2)\n",
    "print(tuple3)"
   ]
  },
  {
   "cell_type": "code",
   "execution_count": 23,
   "metadata": {
    "collapsed": false
   },
   "outputs": [
    {
     "name": "stdout",
     "output_type": "stream",
     "text": [
      "()\n",
      "('a',)\n",
      "('a', 'b')\n",
      "('a', 'b', 'c')\n"
     ]
    }
   ],
   "source": [
    "tuple0 = ()\n",
    "tuple1 = (\"a\",) # Note the comma\n",
    "tuple2 = (\"a\", \"b\")\n",
    "tuple3 = (\"a\", \"b\", \"c\")\n",
    "\n",
    "print(tuple0)\n",
    "print(tuple1) # Now a tuple\n",
    "print(tuple2)\n",
    "print(tuple3)"
   ]
  },
  {
   "cell_type": "code",
   "execution_count": 25,
   "metadata": {
    "collapsed": false
   },
   "outputs": [
    {
     "name": "stdout",
     "output_type": "stream",
     "text": [
      "()\n",
      "('a',)\n",
      "('a', 'b')\n",
      "('a', 'b', 'c')\n"
     ]
    }
   ],
   "source": [
    "# tuple0 = () # Doesn't work for empty tuples\n",
    "tuple1 = \"a\", # Still, note the comma\n",
    "tuple2 = \"a\", \"b\"\n",
    "tuple3 = \"a\", \"b\", \"c\"\n",
    "\n",
    "print(tuple0)\n",
    "print(tuple1) # Now a tuple\n",
    "print(tuple2)\n",
    "print(tuple3)"
   ]
  },
  {
   "cell_type": "code",
   "execution_count": 30,
   "metadata": {
    "collapsed": false
   },
   "outputs": [
    {
     "name": "stdout",
     "output_type": "stream",
     "text": [
      "age: 27\n",
      "country: Sweden\n",
      "knows Python: True\n"
     ]
    }
   ],
   "source": [
    "# (age, country, knows_python)\n",
    "survey = (27, \"Sweden\", True)\n",
    "\n",
    "age = survey[0]\n",
    "country = survey[1]\n",
    "knows_python = survey[2]\n",
    "\n",
    "print(\"age:\", age)\n",
    "print(\"country:\", country)\n",
    "print(\"knows Python:\", knows_python)"
   ]
  },
  {
   "cell_type": "code",
   "execution_count": 32,
   "metadata": {
    "collapsed": false
   },
   "outputs": [
    {
     "name": "stdout",
     "output_type": "stream",
     "text": [
      "age: 29\n",
      "country: Canada\n",
      "knows Python: False\n"
     ]
    }
   ],
   "source": [
    "survey2 = (29, \"Canada\", False)\n",
    "age, country, knows_python = survey2\n",
    "\n",
    "print(\"age:\", age)\n",
    "print(\"country:\", country)\n",
    "print(\"knows Python:\", knows_python)"
   ]
  },
  {
   "cell_type": "code",
   "execution_count": 39,
   "metadata": {
    "collapsed": false
   },
   "outputs": [
    {
     "name": "stdout",
     "output_type": "stream",
     "text": [
      "Typeof country1: <class 'str'>    ...  Australia\n",
      "Typeof country2: <class 'tuple'>  ...  ('Australia',)\n"
     ]
    }
   ],
   "source": [
    "# Careful with single item tuples\n",
    "country1 = (\"Australia\") # String\n",
    "country2 = (\"Australia\", ) # Tuple\n",
    "\n",
    "print(\"Typeof country1:\", type(country1), \"   ... \", country1)\n",
    "print(\"Typeof country2:\", type(country2), \" ... \", country2)"
   ]
  },
  {
   "cell_type": "code",
   "execution_count": null,
   "metadata": {
    "collapsed": true
   },
   "outputs": [],
   "source": []
  }
 ],
 "metadata": {
  "kernelspec": {
   "display_name": "Python 3",
   "language": "python",
   "name": "python3"
  },
  "language_info": {
   "codemirror_mode": {
    "name": "ipython",
    "version": 3
   },
   "file_extension": ".py",
   "mimetype": "text/x-python",
   "name": "python",
   "nbconvert_exporter": "python",
   "pygments_lexer": "ipython3",
   "version": "3.6.0"
  }
 },
 "nbformat": 4,
 "nbformat_minor": 2
}
