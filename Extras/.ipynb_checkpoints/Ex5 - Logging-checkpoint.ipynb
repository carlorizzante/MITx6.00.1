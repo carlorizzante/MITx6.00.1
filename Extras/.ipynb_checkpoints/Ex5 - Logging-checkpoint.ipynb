{
 "cells": [
  {
   "cell_type": "code",
   "execution_count": 1,
   "metadata": {
    "collapsed": true
   },
   "outputs": [],
   "source": [
    "# Loggin\n",
    "# Purpose: record progress and problems...\n",
    "# Levels: Debug, Info, Warning, Error, Critical"
   ]
  },
  {
   "cell_type": "code",
   "execution_count": 2,
   "metadata": {
    "collapsed": false
   },
   "outputs": [
    {
     "name": "stdout",
     "output_type": "stream",
     "text": [
      "10\n"
     ]
    }
   ],
   "source": [
    "import logging\n",
    "# dir(logging)\n",
    "\n",
    "# Create and configure logger\n",
    "LOG_FORMAT = \"%(levelname)s %(asctime)s - %(message)s\"\n",
    "logging.basicConfig(filename = \"logs2.log\",\n",
    "                    level = logging.DEBUG,\n",
    "                    format = LOG_FORMAT,\n",
    "                    filemode = \"w\")\n",
    "\n",
    "# Create logger object\n",
    "logger = logging.getLogger()\n",
    "\n",
    "# Test logger\n",
    "logger.debug(\"This is a harmless debug message.\")\n",
    "logger.info(\"Just some useful info.\")\n",
    "logger.warning(\"I'm sorry but I can't do that, Dave.\")\n",
    "logger.error(\"Did you just try to divide by zero?\")\n",
    "logger.critical(\"I'm in holiday, see you next week.\")\n",
    "\n",
    "# Get logger level\n",
    "print(logger.level)"
   ]
  },
  {
   "cell_type": "code",
   "execution_count": null,
   "metadata": {
    "collapsed": true
   },
   "outputs": [],
   "source": []
  },
  {
   "cell_type": "code",
   "execution_count": null,
   "metadata": {
    "collapsed": true
   },
   "outputs": [],
   "source": []
  }
 ],
 "metadata": {
  "kernelspec": {
   "display_name": "Python 3",
   "language": "python",
   "name": "python3"
  },
  "language_info": {
   "codemirror_mode": {
    "name": "ipython",
    "version": 3
   },
   "file_extension": ".py",
   "mimetype": "text/x-python",
   "name": "python",
   "nbconvert_exporter": "python",
   "pygments_lexer": "ipython3",
   "version": "3.6.0"
  }
 },
 "nbformat": 4,
 "nbformat_minor": 2
}
