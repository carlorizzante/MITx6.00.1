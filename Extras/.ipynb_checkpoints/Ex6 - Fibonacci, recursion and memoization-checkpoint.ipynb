{
 "cells": [
  {
   "cell_type": "code",
   "execution_count": 8,
   "metadata": {
    "collapsed": true
   },
   "outputs": [],
   "source": [
    "def fibonacci(n):\n",
    "    if n <= 2:\n",
    "        return 1\n",
    "    else:\n",
    "        return fibonacci(n-1) + fibonacci(n-2)"
   ]
  },
  {
   "cell_type": "code",
   "execution_count": 10,
   "metadata": {
    "collapsed": false
   },
   "outputs": [
    {
     "name": "stdout",
     "output_type": "stream",
     "text": [
      "1  -  1\n",
      "2  -  1\n",
      "3  -  2\n",
      "4  -  3\n",
      "5  -  5\n",
      "6  -  8\n",
      "7  -  13\n",
      "8  -  21\n",
      "9  -  34\n"
     ]
    }
   ],
   "source": [
    "for n in (range(1, 10)):\n",
    "    print(n, \" - \", fibonacci(n))"
   ]
  },
  {
   "cell_type": "code",
   "execution_count": 17,
   "metadata": {
    "collapsed": true
   },
   "outputs": [],
   "source": [
    "fibonacci_cache = {}\n",
    "\n",
    "def fibonacci_cached(n):\n",
    "    # If cached value is been calculated, return it\n",
    "    if n in fibonacci_cache:\n",
    "        return fibonacci_cache[n]\n",
    "    \n",
    "    # Else, compute value for n\n",
    "    elif n <= 2:\n",
    "        value = 1\n",
    "    else:\n",
    "        value = fibonacci_cached(n-1) + fibonacci_cached(n-2)\n",
    "    \n",
    "    # Finally store value into cache, and return it\n",
    "    fibonacci_cache[n] = value\n",
    "    return value"
   ]
  },
  {
   "cell_type": "code",
   "execution_count": 22,
   "metadata": {
    "collapsed": false
   },
   "outputs": [
    {
     "name": "stdout",
     "output_type": "stream",
     "text": [
      "1  -  1\n",
      "2  -  1\n",
      "3  -  2\n",
      "4  -  3\n",
      "5  -  5\n",
      "6  -  8\n",
      "7  -  13\n",
      "8  -  21\n",
      "9  -  34\n",
      "101  -  573147844013817084101\n"
     ]
    }
   ],
   "source": [
    "for n in (range(1, 10)):\n",
    "    print(n, \" - \", fibonacci_cached(n))\n",
    "    \n",
    "n = 101\n",
    "print(n, \" - \", fibonacci_cached(n))"
   ]
  },
  {
   "cell_type": "code",
   "execution_count": 25,
   "metadata": {
    "collapsed": false
   },
   "outputs": [
    {
     "name": "stdout",
     "output_type": "stream",
     "text": [
      "1  -  1\n",
      "2  -  1\n",
      "3  -  2\n",
      "4  -  3\n",
      "5  -  5\n",
      "6  -  8\n",
      "7  -  13\n",
      "8  -  21\n",
      "9  -  34\n",
      "101  -  573147844013817084101\n"
     ]
    }
   ],
   "source": [
    "from functools import lru_cache\n",
    "\n",
    "@lru_cache(maxsize = 1000)\n",
    "def fibonacci_lru(n):\n",
    "    if n <= 2:\n",
    "        return 1\n",
    "    else:\n",
    "        return fibonacci_lru(n-1) + fibonacci_lru(n-2)\n",
    "\n",
    "for n in range(1, 10):\n",
    "    print(n, \" - \", fibonacci_lru(n))\n",
    "print(101, \" - \", fibonacci_lru(101))"
   ]
  },
  {
   "cell_type": "code",
   "execution_count": 26,
   "metadata": {
    "collapsed": true
   },
   "outputs": [],
   "source": [
    "@lru_cache(maxsize = 1000)\n",
    "def fibonacci_safe(n):\n",
    "    # Validate argument\n",
    "    if type(n) != \"int\":\n",
    "        raise TypeError(\"n must be a positive int.\")\n",
    "    elif n < 1:\n",
    "        raise TypeError(\"n must be a positive int.\")"
   ]
  },
  {
   "cell_type": "code",
   "execution_count": 32,
   "metadata": {
    "collapsed": false
   },
   "outputs": [],
   "source": [
    "# fibonacci_safe(\"101\")"
   ]
  },
  {
   "cell_type": "code",
   "execution_count": 33,
   "metadata": {
    "collapsed": false
   },
   "outputs": [],
   "source": [
    "# fibonacci_safe(2.1)"
   ]
  },
  {
   "cell_type": "code",
   "execution_count": 37,
   "metadata": {
    "collapsed": false
   },
   "outputs": [
    {
     "name": "stdout",
     "output_type": "stream",
     "text": [
      "1.0\n",
      "2.0\n",
      "1.5\n",
      "1.6666666666666667\n",
      "1.6\n",
      "1.625\n",
      "1.6153846153846154\n",
      "1.619047619047619\n",
      "1.6176470588235294\n",
      "1.6181818181818182\n",
      "1.6179775280898876\n",
      "1.6180555555555556\n",
      "1.6180257510729614\n",
      "1.6180371352785146\n",
      "1.618032786885246\n",
      "1.618034447821682\n",
      "1.6180338134001253\n",
      "1.618034055727554\n",
      "1.6180339631667064\n",
      "1.6180339985218033\n",
      "1.618033985017358\n",
      "1.6180339901755971\n",
      "1.618033988205325\n",
      "1.618033988957902\n",
      "1.6180339886704431\n",
      "1.6180339887802426\n",
      "1.618033988738303\n",
      "1.6180339887543225\n",
      "1.6180339887482036\n",
      "1.6180339887505408\n",
      "1.6180339887496482\n",
      "1.618033988749989\n",
      "1.618033988749859\n",
      "1.6180339887499087\n",
      "1.6180339887498896\n",
      "1.618033988749897\n",
      "1.618033988749894\n",
      "1.6180339887498951\n",
      "1.6180339887498947\n",
      "1.618033988749895\n",
      "1.618033988749895\n",
      "1.618033988749895\n",
      "1.618033988749895\n",
      "1.618033988749895\n",
      "1.618033988749895\n",
      "1.618033988749895\n",
      "1.618033988749895\n",
      "1.618033988749895\n",
      "1.618033988749895\n",
      "1.618033988749895\n"
     ]
    }
   ],
   "source": [
    "# Ratio between adjacent numbers\n",
    "for n in range(1, 51):\n",
    "    print((fibonacci_lru(n+1) / fibonacci_lru(n)))"
   ]
  },
  {
   "cell_type": "code",
   "execution_count": null,
   "metadata": {
    "collapsed": true
   },
   "outputs": [],
   "source": []
  }
 ],
 "metadata": {
  "kernelspec": {
   "display_name": "Python 3",
   "language": "python",
   "name": "python3"
  },
  "language_info": {
   "codemirror_mode": {
    "name": "ipython",
    "version": 3
   },
   "file_extension": ".py",
   "mimetype": "text/x-python",
   "name": "python",
   "nbconvert_exporter": "python",
   "pygments_lexer": "ipython3",
   "version": "3.6.0"
  }
 },
 "nbformat": 4,
 "nbformat_minor": 2
}
