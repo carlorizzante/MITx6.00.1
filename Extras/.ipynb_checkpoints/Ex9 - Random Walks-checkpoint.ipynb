{
 "cells": [
  {
   "cell_type": "code",
   "execution_count": 1,
   "metadata": {
    "collapsed": true
   },
   "outputs": [],
   "source": [
    "import random\n",
    "\n",
    "def random_walk(n):\n",
    "    \"\"\"Returns distance after 'n' block random walk.\"\"\"\n",
    "    \n",
    "    # Initial positions\n",
    "    x = 0\n",
    "    y = 0\n",
    "    \n",
    "    # Walk n times\n",
    "    for i in range(n):\n",
    "        step = random.choice([\"North\", \"South\", \"East\", \"West\"])\n",
    "        if step == \"North\":\n",
    "            y += 1\n",
    "        elif step == \"South\":\n",
    "            y -= 1\n",
    "        elif step == \"East\":\n",
    "            x -= 1\n",
    "        elif step == \"West\":\n",
    "            x += 1\n",
    "    \n",
    "    # Walk is over, return coordinates\n",
    "    return (x, y)"
   ]
  },
  {
   "cell_type": "code",
   "execution_count": 3,
   "metadata": {
    "collapsed": false
   },
   "outputs": [
    {
     "name": "stdout",
     "output_type": "stream",
     "text": [
      "(0, 2) Distance from home =  2\n",
      "(0, -2) Distance from home =  2\n",
      "(0, 0) Distance from home =  0\n",
      "(1, -3) Distance from home =  4\n",
      "(1, -1) Distance from home =  2\n",
      "(-2, -2) Distance from home =  4\n",
      "(1, 1) Distance from home =  2\n",
      "(1, 1) Distance from home =  2\n",
      "(6, -2) Distance from home =  8\n",
      "(-1, 7) Distance from home =  8\n",
      "(0, -2) Distance from home =  2\n",
      "(-2, 2) Distance from home =  4\n",
      "(2, -2) Distance from home =  4\n",
      "(0, -2) Distance from home =  2\n",
      "(1, 1) Distance from home =  2\n",
      "(-2, 0) Distance from home =  2\n",
      "(3, -3) Distance from home =  6\n",
      "(2, -4) Distance from home =  6\n",
      "(-1, 1) Distance from home =  2\n",
      "(0, -2) Distance from home =  2\n",
      "(2, 0) Distance from home =  2\n",
      "(3, -1) Distance from home =  4\n",
      "(3, -1) Distance from home =  4\n",
      "(-5, 3) Distance from home =  8\n",
      "(-2, 0) Distance from home =  2\n"
     ]
    }
   ],
   "source": [
    "for i in range(25):\n",
    "    walk = random_walk(10)\n",
    "    print(walk, \"Distance from home = \", abs(walk[0]) + abs(walk[1]))"
   ]
  },
  {
   "cell_type": "code",
   "execution_count": 7,
   "metadata": {
    "collapsed": true
   },
   "outputs": [],
   "source": [
    "def random_walk_2(n):\n",
    "    \"\"\"Returns coordinates after 'n' block random walk.\"\"\"\n",
    "    \n",
    "    # Initial positions\n",
    "    x, y = 0, 0\n",
    "    \n",
    "    # Walk n times\n",
    "    for i in range(n):\n",
    "        (dx, dy) = random.choice(((0, 1), (0, -1), (1, 0), (-1, 0)))\n",
    "        x += dx\n",
    "        y += dy\n",
    "    \n",
    "    # Return result\n",
    "    return (x, y)"
   ]
  },
  {
   "cell_type": "code",
   "execution_count": 8,
   "metadata": {
    "collapsed": false
   },
   "outputs": [
    {
     "name": "stdout",
     "output_type": "stream",
     "text": [
      "(0, -2) Distance from home =  2\n",
      "(-1, -1) Distance from home =  2\n",
      "(0, 2) Distance from home =  2\n",
      "(0, 0) Distance from home =  0\n",
      "(-1, 1) Distance from home =  2\n",
      "(0, 2) Distance from home =  2\n",
      "(4, 2) Distance from home =  6\n",
      "(-1, -1) Distance from home =  2\n",
      "(-1, 1) Distance from home =  2\n",
      "(2, 2) Distance from home =  4\n",
      "(3, -1) Distance from home =  4\n",
      "(-1, 1) Distance from home =  2\n",
      "(2, 0) Distance from home =  2\n",
      "(-6, 4) Distance from home =  10\n",
      "(0, 2) Distance from home =  2\n",
      "(-3, 3) Distance from home =  6\n",
      "(-4, -2) Distance from home =  6\n",
      "(3, 1) Distance from home =  4\n",
      "(-2, 0) Distance from home =  2\n",
      "(-1, -1) Distance from home =  2\n",
      "(-1, -1) Distance from home =  2\n",
      "(0, -2) Distance from home =  2\n",
      "(2, -2) Distance from home =  4\n",
      "(-1, -1) Distance from home =  2\n",
      "(-1, -5) Distance from home =  6\n"
     ]
    }
   ],
   "source": [
    "for i in range(25):\n",
    "    walk = random_walk_2(10)\n",
    "    print(walk, \"Distance from home = \", abs(walk[0]) + abs(walk[1]))"
   ]
  },
  {
   "cell_type": "code",
   "execution_count": 12,
   "metadata": {
    "collapsed": false
   },
   "outputs": [
    {
     "name": "stdout",
     "output_type": "stream",
     "text": [
      "Walk size =  1  / % of no transport =  100.0\n",
      "Walk size =  2  / % of no transport =  100.0\n",
      "Walk size =  3  / % of no transport =  100.0\n",
      "Walk size =  4  / % of no transport =  100.0\n",
      "Walk size =  5  / % of no transport =  88.17\n",
      "Walk size =  6  / % of no transport =  93.97999999999999\n",
      "Walk size =  7  / % of no transport =  76.37666666666667\n",
      "Walk size =  8  / % of no transport =  86.2\n",
      "Walk size =  9  / % of no transport =  66.95333333333333\n",
      "Walk size =  10  / % of no transport =  79.23666666666666\n",
      "Walk size =  11  / % of no transport =  59.60666666666666\n",
      "Walk size =  12  / % of no transport =  72.7\n",
      "Walk size =  13  / % of no transport =  53.96666666666666\n",
      "Walk size =  14  / % of no transport =  67.27666666666666\n",
      "Walk size =  15  / % of no transport =  48.58\n",
      "Walk size =  16  / % of no transport =  62.486666666666665\n",
      "Walk size =  17  / % of no transport =  44.763333333333335\n",
      "Walk size =  18  / % of no transport =  58.10999999999999\n",
      "Walk size =  19  / % of no transport =  40.93666666666667\n",
      "Walk size =  20  / % of no transport =  53.94\n",
      "Walk size =  21  / % of no transport =  37.64333333333333\n",
      "Walk size =  22  / % of no transport =  50.77666666666667\n",
      "Walk size =  23  / % of no transport =  35.593333333333334\n",
      "Walk size =  24  / % of no transport =  47.88333333333333\n",
      "Walk size =  25  / % of no transport =  33.650000000000006\n",
      "Walk size =  26  / % of no transport =  45.763333333333335\n",
      "Walk size =  27  / % of no transport =  31.056666666666665\n",
      "Walk size =  28  / % of no transport =  42.74\n",
      "Walk size =  29  / % of no transport =  29.286666666666665\n",
      "Walk size =  30  / % of no transport =  40.946666666666665\n"
     ]
    }
   ],
   "source": [
    "# Monte Carlo simulation\n",
    "# Calc the optimal n of walk for a 50% chance to not end up 4 blocks away\n",
    "\n",
    "# Simulate 10.000 times each n walk\n",
    "number_of_walks = 30000\n",
    "\n",
    "# Calc from 1 to 30\n",
    "for walk_length in range(1, 31):\n",
    "    # reset the counter\n",
    "    no_transport = 0\n",
    "    for i in range(number_of_walks):\n",
    "        (x, y) = random_walk_2(walk_length)\n",
    "        distance = abs(x) + abs(y)\n",
    "        # If distance less than 5, increment counter\n",
    "        if distance <= 4:\n",
    "            no_transport += 1\n",
    "    # Calc % of no transport over all walks\n",
    "    no_transport_percentage = float(no_transport) / number_of_walks\n",
    "    # Print out the result for this walk\n",
    "    print(\"Walk size = \", walk_length, \" / % of no transport = \", 100*no_transport_percentage)"
   ]
  },
  {
   "cell_type": "code",
   "execution_count": null,
   "metadata": {
    "collapsed": true
   },
   "outputs": [],
   "source": []
  }
 ],
 "metadata": {
  "kernelspec": {
   "display_name": "Python 3",
   "language": "python",
   "name": "python3"
  },
  "language_info": {
   "codemirror_mode": {
    "name": "ipython",
    "version": 3
   },
   "file_extension": ".py",
   "mimetype": "text/x-python",
   "name": "python",
   "nbconvert_exporter": "python",
   "pygments_lexer": "ipython3",
   "version": "3.6.0"
  }
 },
 "nbformat": 4,
 "nbformat_minor": 2
}
