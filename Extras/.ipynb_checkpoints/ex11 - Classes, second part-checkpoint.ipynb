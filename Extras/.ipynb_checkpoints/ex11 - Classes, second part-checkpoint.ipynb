{
 "cells": [
  {
   "cell_type": "code",
   "execution_count": 32,
   "metadata": {
    "collapsed": true
   },
   "outputs": [],
   "source": [
    "import datetime\n",
    "\n",
    "class User:\n",
    "    \"\"\"A member of FriendFace. For now we are\n",
    "    only storing their name and birthday.\n",
    "    But soon we will store an uncomfortable\n",
    "    amount of user information.\"\"\"\n",
    "    def __init__(self, full_name, birthday):\n",
    "        self.name = full_name\n",
    "        self.birthday = birthday # yyyymmdd\n",
    "        \n",
    "        # Extract first and last names\n",
    "        name_pieces = full_name.split(\" \")\n",
    "        self.first_name = name_pieces[0]\n",
    "        self.last_name = name_pieces[-1]\n",
    "    \n",
    "    def age(self):\n",
    "        \"\"\"Returns the age of the user in years\"\"\"\n",
    "        today = datetime.date(2001, 5, 12) # Assume same date for everyone testing the code\n",
    "        yyyy = int(self.birthday[0:4])\n",
    "        mm   = int(self.birthday[4:6])\n",
    "        dd   = int(self.birthday[6:8])\n",
    "#         print(yyyy,mm,dd)\n",
    "        dob = datetime.date(yyyy, mm, dd) # Date of birth\n",
    "        age_in_days = (today - dob).days\n",
    "#         print(age_in_days)\n",
    "        age_in_years = age_in_days / 365\n",
    "#         print(age_in_years)\n",
    "        return int(age_in_years)"
   ]
  },
  {
   "cell_type": "code",
   "execution_count": 33,
   "metadata": {
    "collapsed": false
   },
   "outputs": [
    {
     "name": "stdout",
     "output_type": "stream",
     "text": [
      "David Bowman 19710315\n",
      "David Bowman 19710315\n"
     ]
    }
   ],
   "source": [
    "user1 = User(\"David Bowman\", \"19710315\")\n",
    "print(user1.name, user1.birthday)\n",
    "print(user1.first_name, user1.last_name, user1.birthday)"
   ]
  },
  {
   "cell_type": "code",
   "execution_count": 36,
   "metadata": {
    "collapsed": false
   },
   "outputs": [
    {
     "name": "stdout",
     "output_type": "stream",
     "text": [
      "Help on class User in module __main__:\n",
      "\n",
      "class User(builtins.object)\n",
      " |  A member of FriendFace. For now we are\n",
      " |  only storing their name and birthday.\n",
      " |  But soon we will store an uncomfortable\n",
      " |  amount of user information.\n",
      " |  \n",
      " |  Methods defined here:\n",
      " |  \n",
      " |  __init__(self, full_name, birthday)\n",
      " |      Initialize self.  See help(type(self)) for accurate signature.\n",
      " |  \n",
      " |  age(self)\n",
      " |      Returns the age of the user in years\n",
      " |  \n",
      " |  ----------------------------------------------------------------------\n",
      " |  Data descriptors defined here:\n",
      " |  \n",
      " |  __dict__\n",
      " |      dictionary for instance variables (if defined)\n",
      " |  \n",
      " |  __weakref__\n",
      " |      list of weak references to the object (if defined)\n",
      "\n"
     ]
    }
   ],
   "source": [
    "help(User)"
   ]
  },
  {
   "cell_type": "code",
   "execution_count": 35,
   "metadata": {
    "collapsed": false
   },
   "outputs": [
    {
     "data": {
      "text/plain": [
       "30"
      ]
     },
     "execution_count": 35,
     "metadata": {},
     "output_type": "execute_result"
    }
   ],
   "source": [
    "user1.age()"
   ]
  },
  {
   "cell_type": "code",
   "execution_count": null,
   "metadata": {
    "collapsed": true
   },
   "outputs": [],
   "source": []
  }
 ],
 "metadata": {
  "kernelspec": {
   "display_name": "Python 3",
   "language": "python",
   "name": "python3"
  },
  "language_info": {
   "codemirror_mode": {
    "name": "ipython",
    "version": 3
   },
   "file_extension": ".py",
   "mimetype": "text/x-python",
   "name": "python",
   "nbconvert_exporter": "python",
   "pygments_lexer": "ipython3",
   "version": "3.6.0"
  }
 },
 "nbformat": 4,
 "nbformat_minor": 2
}
