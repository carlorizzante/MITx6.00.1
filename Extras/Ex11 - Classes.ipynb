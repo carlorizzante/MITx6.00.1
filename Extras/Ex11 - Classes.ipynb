{
 "cells": [
  {
   "cell_type": "code",
   "execution_count": 1,
   "metadata": {
    "collapsed": true
   },
   "outputs": [],
   "source": [
    "class User:\n",
    "    pass"
   ]
  },
  {
   "cell_type": "code",
   "execution_count": 4,
   "metadata": {
    "collapsed": false
   },
   "outputs": [
    {
     "name": "stdout",
     "output_type": "stream",
     "text": [
      "Dave Bowman\n"
     ]
    }
   ],
   "source": [
    "user1 = User()\n",
    "user1.first_name = \"Dave\"\n",
    "user1.last_name = \"Bowman\"\n",
    "print(user1.first_name, user1.last_name)"
   ]
  },
  {
   "cell_type": "code",
   "execution_count": 5,
   "metadata": {
    "collapsed": false
   },
   "outputs": [
    {
     "name": "stdout",
     "output_type": "stream",
     "text": [
      "Arthur Clarke\n"
     ]
    }
   ],
   "source": [
    "first_name = \"Arthur\"\n",
    "last_name = \"Clarke\"\n",
    "print(first_name, last_name)"
   ]
  },
  {
   "cell_type": "code",
   "execution_count": 6,
   "metadata": {
    "collapsed": false
   },
   "outputs": [
    {
     "name": "stdout",
     "output_type": "stream",
     "text": [
      "Frank Poole\n"
     ]
    }
   ],
   "source": [
    "user2 = User()\n",
    "user2.first_name = \"Frank\"\n",
    "user2.last_name = \"Poole\"\n",
    "print(user2.first_name, user2.last_name)"
   ]
  },
  {
   "cell_type": "code",
   "execution_count": 7,
   "metadata": {
    "collapsed": false
   },
   "outputs": [
    {
     "name": "stdout",
     "output_type": "stream",
     "text": [
      "Dave Bowman\n",
      "Arthur Clarke\n",
      "Frank Poole\n"
     ]
    }
   ],
   "source": [
    "print(user1.first_name, user1.last_name)\n",
    "print(first_name, last_name)\n",
    "print(user2.first_name, user2.last_name)"
   ]
  },
  {
   "cell_type": "code",
   "execution_count": 8,
   "metadata": {
    "collapsed": true
   },
   "outputs": [],
   "source": [
    "user1.age = 37\n",
    "user2.favorite_book = \"2001: A Space Odissey\""
   ]
  },
  {
   "cell_type": "code",
   "execution_count": null,
   "metadata": {
    "collapsed": true
   },
   "outputs": [],
   "source": []
  }
 ],
 "metadata": {
  "kernelspec": {
   "display_name": "Python 3",
   "language": "python",
   "name": "python3"
  },
  "language_info": {
   "codemirror_mode": {
    "name": "ipython",
    "version": 3
   },
   "file_extension": ".py",
   "mimetype": "text/x-python",
   "name": "python",
   "nbconvert_exporter": "python",
   "pygments_lexer": "ipython3",
   "version": "3.6.0"
  }
 },
 "nbformat": 4,
 "nbformat_minor": 2
}
