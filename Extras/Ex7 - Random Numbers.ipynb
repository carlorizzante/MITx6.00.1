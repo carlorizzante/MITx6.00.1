{
 "cells": [
  {
   "cell_type": "code",
   "execution_count": 3,
   "metadata": {
    "collapsed": false
   },
   "outputs": [],
   "source": [
    "import random\n",
    "# dir(random)"
   ]
  },
  {
   "cell_type": "code",
   "execution_count": 9,
   "metadata": {
    "collapsed": false
   },
   "outputs": [
    {
     "name": "stdout",
     "output_type": "stream",
     "text": [
      "0.8769205861191953\n",
      "0.8846102054507353\n",
      "0.00046118755386459487\n",
      "0.4283681075586926\n",
      "0.054244756621628865\n",
      "0.41175890110316493\n",
      "0.37532013010228993\n",
      "0.20009158852173736\n",
      "0.9806428417779813\n",
      "0.9385179598852723\n"
     ]
    }
   ],
   "source": [
    "for i in range(10):\n",
    "    print(random.random())"
   ]
  },
  {
   "cell_type": "code",
   "execution_count": 12,
   "metadata": {
    "collapsed": false
   },
   "outputs": [
    {
     "name": "stdout",
     "output_type": "stream",
     "text": [
      "4.951828249804617\n",
      "6.62337277441149\n",
      "4.106066747760753\n",
      "5.280433176050343\n",
      "4.827541388045778\n",
      "6.041357933542285\n",
      "3.290184496278543\n",
      "3.774139939759617\n",
      "4.145367162391956\n",
      "5.842193722754393\n"
     ]
    }
   ],
   "source": [
    "# Generate random numbers [3, 7)\n",
    "\n",
    "def gen_random():\n",
    "    # Generate random number [0, 1)\n",
    "    val = random.random()\n",
    "    \n",
    "    # Scale up to 4 [0, 4)\n",
    "    val *= 4\n",
    "    \n",
    "    # Translate value 3 units to the right [3, 7)\n",
    "    val += 3\n",
    "    return val\n",
    "\n",
    "for i in range(10):\n",
    "    print(gen_random())"
   ]
  },
  {
   "cell_type": "code",
   "execution_count": 21,
   "metadata": {
    "collapsed": true
   },
   "outputs": [],
   "source": [
    "def gen_random(n1, n2):\n",
    "    return (n2 - n1) * random.random() + n1"
   ]
  },
  {
   "cell_type": "code",
   "execution_count": 25,
   "metadata": {
    "collapsed": false
   },
   "outputs": [
    {
     "name": "stdout",
     "output_type": "stream",
     "text": [
      "5.846298787435874\n",
      "6.0016872083671515\n",
      "5.178649340979999\n",
      "6.569895348395574\n",
      "3.7384678429930664\n",
      "3.074451402667906\n",
      "6.0595536630223785\n",
      "3.1766250357989216\n",
      "3.0191062135029836\n",
      "6.631170373436845\n"
     ]
    }
   ],
   "source": [
    "for i in range(10):\n",
    "    print(gen_random(3, 7))"
   ]
  },
  {
   "cell_type": "code",
   "execution_count": 26,
   "metadata": {
    "collapsed": false
   },
   "outputs": [
    {
     "name": "stdout",
     "output_type": "stream",
     "text": [
      "0.4945921653799379\n",
      "1.5365375079554828\n",
      "-0.9995226925996246\n",
      "-0.11335011587974775\n",
      "0.7196020421742273\n",
      "-0.36071694237089824\n",
      "0.4852499988618301\n",
      "0.3777927072464959\n",
      "-1.6348282073716858\n",
      "-1.163583759455802\n"
     ]
    }
   ],
   "source": [
    "# Bell curve, normal distribution\n",
    "for i in range(10):\n",
    "    print(random.normalvariate(0, 1))"
   ]
  },
  {
   "cell_type": "code",
   "execution_count": 28,
   "metadata": {
    "collapsed": false
   },
   "outputs": [
    {
     "name": "stdout",
     "output_type": "stream",
     "text": [
      "6\n",
      "1\n",
      "4\n",
      "4\n",
      "5\n",
      "2\n",
      "3\n",
      "2\n",
      "6\n",
      "3\n"
     ]
    }
   ],
   "source": [
    "# Random integers\n",
    "for i in range(10):\n",
    "    print(random.randint(1,6))"
   ]
  },
  {
   "cell_type": "code",
   "execution_count": 29,
   "metadata": {
    "collapsed": false
   },
   "outputs": [
    {
     "name": "stdout",
     "output_type": "stream",
     "text": [
      "scissors\n",
      "paper\n",
      "rock\n",
      "rock\n",
      "paper\n",
      "scissors\n",
      "paper\n",
      "rock\n",
      "rock\n",
      "scissors\n"
     ]
    }
   ],
   "source": [
    "# Random items from a list\n",
    "options = [\"paper\", \"rock\", \"scissors\"]\n",
    "for i in range(10):\n",
    "    print(random.choice(options))"
   ]
  },
  {
   "cell_type": "code",
   "execution_count": null,
   "metadata": {
    "collapsed": true
   },
   "outputs": [],
   "source": []
  }
 ],
 "metadata": {
  "kernelspec": {
   "display_name": "Python 3",
   "language": "python",
   "name": "python3"
  },
  "language_info": {
   "codemirror_mode": {
    "name": "ipython",
    "version": 3
   },
   "file_extension": ".py",
   "mimetype": "text/x-python",
   "name": "python",
   "nbconvert_exporter": "python",
   "pygments_lexer": "ipython3",
   "version": "3.6.0"
  }
 },
 "nbformat": 4,
 "nbformat_minor": 2
}
