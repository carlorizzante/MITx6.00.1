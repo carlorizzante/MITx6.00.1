{
 "cells": [
  {
   "cell_type": "code",
   "execution_count": 3,
   "metadata": {
    "collapsed": false
   },
   "outputs": [
    {
     "name": "stdout",
     "output_type": "stream",
     "text": [
      "['Dialect', 'DictReader', 'DictWriter', 'Error', 'OrderedDict', 'QUOTE_ALL', 'QUOTE_MINIMAL', 'QUOTE_NONE', 'QUOTE_NONNUMERIC', 'Sniffer', 'StringIO', '_Dialect', '__all__', '__builtins__', '__cached__', '__doc__', '__file__', '__loader__', '__name__', '__package__', '__spec__', '__version__', 'excel', 'excel_tab', 'field_size_limit', 'get_dialect', 'list_dialects', 're', 'reader', 'register_dialect', 'unix_dialect', 'unregister_dialect', 'writer']\n"
     ]
    }
   ],
   "source": [
    "from datetime import datetime\n",
    "\n",
    "import csv\n",
    "print(dir(csv))"
   ]
  },
  {
   "cell_type": "code",
   "execution_count": 17,
   "metadata": {
    "collapsed": false
   },
   "outputs": [
    {
     "name": "stdout",
     "output_type": "stream",
     "text": [
      "['Date', 'Open', 'High', 'Low', 'Close', 'Volume', 'Adj Close']\n",
      "['8/19/2014', '585.002622', '587.342658', '584.002627', '586.862643', '978600', '586.862643']\n"
     ]
    }
   ],
   "source": [
    "path = \"google.csv\"\n",
    "file = open(path, newline=\"\")\n",
    "\n",
    "reader = csv.reader(file)\n",
    "\n",
    "# First line is the header\n",
    "header = next(reader)\n",
    "\n",
    "# Read the rest of the lines\n",
    "# data = [row for row in reader]\n",
    "\n",
    "print(header)\n",
    "print(data[0])"
   ]
  },
  {
   "cell_type": "code",
   "execution_count": 5,
   "metadata": {
    "collapsed": false
   },
   "outputs": [
    {
     "name": "stdout",
     "output_type": "stream",
     "text": [
      "[datetime.datetime(2014, 8, 19, 0, 0), 585.002622, 587.342658, 584.002627, 586.862643, 978600, 586.862643]\n"
     ]
    }
   ],
   "source": [
    "# Better way of reading lines\n",
    "\n",
    "path = \"google.csv\"\n",
    "file = open(path, newline=\"\")\n",
    "\n",
    "reader = csv.reader(file)\n",
    "\n",
    "# First line is the header\n",
    "header = next(reader)\n",
    "\n",
    "dataset = []\n",
    "for row in reader:\n",
    "    # row is [Date, Open, High, Low, Close, Volume, Adj. Close]\n",
    "    #         date  float float float float int     float\n",
    "    date = datetime.strptime(row[0], \"%m/%d/%Y\")\n",
    "    open_price = float(row[1])\n",
    "    high = float(row[2])\n",
    "    low = float(row[3])\n",
    "    close = float(row[4])\n",
    "    volume = int(row[5])\n",
    "    adj_close = float(row[6])\n",
    "    dataset.append([date, open_price, high, low, close, volume, adj_close])\n",
    "\n",
    "print(dataset[0])\n",
    "    "
   ]
  },
  {
   "cell_type": "code",
   "execution_count": 14,
   "metadata": {
    "collapsed": false
   },
   "outputs": [],
   "source": [
    "# Compute and return daily stock returns\n",
    "returns_path = \"google_returns.csv\"\n",
    "file = open(returns_path, \"w\")\n",
    "writer = csv.writer(file)\n",
    "writer.writerow([\"Date\", \"Return\"])\n",
    "\n",
    "for i in range(len(dataset) - 1):\n",
    "    todays_row = dataset[i]\n",
    "    todays_date = todays_row[0]\n",
    "    todays_price = todays_row[-1]\n",
    "    yesterdays_row = dataset[i+1]\n",
    "    yesterdays_price = yesterdays_row[-1]\n",
    "    \n",
    "    daily_return = (todays_price - yesterdays_price) / yesterdays_price\n",
    "    formatted_date = todays_date.strftime(\"%Y/%m/%d\")\n",
    "    writer.writerow([formatted_date, daily_return])"
   ]
  },
  {
   "cell_type": "code",
   "execution_count": null,
   "metadata": {
    "collapsed": true
   },
   "outputs": [],
   "source": []
  },
  {
   "cell_type": "code",
   "execution_count": null,
   "metadata": {
    "collapsed": true
   },
   "outputs": [],
   "source": []
  }
 ],
 "metadata": {
  "kernelspec": {
   "display_name": "Python 3",
   "language": "python",
   "name": "python3"
  },
  "language_info": {
   "codemirror_mode": {
    "name": "ipython",
    "version": 3
   },
   "file_extension": ".py",
   "mimetype": "text/x-python",
   "name": "python",
   "nbconvert_exporter": "python",
   "pygments_lexer": "ipython3",
   "version": "3.6.0"
  }
 },
 "nbformat": 4,
 "nbformat_minor": 2
}
