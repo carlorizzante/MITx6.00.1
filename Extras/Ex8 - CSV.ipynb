{
 "cells": [
  {
   "cell_type": "code",
   "execution_count": 7,
   "metadata": {
    "collapsed": false
   },
   "outputs": [
    {
     "name": "stdout",
     "output_type": "stream",
     "text": [
      "0 : Date,Open,High,Low,Close,Volume,Adj Close\n",
      "\n",
      "1 : 8/19/2014,585.002622,587.342658,584.002627,586.862643,978600,586.862643\n",
      "\n",
      "2 : 8/18/2014,576.11258,584.512631,576.002598,582.162619,1284100,582.162619\n",
      "\n",
      "3 : 8/15/2014,577.862619,579.382595,570.522603,573.482626,1519100,573.482626\n",
      "\n",
      "4 : 8/14/2014,576.182596,577.902645,570.882599,574.652582,985400,574.652582\n",
      "\n",
      "5 : 8/13/2014,567.312567,575.002602,565.752564,574.782577,1439200,574.782577\n",
      "\n",
      "6 : 8/12/2014,564.522567,565.902572,560.882518,562.732562,1542000,562.732562\n",
      "\n",
      "7 : 8/11/2014,569.992585,570.492553,566.002578,567.882551,1214700,567.882551\n",
      "\n",
      "8 : 8/8/2014,563.562536,570.252576,560.352561,568.772565,1494700,568.772565\n",
      "\n",
      "9 : 8/7/2014,568.00257,569.89258,561.102543,563.362525,1110900,563.362525\n",
      "\n"
     ]
    }
   ],
   "source": [
    "path = \"google.csv\"\n",
    "file = open(path)\n",
    "i = 0\n",
    "for line in file:\n",
    "    if i < 10:\n",
    "        print(i, \":\", line)\n",
    "        i += 1\n",
    "    else:\n",
    "        break"
   ]
  },
  {
   "cell_type": "code",
   "execution_count": 10,
   "metadata": {
    "collapsed": false
   },
   "outputs": [
    {
     "name": "stdout",
     "output_type": "stream",
     "text": [
      "Date,Open,High,Low,Close,Volume,Adj Close\n",
      "\n",
      "8/19/2014,585.002622,587.342658,584.002627,586.862643,978600,586.862643\n",
      "\n"
     ]
    }
   ],
   "source": [
    "# Read file using list comprehension\n",
    "lines = [line for line in open(path)]\n",
    "\n",
    "print(lines[0])\n",
    "print(lines[1])"
   ]
  },
  {
   "cell_type": "code",
   "execution_count": 11,
   "metadata": {
    "collapsed": false
   },
   "outputs": [
    {
     "data": {
      "text/plain": [
       "'Date,Open,High,Low,Close,Volume,Adj Close'"
      ]
     },
     "execution_count": 11,
     "metadata": {},
     "output_type": "execute_result"
    }
   ],
   "source": [
    "lines[0].strip()"
   ]
  },
  {
   "cell_type": "code",
   "execution_count": 14,
   "metadata": {
    "collapsed": false
   },
   "outputs": [
    {
     "data": {
      "text/plain": [
       "['Date', 'Open', 'High', 'Low', 'Close', 'Volume', 'Adj Close']"
      ]
     },
     "execution_count": 14,
     "metadata": {},
     "output_type": "execute_result"
    }
   ],
   "source": [
    "lines[0].strip().split(\",\")"
   ]
  },
  {
   "cell_type": "code",
   "execution_count": 16,
   "metadata": {
    "collapsed": false
   },
   "outputs": [],
   "source": [
    "dataset = [line.strip().split(\",\") for line in open(path)]"
   ]
  },
  {
   "cell_type": "code",
   "execution_count": 17,
   "metadata": {
    "collapsed": false
   },
   "outputs": [
    {
     "data": {
      "text/plain": [
       "['Date', 'Open', 'High', 'Low', 'Close', 'Volume', 'Adj Close']"
      ]
     },
     "execution_count": 17,
     "metadata": {},
     "output_type": "execute_result"
    }
   ],
   "source": [
    "dataset[0]"
   ]
  },
  {
   "cell_type": "code",
   "execution_count": 18,
   "metadata": {
    "collapsed": false
   },
   "outputs": [
    {
     "data": {
      "text/plain": [
       "['8/19/2014',\n",
       " '585.002622',\n",
       " '587.342658',\n",
       " '584.002627',\n",
       " '586.862643',\n",
       " '978600',\n",
       " '586.862643']"
      ]
     },
     "execution_count": 18,
     "metadata": {},
     "output_type": "execute_result"
    }
   ],
   "source": [
    "dataset[1]"
   ]
  },
  {
   "cell_type": "code",
   "execution_count": null,
   "metadata": {
    "collapsed": true
   },
   "outputs": [],
   "source": []
  }
 ],
 "metadata": {
  "kernelspec": {
   "display_name": "Python 3",
   "language": "python",
   "name": "python3"
  },
  "language_info": {
   "codemirror_mode": {
    "name": "ipython",
    "version": 3
   },
   "file_extension": ".py",
   "mimetype": "text/x-python",
   "name": "python",
   "nbconvert_exporter": "python",
   "pygments_lexer": "ipython3",
   "version": "3.6.0"
  }
 },
 "nbformat": 4,
 "nbformat_minor": 2
}
