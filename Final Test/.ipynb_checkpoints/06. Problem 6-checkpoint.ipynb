{
 "cells": [
  {
   "cell_type": "code",
   "execution_count": 2,
   "metadata": {
    "collapsed": true
   },
   "outputs": [],
   "source": [
    "class Container(object):\n",
    "    \"\"\" Holds hashable objects. Objects may occur 0 or more times \"\"\"\n",
    "    def __init__(self):\n",
    "        \"\"\" Creates a new container with no objects in it. I.e., any object \n",
    "            occurs 0 times in self. \"\"\"\n",
    "        self.vals = {}\n",
    "    def insert(self, e):\n",
    "        \"\"\" assumes e is hashable\n",
    "            Increases the number times e occurs in self by 1. \"\"\"\n",
    "        try:\n",
    "            self.vals[e] += 1\n",
    "        except:\n",
    "            self.vals[e] = 1\n",
    "    def __str__(self):\n",
    "        s = \"\"\n",
    "        for i in sorted(self.vals.keys()):\n",
    "            if self.vals[i] != 0:\n",
    "                s += str(i)+\":\"+str(self.vals[i])+\"\\n\"\n",
    "        return s"
   ]
  },
  {
   "cell_type": "code",
   "execution_count": 53,
   "metadata": {
    "collapsed": true
   },
   "outputs": [],
   "source": [
    "class Bag(Container):\n",
    "    def remove(self, e):\n",
    "        \"\"\" assumes e is hashable\n",
    "            If e occurs one or more times in self, reduces the number of \n",
    "            times it occurs in self by 1. Otherwise does nothing. \"\"\"\n",
    "        if e in self.vals and self.vals[e] > 0:\n",
    "            self.vals[e] -= 1\n",
    "\n",
    "    def count(self, e):\n",
    "        \"\"\" assumes e is hashable\n",
    "            Returns the number of times e occurs in self. \"\"\"\n",
    "        return self.vals.get(e, 0)\n",
    "    \n",
    "    def __add__(self, other):\n",
    "        for key, value in other.vals.items():\n",
    "            for n in range(value):\n",
    "                self.insert(key)\n",
    "        return self\n",
    "\n",
    "# =============\n",
    "\n",
    "class ASet(Container):\n",
    "    def remove(self, e):\n",
    "        \"\"\"assumes e is hashable\n",
    "           removes e from self\"\"\"\n",
    "        if e in self.vals:\n",
    "            del self.vals[e]\n",
    "\n",
    "    def is_in(self, e):\n",
    "        \"\"\"assumes e is hashable\n",
    "           returns True if e has been inserted in self and\n",
    "           not subsequently removed, and False otherwise.\"\"\"\n",
    "        return e in self.vals.keys()"
   ]
  },
  {
   "cell_type": "code",
   "execution_count": 54,
   "metadata": {
    "collapsed": false
   },
   "outputs": [
    {
     "name": "stdout",
     "output_type": "stream",
     "text": [
      "4:2\n",
      "\n",
      "4:2\n",
      "\n"
     ]
    }
   ],
   "source": [
    "d1 = Bag()\n",
    "d1.insert(4)\n",
    "d1.insert(4)\n",
    "print(d1)      # 4:2\n",
    "d1.remove(2)\n",
    "print(d1)      # 4:2"
   ]
  },
  {
   "cell_type": "code",
   "execution_count": 55,
   "metadata": {
    "collapsed": false
   },
   "outputs": [
    {
     "name": "stdout",
     "output_type": "stream",
     "text": [
      "0\n",
      "3\n",
      "None\n",
      "2\n"
     ]
    }
   ],
   "source": [
    "d1 = Bag()\n",
    "d1.insert(4)\n",
    "d1.insert(4)\n",
    "d1.insert(4)\n",
    "print(d1.count(2))   # 0\n",
    "print(d1.count(4))   # 3\n",
    "print(d1.remove(4))\n",
    "print(d1.count(4))   # 2"
   ]
  },
  {
   "cell_type": "code",
   "execution_count": 56,
   "metadata": {
    "collapsed": false
   },
   "outputs": [
    {
     "name": "stdout",
     "output_type": "stream",
     "text": [
      "3:1\n",
      "4:2\n",
      "\n"
     ]
    }
   ],
   "source": [
    "a = Bag()\n",
    "a.insert(4)\n",
    "a.insert(3)\n",
    "b = Bag()\n",
    "b.insert(4)\n",
    "print(a+b) # 3:1, 4:2"
   ]
  },
  {
   "cell_type": "code",
   "execution_count": 57,
   "metadata": {
    "collapsed": false
   },
   "outputs": [
    {
     "name": "stdout",
     "output_type": "stream",
     "text": [
      "4:2\n",
      "\n",
      "\n"
     ]
    }
   ],
   "source": [
    "d1 = ASet()\n",
    "d1.insert(4)\n",
    "d1.insert(4)\n",
    "\n",
    "d1.remove(2)\n",
    "print(d1)     # 4:2 from d1.remove(2) print\n",
    "\n",
    "d1.remove(4)\n",
    "print(d1)     # (empty) from d1.remove(4) print"
   ]
  },
  {
   "cell_type": "code",
   "execution_count": 58,
   "metadata": {
    "collapsed": false
   },
   "outputs": [
    {
     "name": "stdout",
     "output_type": "stream",
     "text": [
      "True\n",
      "True\n",
      "False\n"
     ]
    }
   ],
   "source": [
    "d1 = ASet()\n",
    "d1.insert(4)\n",
    "print(d1.is_in(4))   # True\n",
    "d1.insert(5)\n",
    "print(d1.is_in(5))   # True\n",
    "d1.remove(5)\n",
    "print(d1.is_in(5))   # False"
   ]
  },
  {
   "cell_type": "code",
   "execution_count": null,
   "metadata": {
    "collapsed": true
   },
   "outputs": [],
   "source": []
  }
 ],
 "metadata": {
  "kernelspec": {
   "display_name": "Python 3",
   "language": "python",
   "name": "python3"
  },
  "language_info": {
   "codemirror_mode": {
    "name": "ipython",
    "version": 3
   },
   "file_extension": ".py",
   "mimetype": "text/x-python",
   "name": "python",
   "nbconvert_exporter": "python",
   "pygments_lexer": "ipython3",
   "version": "3.6.0"
  }
 },
 "nbformat": 4,
 "nbformat_minor": 2
}
