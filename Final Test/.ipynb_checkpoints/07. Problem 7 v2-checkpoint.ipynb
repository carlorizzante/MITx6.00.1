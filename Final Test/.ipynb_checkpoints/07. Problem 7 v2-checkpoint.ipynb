{
 "cells": [
  {
   "cell_type": "code",
   "execution_count": 25,
   "metadata": {
    "collapsed": true
   },
   "outputs": [],
   "source": [
    "### Do not change the Location or Campus classes. ###\n",
    "### Location class is the same as in lecture.     ###\n",
    "class Location(object):\n",
    "    def __init__(self, x, y):\n",
    "        self.x = x\n",
    "        self.y = y\n",
    "    def move(self, deltaX, deltaY):\n",
    "        return Location(self.x + deltaX, self.y + deltaY)\n",
    "    def getX(self):\n",
    "        return self.x\n",
    "    def getY(self):\n",
    "        return self.y\n",
    "    def dist_from(self, other):\n",
    "        xDist = self.x - other.x\n",
    "        yDist = self.y - other.y\n",
    "        return (xDist**2 + yDist**2)**0.5\n",
    "    def __eq__(self, other):\n",
    "        return (self.x == other.x and self.y == other.y)\n",
    "    def __str__(self):\n",
    "        return '<' + str(self.x) + ',' + str(self.y) + '>'\n",
    "        \n",
    "class Campus(object):\n",
    "    def __init__(self, center_loc):\n",
    "        self.center_loc = center_loc\n",
    "    def __str__(self):\n",
    "        return str(self.center_loc)"
   ]
  },
  {
   "cell_type": "code",
   "execution_count": 81,
   "metadata": {
    "collapsed": false
   },
   "outputs": [],
   "source": [
    "class MITCampus(Campus):\n",
    "    \"\"\" A MITCampus is a Campus that contains tents \"\"\"\n",
    "    def __init__(self, center_loc, tent_loc = Location(0,0)):\n",
    "        \"\"\" Assumes center_loc and tent_loc are Location objects \n",
    "        Initializes a new Campus centered at location center_loc \n",
    "        with a tent at location tent_loc \"\"\"\n",
    "        \n",
    "        # Set Campus enter location\n",
    "        self.center_loc = center_loc\n",
    "        \n",
    "        # Create all tents list\n",
    "        self.all_tents = []\n",
    "        \n",
    "        # Add first tent\n",
    "        self.add_tent(tent_loc)\n",
    "      \n",
    "    def add_tent(self, new_tent_loc):\n",
    "        \"\"\" Assumes new_tent_loc is a Location\n",
    "        Adds new_tent_loc to the campus only if the tent is at least 0.5 distance \n",
    "        away from all other tents already there. Campus is unchanged otherwise.\n",
    "        Returns True if it could add the tent, False otherwise. \"\"\"\n",
    "        \n",
    "        # Verify new tent location is valid\n",
    "        for tent_loc in self.all_tents:\n",
    "            if tent_loc.dist_from(new_tent_loc) < 0.5:\n",
    "                \n",
    "                # Return False if no valid location for new tent\n",
    "                return False\n",
    "        \n",
    "        # If all good, add new tent\n",
    "        self.all_tents.append(new_tent_loc)\n",
    "        \n",
    "        # Return True\n",
    "        return True\n",
    "      \n",
    "    def remove_tent(self, tent_loc):\n",
    "        \"\"\" Assumes tent_loc is a Location\n",
    "        Removes tent_loc from the campus. \n",
    "        Raises a ValueError if there is not a tent at tent_loc.\n",
    "        Does not return anything \"\"\"\n",
    "        \n",
    "        # Verify tent_loc exists in campus\n",
    "        if tent_loc in self.all_tents:\n",
    "            self.all_tents.remove(tent_loc)\n",
    "        else:\n",
    "            raise ValueError(\"No tent found at given location.\")\n",
    "      \n",
    "    def get_tents(self):\n",
    "        \"\"\" Returns a list of all tents on the campus. The list should contain \n",
    "        the string representation of the Location of a tent. The list should \n",
    "        be sorted by the x coordinate of the location. \"\"\"\n",
    "        all_tents_list = []\n",
    "        for tent_loc in self.all_tents:\n",
    "            all_tents_list.append(str(tent_loc))\n",
    "        all_tents_list.sort()\n",
    "        return all_tents_list"
   ]
  },
  {
   "cell_type": "code",
   "execution_count": 82,
   "metadata": {
    "collapsed": false
   },
   "outputs": [
    {
     "name": "stdout",
     "output_type": "stream",
     "text": [
      "True\n",
      "True\n",
      "False\n",
      "False\n",
      "['<0,0>', '<1,2>', '<2,3>']\n"
     ]
    }
   ],
   "source": [
    "# Dummy test\n",
    "\n",
    "c = MITCampus(Location(1,2))\n",
    "\n",
    "print(c.add_tent(Location(2,3))) # True\n",
    "print(c.add_tent(Location(1,2))) # True\n",
    "print(c.add_tent(Location(0,0))) # False\n",
    "print(c.add_tent(Location(2,3))) # False\n",
    "print(c.get_tents())             # ['<0,0>', '<1,2>', '<2,3>']"
   ]
  },
  {
   "cell_type": "code",
   "execution_count": 83,
   "metadata": {
    "collapsed": false
   },
   "outputs": [
    {
     "name": "stdout",
     "output_type": "stream",
     "text": [
      "True\n",
      "False\n",
      "True\n",
      "False\n",
      "['<0,0>', '<1,2>', '<2,3>']\n"
     ]
    }
   ],
   "source": [
    "# Test 0\n",
    "\n",
    "c = MITCampus(Location(1,2))\n",
    "print(c.add_tent(Location(1,2)))  # True\n",
    "print(c.add_tent(Location(0,0)))  # False\n",
    "print(c.add_tent(Location(2,3)))  # True\n",
    "print(c.add_tent(Location(2,3)))  # False\n",
    "print(c.get_tents())              # ['<0,0>', '<1,2>', '<2,3>']"
   ]
  },
  {
   "cell_type": "code",
   "execution_count": 84,
   "metadata": {
    "collapsed": false
   },
   "outputs": [
    {
     "name": "stdout",
     "output_type": "stream",
     "text": [
      "['<0,0>']\n"
     ]
    }
   ],
   "source": [
    "# Test 1\n",
    "\n",
    "# init campus with default tent loc\n",
    "c = MITCampus(Location(-1,-2))\n",
    "print(sorted(c.get_tents()))   # ['<0,0>']"
   ]
  },
  {
   "cell_type": "code",
   "execution_count": 85,
   "metadata": {
    "collapsed": false
   },
   "outputs": [
    {
     "name": "stdout",
     "output_type": "stream",
     "text": [
      "False\n"
     ]
    }
   ],
   "source": [
    "# Test 10\n",
    "\n",
    "# a new tent on top of a later-added tent\n",
    "c = MITCampus(Location(1,2), Location(0,0))\n",
    "c.add_tent(Location(10,10))\n",
    "print(c.add_tent(Location(10,10))) # False"
   ]
  },
  {
   "cell_type": "code",
   "execution_count": 86,
   "metadata": {
    "collapsed": false
   },
   "outputs": [
    {
     "name": "stdout",
     "output_type": "stream",
     "text": [
      "True\n"
     ]
    }
   ],
   "source": [
    "# Test 11\n",
    "\n",
    "# does the \"center\" location count as a tent?\n",
    "# try adding a tent there...\n",
    "c = MITCampus(Location(1,2), Location(0,0))\n",
    "print(c.add_tent(Location(1,2)))  # True"
   ]
  },
  {
   "cell_type": "code",
   "execution_count": 87,
   "metadata": {
    "collapsed": false
   },
   "outputs": [
    {
     "name": "stdout",
     "output_type": "stream",
     "text": [
      "Done!\n"
     ]
    }
   ],
   "source": [
    "# Test 12\n",
    "\n",
    "# Basic remove_tent test\n",
    "c = MITCampus(Location(1,2), Location(0,0))\n",
    "c.add_tent(Location(1,1))\n",
    "try:\n",
    "    c.remove_tent(Location(1,1))\n",
    "except ValueError:\n",
    "    print(\"ValueError received.\")\n",
    "else:\n",
    "    print(\"Done!\")  # Done!"
   ]
  },
  {
   "cell_type": "code",
   "execution_count": 89,
   "metadata": {
    "collapsed": false
   },
   "outputs": [
    {
     "name": "stdout",
     "output_type": "stream",
     "text": [
      "ValueError received.\n"
     ]
    }
   ],
   "source": [
    "# Test 13\n",
    "\n",
    "# Test if remove_tent correctly throws ValueError\n",
    "c = MITCampus(Location(1,2), Location(0,0))\n",
    "try:\n",
    "    c.remove_tent(Location(1,1))\n",
    "except ValueError:\n",
    "    print(\"ValueError received.\")\n",
    "else:\n",
    "    print(\"Done!\")  # ValueError received."
   ]
  },
  {
   "cell_type": "code",
   "execution_count": 90,
   "metadata": {
    "collapsed": false
   },
   "outputs": [
    {
     "name": "stdout",
     "output_type": "stream",
     "text": [
      "Done!\n"
     ]
    }
   ],
   "source": [
    "# Test 14\n",
    "\n",
    "# can we remove the default tent?\n",
    "c = MITCampus(Location(1,2))\n",
    "try:\n",
    "    c.remove_tent(Location(0,0))\n",
    "except ValueError:\n",
    "    print(\"ValueError received.\")\n",
    "else:\n",
    "    print(\"Done!\")  # Done!"
   ]
  },
  {
   "cell_type": "code",
   "execution_count": 91,
   "metadata": {
    "collapsed": false
   },
   "outputs": [
    {
     "name": "stdout",
     "output_type": "stream",
     "text": [
      "Done!\n"
     ]
    }
   ],
   "source": [
    "# Test 15\n",
    "\n",
    "# can we remove a non-default tent?\n",
    "c = MITCampus(Location(1,2), Location(10,10))\n",
    "try:\n",
    "    c.remove_tent(Location(10,10))\n",
    "except ValueError:\n",
    "    print(\"ValueError received.\")\n",
    "else:\n",
    "    print(\"Done!\")   # Done!"
   ]
  },
  {
   "cell_type": "code",
   "execution_count": 92,
   "metadata": {
    "collapsed": false
   },
   "outputs": [
    {
     "name": "stdout",
     "output_type": "stream",
     "text": [
      "ValueError received.\n"
     ]
    }
   ],
   "source": [
    "# Test 16\n",
    "\n",
    "# can we remove the default tent when it is actually not there?\n",
    "c = MITCampus(Location(1,2), Location(10,10))\n",
    "try:\n",
    "    c.remove_tent(Location(0,0))\n",
    "except ValueError:\n",
    "    print(\"ValueError received.\")\n",
    "else:\n",
    "    print(\"Done!\")    # ValueError received."
   ]
  },
  {
   "cell_type": "code",
   "execution_count": 93,
   "metadata": {
    "collapsed": false
   },
   "outputs": [
    {
     "name": "stdout",
     "output_type": "stream",
     "text": [
      "['<10,20>']\n"
     ]
    }
   ],
   "source": [
    "# Test 2\n",
    "\n",
    "# init campus with a non-default tent loc\n",
    "c = MITCampus(Location(1,2),Location(10,20))\n",
    "print(sorted(c.get_tents())) # ['<10,20>']"
   ]
  },
  {
   "cell_type": "code",
   "execution_count": 94,
   "metadata": {
    "collapsed": false
   },
   "outputs": [
    {
     "name": "stdout",
     "output_type": "stream",
     "text": [
      "True\n",
      "False\n",
      "False\n",
      "False\n",
      "False\n",
      "['<-1,-2>', '<1,2>']\n"
     ]
    }
   ],
   "source": [
    "# Test 3\n",
    "\n",
    "# init campus with non-default tent loc, then try adding multiple tents\n",
    "# to that loc\n",
    "c = MITCampus(Location(1,2),Location(-1,-2))\n",
    "print(c.add_tent(Location(1,2)))    # True\n",
    "print(c.add_tent(Location(-1,-2)))  # False\n",
    "print(c.add_tent(Location(-1,-2)))  # False\n",
    "print(c.add_tent(Location(-1,-2)))  # False\n",
    "print(c.add_tent(Location(-1,-2)))  # False\n",
    "print(sorted(c.get_tents()))        # ['<-1,-2>', '<1,2>']"
   ]
  },
  {
   "cell_type": "code",
   "execution_count": 95,
   "metadata": {
    "collapsed": false
   },
   "outputs": [
    {
     "name": "stdout",
     "output_type": "stream",
     "text": [
      "True\n",
      "True\n",
      "True\n",
      "True\n",
      "['<-1,-2>', '<-2,-3>', '<0,1>', '<1,2>', '<2,3>']\n"
     ]
    }
   ],
   "source": [
    "# Test 4\n",
    "\n",
    "# check if tents are sorted correctly (no two y coords are equal)\n",
    "c = MITCampus(Location(1,2), Location(0,1))\n",
    "print(c.add_tent(Location(1,2)))    # True\n",
    "print(c.add_tent(Location(2,3)))    # True\n",
    "print(c.add_tent(Location(-1,-2)))  # True\n",
    "print(c.add_tent(Location(-2,-3)))  # True\n",
    "print(sorted(c.get_tents()))        # ['<-1,-2>', '<-2,-3>', '<0,1>', '<1,2>', '<2,3>']"
   ]
  },
  {
   "cell_type": "code",
   "execution_count": 97,
   "metadata": {
    "collapsed": false
   },
   "outputs": [
    {
     "name": "stdout",
     "output_type": "stream",
     "text": [
      "['<-1,2>', '<0,1>', '<1,-10>', '<1,10>', '<1,20>', '<1,40>']\n",
      "True\n"
     ]
    }
   ],
   "source": [
    "# Test 5\n",
    "\n",
    "def check_if_x_sorted(lst):\n",
    "    return sorted(lst) == lst\n",
    "\n",
    "# check if tents are sorted correctly (at least two equal y coords)\n",
    "c = MITCampus(Location(1,2), Location(0,1))\n",
    "c.add_tent(Location(-1,2))\n",
    "c.add_tent(Location(1,-10))\n",
    "c.add_tent(Location(1,10))\n",
    "c.add_tent(Location(1,20))\n",
    "c.add_tent(Location(1,40))\n",
    "print(sorted(c.get_tents()))               # ['<-1,2>', '<0,1>', '<1,-10>', '<1,10>', '<1,20>', '<1,40>']\n",
    "print(check_if_x_sorted(c.get_tents()))    # True"
   ]
  },
  {
   "cell_type": "code",
   "execution_count": 69,
   "metadata": {
    "collapsed": false
   },
   "outputs": [
    {
     "name": "stdout",
     "output_type": "stream",
     "text": [
      "True\n",
      "True\n",
      "False\n"
     ]
    }
   ],
   "source": [
    "# Test 6\n",
    "\n",
    "# check if add_tent allows adding a tent closer than 0.5\n",
    "c = MITCampus(Location(1,2), Location(3,1))\n",
    "print(c.add_tent(Location(2.5,1)))           # True\n",
    "c = MITCampus(Location(1,2), Location(3,1))\n",
    "print(c.add_tent(Location(2.49,1)))          # True\n",
    "c = MITCampus(Location(1,2), Location(3,1))\n",
    "print(c.add_tent(Location(2.51,1)))          # False"
   ]
  },
  {
   "cell_type": "code",
   "execution_count": 71,
   "metadata": {
    "collapsed": false
   },
   "outputs": [
    {
     "name": "stdout",
     "output_type": "stream",
     "text": [
      "True\n",
      "False\n",
      "True\n"
     ]
    }
   ],
   "source": [
    "# Test 7\n",
    "\n",
    "# check if add_tent allows adding a tent closer than 0.5\n",
    "# again, but what disallows placement is the SECOND tent this time\n",
    "c = MITCampus(Location(1,2), Location(3,1))\n",
    "c.add_tent(Location(1,1))\n",
    "print(c.add_tent(Location(1.5,1)))             # True\n",
    "c = MITCampus(Location(1,2), Location(3,1))\n",
    "c.add_tent(Location(1,1))\n",
    "print(c.add_tent(Location(1.49,1)))            # False\n",
    "c = MITCampus(Location(1,2), Location(3,1))\n",
    "c.add_tent(Location(1,1))\n",
    "print(c.add_tent(Location(1.51,1)))            # True"
   ]
  },
  {
   "cell_type": "code",
   "execution_count": 73,
   "metadata": {
    "collapsed": false
   },
   "outputs": [
    {
     "name": "stdout",
     "output_type": "stream",
     "text": [
      "True\n"
     ]
    }
   ],
   "source": [
    "# Test 8\n",
    "\n",
    "# two equidistant tents from desired new tent_loc\n",
    "c = MITCampus(Location(1,2), Location(1,0))\n",
    "c.add_tent(Location(0,1))\n",
    "print(c.add_tent(Location(0,0)))     # True"
   ]
  },
  {
   "cell_type": "code",
   "execution_count": 75,
   "metadata": {
    "collapsed": false
   },
   "outputs": [
    {
     "name": "stdout",
     "output_type": "stream",
     "text": [
      "False\n"
     ]
    }
   ],
   "source": [
    "# Test 9\n",
    "\n",
    "# a new tent on top of the initial tent\n",
    "c = MITCampus(Location(1,2), Location(0,0))\n",
    "print(c.add_tent(Location(0,0)))     # False"
   ]
  },
  {
   "cell_type": "code",
   "execution_count": null,
   "metadata": {
    "collapsed": true
   },
   "outputs": [],
   "source": []
  }
 ],
 "metadata": {
  "kernelspec": {
   "display_name": "Python 3",
   "language": "python",
   "name": "python3"
  },
  "language_info": {
   "codemirror_mode": {
    "name": "ipython",
    "version": 3
   },
   "file_extension": ".py",
   "mimetype": "text/x-python",
   "name": "python",
   "nbconvert_exporter": "python",
   "pygments_lexer": "ipython3",
   "version": "3.6.0"
  }
 },
 "nbformat": 4,
 "nbformat_minor": 2
}
