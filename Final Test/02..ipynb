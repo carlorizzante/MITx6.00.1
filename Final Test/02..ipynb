{
 "cells": [
  {
   "cell_type": "code",
   "execution_count": 6,
   "metadata": {
    "collapsed": false
   },
   "outputs": [
    {
     "name": "stdout",
     "output_type": "stream",
     "text": [
      "A\n",
      "A\n",
      "A\n"
     ]
    }
   ],
   "source": [
    "def f(n):\n",
    "    def g(m):\n",
    "        m = 0\n",
    "        print(\"A\")\n",
    "        for i in range(m):\n",
    "            print(m)\n",
    "    for i in range(n):\n",
    "        g(n)\n",
    "\n",
    "f(3)"
   ]
  },
  {
   "cell_type": "code",
   "execution_count": 10,
   "metadata": {
    "collapsed": true
   },
   "outputs": [],
   "source": [
    "def foo_one(n):\n",
    "    \"\"\" Assume n is an int >= 0 \"\"\"\n",
    "    # 1 + n * (1 + 2 + 2) + 1\n",
    "    # 2 + 5*n\n",
    "    answer = 1.0\n",
    "    while n > 1:\n",
    "        answer *= n\n",
    "        n -= 1\n",
    "    return answer\n",
    "\n",
    "def foo_two(n):\n",
    "    \"\"\" Assume n is an int >= 0 \"\"\"\n",
    "    # 2 + 1 + n*3\n",
    "    # 3 + 3*n\n",
    "    if n <= 1: \n",
    "        return 1.0\n",
    "    else: \n",
    "        return n*foo_two(n-1)"
   ]
  },
  {
   "cell_type": "code",
   "execution_count": 43,
   "metadata": {
    "collapsed": true
   },
   "outputs": [],
   "source": [
    "import timeit\n",
    "reps = 1000000000"
   ]
  },
  {
   "cell_type": "code",
   "execution_count": 44,
   "metadata": {
    "collapsed": false
   },
   "outputs": [
    {
     "data": {
      "text/plain": [
       "15.281581346000166"
      ]
     },
     "execution_count": 44,
     "metadata": {},
     "output_type": "execute_result"
    }
   ],
   "source": [
    "def foo_1():\n",
    "    foo_one(reps)\n",
    "    \n",
    "timeit.timeit(\"foo_1\", \"from __main__ import foo_1, reps\", number=reps)"
   ]
  },
  {
   "cell_type": "code",
   "execution_count": 45,
   "metadata": {
    "collapsed": false
   },
   "outputs": [
    {
     "data": {
      "text/plain": [
       "16.377624856002512"
      ]
     },
     "execution_count": 45,
     "metadata": {},
     "output_type": "execute_result"
    }
   ],
   "source": [
    "def foo_2():\n",
    "    foo_two(reps)\n",
    "    \n",
    "timeit.timeit(\"foo_2\", \"from __main__ import foo_2, reps\", number=reps)"
   ]
  },
  {
   "cell_type": "code",
   "execution_count": null,
   "metadata": {
    "collapsed": true
   },
   "outputs": [],
   "source": []
  }
 ],
 "metadata": {
  "kernelspec": {
   "display_name": "Python 3",
   "language": "python",
   "name": "python3"
  },
  "language_info": {
   "codemirror_mode": {
    "name": "ipython",
    "version": 3
   },
   "file_extension": ".py",
   "mimetype": "text/x-python",
   "name": "python",
   "nbconvert_exporter": "python",
   "pygments_lexer": "ipython3",
   "version": "3.6.0"
  }
 },
 "nbformat": 4,
 "nbformat_minor": 2
}
