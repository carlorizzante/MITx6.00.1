{
 "cells": [
  {
   "cell_type": "code",
   "execution_count": 7,
   "metadata": {
    "collapsed": true
   },
   "outputs": [],
   "source": [
    "def cipher(map_from, map_to, code):\n",
    "    \"\"\" map_from, map_to: strings where each contain \n",
    "                          N unique lowercase letters. \n",
    "        code: string (assume it only contains letters also in map_from)\n",
    "        Returns a tuple of (key_code, decoded).\n",
    "        key_code is a dictionary with N keys mapping str to str where \n",
    "        each key is a letter in map_from at index i and the corresponding \n",
    "        value is the letter in map_to at index i. \n",
    "        decoded is a string that contains the decoded version \n",
    "        of code using the key_code mapping. \"\"\"\n",
    "    \n",
    "    # Build key_code\n",
    "    key_code = {}\n",
    "    for i in range(len(map_from)):\n",
    "        key_code[map_from[i]] = map_to[i]\n",
    "    \n",
    "    # Decode code\n",
    "    decode = \"\"\n",
    "    for char in code:\n",
    "        decode += key_code[char]\n",
    "    \n",
    "    # Return key_code\n",
    "    return key_code, decode"
   ]
  },
  {
   "cell_type": "code",
   "execution_count": 8,
   "metadata": {
    "collapsed": false
   },
   "outputs": [
    {
     "data": {
      "text/plain": [
       "({'a': 'd', 'b': 'c', 'c': 'b', 'd': 'a'}, 'adc')"
      ]
     },
     "execution_count": 8,
     "metadata": {},
     "output_type": "execute_result"
    }
   ],
   "source": [
    "cipher(\"abcd\", \"dcba\", \"dab\") # ({'a':'d', 'b': 'c', 'd': 'a', 'c': 'b'}, 'adc')"
   ]
  },
  {
   "cell_type": "code",
   "execution_count": null,
   "metadata": {
    "collapsed": true
   },
   "outputs": [],
   "source": []
  }
 ],
 "metadata": {
  "kernelspec": {
   "display_name": "Python 3",
   "language": "python",
   "name": "python3"
  },
  "language_info": {
   "codemirror_mode": {
    "name": "ipython",
    "version": 3
   },
   "file_extension": ".py",
   "mimetype": "text/x-python",
   "name": "python",
   "nbconvert_exporter": "python",
   "pygments_lexer": "ipython3",
   "version": "3.6.0"
  }
 },
 "nbformat": 4,
 "nbformat_minor": 2
}
