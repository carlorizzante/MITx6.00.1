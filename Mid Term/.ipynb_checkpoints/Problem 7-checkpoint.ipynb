{
 "cells": [
  {
   "cell_type": "code",
   "execution_count": null,
   "metadata": {
    "collapsed": true
   },
   "outputs": [],
   "source": [
    "def dict_invert(d):\n",
    "    '''\n",
    "    d: dict\n",
    "    Returns an inverted dictionary according to the instructions above\n",
    "    '''\n",
    "    result = {}\n",
    "    for key, value in d.items():\n",
    "        result[value] = []\n",
    "    for key, value in d.items():\n",
    "        result[value].append(key)\n",
    "    for key, value in d.items():\n",
    "        result[value] = sorted(result[value])\n",
    "    return result"
   ]
  }
 ],
 "metadata": {
  "kernelspec": {
   "display_name": "Python 3",
   "language": "python",
   "name": "python3"
  },
  "language_info": {
   "codemirror_mode": {
    "name": "ipython",
    "version": 3
   },
   "file_extension": ".py",
   "mimetype": "text/x-python",
   "name": "python",
   "nbconvert_exporter": "python",
   "pygments_lexer": "ipython3",
   "version": "3.6.0"
  }
 },
 "nbformat": 4,
 "nbformat_minor": 2
}
