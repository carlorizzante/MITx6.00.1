{
 "cells": [
  {
   "cell_type": "code",
   "execution_count": 23,
   "metadata": {
    "collapsed": true
   },
   "outputs": [],
   "source": [
    "def general_poly (L):\n",
    "    \"\"\" L, a list of numbers (n0, n1, n2, ... nk)\n",
    "    Returns a function, which when applied to a value x, returns the value \n",
    "    n0 * x^k + n1 * x^(k-1) + ... nk * x^0 \"\"\"\n",
    "    def poly(base):\n",
    "        length = len(L)\n",
    "        final = 0\n",
    "        for n in L:\n",
    "            length = length - 1\n",
    "            final += n * base**length\n",
    "        return final\n",
    "    return poly\n",
    "            "
   ]
  },
  {
   "cell_type": "code",
   "execution_count": 24,
   "metadata": {
    "collapsed": false
   },
   "outputs": [
    {
     "data": {
      "text/plain": [
       "1234"
      ]
     },
     "execution_count": 24,
     "metadata": {},
     "output_type": "execute_result"
    }
   ],
   "source": [
    "general_poly([1, 2, 3, 4])(10)"
   ]
  },
  {
   "cell_type": "code",
   "execution_count": null,
   "metadata": {
    "collapsed": true
   },
   "outputs": [],
   "source": []
  }
 ],
 "metadata": {
  "kernelspec": {
   "display_name": "Python 3",
   "language": "python",
   "name": "python3"
  },
  "language_info": {
   "codemirror_mode": {
    "name": "ipython",
    "version": 3
   },
   "file_extension": ".py",
   "mimetype": "text/x-python",
   "name": "python",
   "nbconvert_exporter": "python",
   "pygments_lexer": "ipython3",
   "version": "3.6.0"
  }
 },
 "nbformat": 4,
 "nbformat_minor": 2
}
