{
 "cells": [
  {
   "cell_type": "code",
   "execution_count": 108,
   "metadata": {
    "collapsed": true
   },
   "outputs": [],
   "source": [
    "def is_list_permutation(L1, L2):\n",
    "    '''\n",
    "    L1 and L2: lists containing integers and strings\n",
    "    Returns False if L1 and L2 are not permutations of each other. \n",
    "            If they are permutations of each other, returns a \n",
    "            tuple of 3 items in this order: \n",
    "            the element occurring most, how many times it occurs, and its type\n",
    "    '''\n",
    "    # Do we have data?\n",
    "    if len(L1) == 0 and len(L2) == 0:\n",
    "        return (None, None, None)\n",
    "    \n",
    "    # Will any of the lists cause error?\n",
    "    elif len(L1) == 0 or len(L2) == 0:\n",
    "        return False\n",
    "    \n",
    "    # Gets frequency of both sets\n",
    "    def freq(L):\n",
    "        freq = {}\n",
    "        for el in L:\n",
    "            freq[el] = freq.get(el, 0) + 1\n",
    "        return freq\n",
    "    \n",
    "    L1_freq = freq(L1)\n",
    "    L2_freq = freq(L2)\n",
    "    \n",
    "    # Sets need to have same length length or they are not permutations of each other\n",
    "    if len(L1_freq) != len(L2_freq):\n",
    "        return False\n",
    "    \n",
    "    # Sets need to be equal in keys/values\n",
    "    def is_equal(L1_freq, L2_freq):\n",
    "        for key, val in L1_freq.items():\n",
    "            if L1_freq[key] != L2_freq[key]:\n",
    "                return False\n",
    "        return True\n",
    "    \n",
    "    if not is_equal(L1_freq, L2_freq):\n",
    "        return False\n",
    "    \n",
    "    # If all is good, let's get the most frequent item in the sets\n",
    "    def winner(L_freq):\n",
    "        winner_count = 0\n",
    "        for key, val in L_freq.items():\n",
    "            if L_freq[key] > winner_count:\n",
    "                winner_count = L_freq[key]\n",
    "                winner = (key, winner_count, type(key))\n",
    "        return winner\n",
    "    \n",
    "    # Returns winner\n",
    "    return winner(L1_freq)"
   ]
  },
  {
   "cell_type": "code",
   "execution_count": 109,
   "metadata": {
    "collapsed": false
   },
   "outputs": [
    {
     "data": {
      "text/plain": [
       "False"
      ]
     },
     "execution_count": 109,
     "metadata": {},
     "output_type": "execute_result"
    }
   ],
   "source": [
    "L1 = ['a', 'a', 'b']\n",
    "L2 = ['a', 'b']\n",
    "is_list_permutation(L1, L2) # false"
   ]
  },
  {
   "cell_type": "code",
   "execution_count": 110,
   "metadata": {
    "collapsed": false
   },
   "outputs": [
    {
     "data": {
      "text/plain": [
       "(1, 3, int)"
      ]
     },
     "execution_count": 110,
     "metadata": {},
     "output_type": "execute_result"
    }
   ],
   "source": [
    "L1 = [1, 'b', 1, 'c', 'c', 1]\n",
    "L2 = ['c', 1, 'b', 1, 1, 'c']\n",
    "is_list_permutation(L1, L2) # (1, 3, <class 'int'>)"
   ]
  },
  {
   "cell_type": "code",
   "execution_count": 111,
   "metadata": {
    "collapsed": false
   },
   "outputs": [
    {
     "data": {
      "text/plain": [
       "False"
      ]
     },
     "execution_count": 111,
     "metadata": {},
     "output_type": "execute_result"
    }
   ],
   "source": [
    "L1 = ['a', 'a', 'b']\n",
    "L2 = ['a', 'b', 'c']\n",
    "is_list_permutation(L1, L2) # false"
   ]
  },
  {
   "cell_type": "code",
   "execution_count": null,
   "metadata": {
    "collapsed": true
   },
   "outputs": [],
   "source": []
  },
  {
   "cell_type": "code",
   "execution_count": null,
   "metadata": {
    "collapsed": true
   },
   "outputs": [],
   "source": []
  }
 ],
 "metadata": {
  "kernelspec": {
   "display_name": "Python 3",
   "language": "python",
   "name": "python3"
  },
  "language_info": {
   "codemirror_mode": {
    "name": "ipython",
    "version": 3
   },
   "file_extension": ".py",
   "mimetype": "text/x-python",
   "name": "python",
   "nbconvert_exporter": "python",
   "pygments_lexer": "ipython3",
   "version": "3.6.0"
  }
 },
 "nbformat": 4,
 "nbformat_minor": 2
}
