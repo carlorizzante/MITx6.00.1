{
 "cells": [
  {
   "cell_type": "code",
   "execution_count": null,
   "metadata": {
    "collapsed": true
   },
   "outputs": [],
   "source": [
    "# Write a Python function that takes in a string and prints out a version of this string\n",
    "# that does not contain any vowels, according to the specification below.\n",
    "# Vowels are uppercase and lowercase 'a', 'e', 'i', 'o', 'u'.\n",
    "\n",
    "# For example, if s = \"This is great!\" then print_without_vowels will print Ths s grt!.\n",
    "# If s = \"a\" then print_without_vowels will print the empty string .\n",
    "\n",
    "def print_without_vowels(s):\n",
    "    '''\n",
    "    s: the string to convert\n",
    "    Finds a version of s without vowels and whose characters appear in the \n",
    "    same order they appear in s. Prints this version of s.\n",
    "    Does not return anything\n",
    "    '''\n",
    "    result = \"\"\n",
    "    for c in s:\n",
    "        if c.lower() not in ['a','e','i','o','u']:\n",
    "            result += c\n",
    "    print(result)"
   ]
  }
 ],
 "metadata": {
  "kernelspec": {
   "display_name": "Python 3",
   "language": "python",
   "name": "python3"
  },
  "language_info": {
   "codemirror_mode": {
    "name": "ipython",
    "version": 3
   },
   "file_extension": ".py",
   "mimetype": "text/x-python",
   "name": "python",
   "nbconvert_exporter": "python",
   "pygments_lexer": "ipython3",
   "version": "3.6.0"
  }
 },
 "nbformat": 4,
 "nbformat_minor": 2
}
