{
 "cells": [
  {
   "cell_type": "code",
   "execution_count": 32,
   "metadata": {
    "collapsed": true
   },
   "outputs": [],
   "source": [
    "s = 'azcbobobegghakl'"
   ]
  },
  {
   "cell_type": "code",
   "execution_count": 34,
   "metadata": {
    "collapsed": true
   },
   "outputs": [],
   "source": [
    "s = 'zyxwvutsrqponmlkjihgfedcba'"
   ]
  },
  {
   "cell_type": "code",
   "execution_count": 33,
   "metadata": {
    "collapsed": false
   },
   "outputs": [
    {
     "name": "stdout",
     "output_type": "stream",
     "text": [
      "beggh\n"
     ]
    }
   ],
   "source": [
    "longest_string = \"\"\n",
    "current_string = s[0]\n",
    "for i in range(len(s) - 1):\n",
    "    if s[i] <= s[i+1]:\n",
    "        current_string += s[i+1]\n",
    "    else:\n",
    "        current_string = s[i+1]\n",
    "    if len(current_string) > len(longest_string):\n",
    "        longest_string = current_string\n",
    "print(longest_string)"
   ]
  },
  {
   "cell_type": "code",
   "execution_count": 38,
   "metadata": {
    "collapsed": false
   },
   "outputs": [
    {
     "name": "stdout",
     "output_type": "stream",
     "text": [
      "z\n"
     ]
    }
   ],
   "source": [
    "longest_string = current_string = s[0]\n",
    "for i in range(len(s) - 1):\n",
    "    if s[i] <= s[i+1]:\n",
    "        current_string += s[i+1]\n",
    "    else:\n",
    "        current_string = s[i+1]\n",
    "    if len(current_string) > len(longest_string):\n",
    "        longest_string = current_string\n",
    "print(longest_string)"
   ]
  },
  {
   "cell_type": "code",
   "execution_count": null,
   "metadata": {
    "collapsed": true
   },
   "outputs": [],
   "source": []
  }
 ],
 "metadata": {
  "kernelspec": {
   "display_name": "Python 3",
   "language": "python",
   "name": "python3"
  },
  "language_info": {
   "codemirror_mode": {
    "name": "ipython",
    "version": 3
   },
   "file_extension": ".py",
   "mimetype": "text/x-python",
   "name": "python",
   "nbconvert_exporter": "python",
   "pygments_lexer": "ipython3",
   "version": "3.6.0"
  }
 },
 "nbformat": 4,
 "nbformat_minor": 2
}
