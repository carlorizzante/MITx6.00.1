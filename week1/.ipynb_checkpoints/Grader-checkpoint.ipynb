{
 "cells": [
  {
   "cell_type": "code",
   "execution_count": null,
   "metadata": {
    "collapsed": true
   },
   "outputs": [],
   "source": [
    "def polysum(n, s):\n",
    "    \"\"\"\n",
    "    Integer Number -> Number\n",
    "    Given a number of sides n, and a length side s of a regular polygon,\n",
    "    returns the sum of its area and square of its perimeter, rounded to 4 decimals.\n",
    "    \"\"\"\n",
    "    return 0"
   ]
  }
 ],
 "metadata": {
  "kernelspec": {
   "display_name": "Python 3",
   "language": "python",
   "name": "python3"
  },
  "language_info": {
   "codemirror_mode": {
    "name": "ipython",
    "version": 3
   },
   "file_extension": ".py",
   "mimetype": "text/x-python",
   "name": "python",
   "nbconvert_exporter": "python",
   "pygments_lexer": "ipython3",
   "version": "3.6.0"
  }
 },
 "nbformat": 4,
 "nbformat_minor": 2
}
