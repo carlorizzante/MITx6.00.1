{
 "cells": [
  {
   "cell_type": "code",
   "execution_count": 1,
   "metadata": {
    "collapsed": true
   },
   "outputs": [],
   "source": [
    "# Assume s is a string of lower case characters.\n",
    "\n",
    "# Write a program that prints the longest substring of s in which the letters occur in alphabetical order. \n",
    "# For example, if s = 'azcbobobegghakl', then your program should print\n",
    "\n",
    "# Longest substring in alphabetical order is: beggh\n",
    "# In the case of ties, print the first substring. \n",
    "# For example, if s = 'abcbcd', then your program should print\n",
    "\n",
    "\"Longest substring in alphabetical order is: abc\"\n",
    "\n",
    "# Note: This problem may be challenging. \n",
    "# We encourage you to work smart. If you've spent more than a few hours on this problem, \n",
    "# we suggest that you move on to a different part of the course. \n",
    "# If you have time, come back to this problem after you've had a break and cleared your head."
   ]
  },
  {
   "cell_type": "code",
   "execution_count": 21,
   "metadata": {
    "collapsed": true
   },
   "outputs": [],
   "source": [
    "s = 'azcbobobegghakl'"
   ]
  },
  {
   "cell_type": "code",
   "execution_count": 36,
   "metadata": {
    "collapsed": true
   },
   "outputs": [],
   "source": [
    "s = 'abcbcd'"
   ]
  },
  {
   "cell_type": "code",
   "execution_count": 38,
   "metadata": {
    "collapsed": true
   },
   "outputs": [],
   "source": [
    "s = 'djvdbfgmh'\n",
    "# bfgm"
   ]
  },
  {
   "cell_type": "code",
   "execution_count": 29,
   "metadata": {
    "collapsed": true
   },
   "outputs": [],
   "source": [
    "s = 'zkizfdwxikqxkesbfjqji'\n",
    "# ikqx"
   ]
  },
  {
   "cell_type": "code",
   "execution_count": 31,
   "metadata": {
    "collapsed": true
   },
   "outputs": [],
   "source": [
    "s = 'pyvzskpqlvkxkgnznfop'\n",
    "# kpq"
   ]
  },
  {
   "cell_type": "code",
   "execution_count": 33,
   "metadata": {
    "collapsed": true
   },
   "outputs": [],
   "source": [
    "s = 'lyjmjinjgkkx'\n",
    "# gkkx"
   ]
  },
  {
   "cell_type": "code",
   "execution_count": 40,
   "metadata": {
    "collapsed": true
   },
   "outputs": [],
   "source": [
    "s = 'owiebgmvqckqzwvq'\n",
    "# bgmv"
   ]
  },
  {
   "cell_type": "code",
   "execution_count": 42,
   "metadata": {
    "collapsed": true
   },
   "outputs": [],
   "source": [
    "s = 'vhqarmekxyrpovfecwrz'\n",
    "# ekxy"
   ]
  },
  {
   "cell_type": "code",
   "execution_count": null,
   "metadata": {
    "collapsed": true
   },
   "outputs": [],
   "source": [
    "s = 'avizdbeur'\n",
    "# beu"
   ]
  },
  {
   "cell_type": "code",
   "execution_count": 67,
   "metadata": {
    "collapsed": true
   },
   "outputs": [],
   "source": [
    "s = 'abcdefghijklmnopqrstuvwxyz'\n",
    "# abcdefghijklmnopqrstuvwxyz"
   ]
  },
  {
   "cell_type": "code",
   "execution_count": 62,
   "metadata": {
    "collapsed": true
   },
   "outputs": [],
   "source": [
    "s = 'zyxwvutsrqponmlkjihgfedcba'\n",
    "# z"
   ]
  },
  {
   "cell_type": "code",
   "execution_count": 59,
   "metadata": {
    "collapsed": true
   },
   "outputs": [],
   "source": [
    "s = 'qpuytkugxfrpxwbvok'\n",
    "# puy"
   ]
  },
  {
   "cell_type": "code",
   "execution_count": 71,
   "metadata": {
    "collapsed": true
   },
   "outputs": [],
   "source": [
    "s = 'uuemekgvha'\n",
    "# uu"
   ]
  },
  {
   "cell_type": "code",
   "execution_count": 73,
   "metadata": {
    "collapsed": true
   },
   "outputs": [],
   "source": [
    "s = 'pcuttxtbahzl'\n",
    "# ttx"
   ]
  },
  {
   "cell_type": "code",
   "execution_count": 74,
   "metadata": {
    "collapsed": false
   },
   "outputs": [
    {
     "name": "stdout",
     "output_type": "stream",
     "text": [
      "ttx\n"
     ]
    }
   ],
   "source": [
    "current_str = longest_str = s[0]\n",
    "for i in range(len(s)-1):\n",
    "    if s[i] <= s[i+1]:\n",
    "        current_str += s[i+1]\n",
    "    else:\n",
    "        current_str = s[i+1]\n",
    "    if len(longest_str) < len(current_str):\n",
    "        longest_str = current_str\n",
    "print(longest_str)"
   ]
  },
  {
   "cell_type": "code",
   "execution_count": null,
   "metadata": {
    "collapsed": true
   },
   "outputs": [],
   "source": []
  }
 ],
 "metadata": {
  "kernelspec": {
   "display_name": "Python 3",
   "language": "python",
   "name": "python3"
  },
  "language_info": {
   "codemirror_mode": {
    "name": "ipython",
    "version": 3
   },
   "file_extension": ".py",
   "mimetype": "text/x-python",
   "name": "python",
   "nbconvert_exporter": "python",
   "pygments_lexer": "ipython3",
   "version": "3.6.0"
  }
 },
 "nbformat": 4,
 "nbformat_minor": 2
}
