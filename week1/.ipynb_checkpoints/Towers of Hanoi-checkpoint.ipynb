{
 "cells": [
  {
   "cell_type": "code",
   "execution_count": 3,
   "metadata": {
    "collapsed": true
   },
   "outputs": [],
   "source": [
    "# Taken from course, not even sure this actually works\n",
    "def printMove(fr, to):\n",
    "    print(\"Move from\", str(fr), \"to\", str(to))\n",
    "\n",
    "def towers(n = 4, fr = 1, to = 3, spare = 2):\n",
    "    if n == 1:\n",
    "        printMove(fr, to)\n",
    "    else:\n",
    "        towers(n-1, fr, spare, to)\n",
    "        towers(1, fr, to, spare)\n",
    "        towers(n-1, spare, to, fr)"
   ]
  },
  {
   "cell_type": "code",
   "execution_count": 4,
   "metadata": {
    "collapsed": false
   },
   "outputs": [
    {
     "name": "stdout",
     "output_type": "stream",
     "text": [
      "Move from 2 to 3\n",
      "Move from 2 to 1\n",
      "Move from 3 to 1\n",
      "Move from 2 to 3\n",
      "Move from 1 to 2\n",
      "Move from 1 to 3\n",
      "Move from 2 to 3\n",
      "Move from 2 to 1\n",
      "Move from 3 to 1\n",
      "Move from 3 to 2\n",
      "Move from 1 to 2\n",
      "Move from 3 to 1\n",
      "Move from 2 to 3\n",
      "Move from 2 to 1\n",
      "Move from 3 to 1\n"
     ]
    }
   ],
   "source": [
    "towers(4, 2, 1, 3)"
   ]
  },
  {
   "cell_type": "code",
   "execution_count": null,
   "metadata": {
    "collapsed": true
   },
   "outputs": [],
   "source": []
  }
 ],
 "metadata": {
  "kernelspec": {
   "display_name": "Python 3",
   "language": "python",
   "name": "python3"
  },
  "language_info": {
   "codemirror_mode": {
    "name": "ipython",
    "version": 3
   },
   "file_extension": ".py",
   "mimetype": "text/x-python",
   "name": "python",
   "nbconvert_exporter": "python",
   "pygments_lexer": "ipython3",
   "version": "3.6.0"
  }
 },
 "nbformat": 4,
 "nbformat_minor": 2
}
