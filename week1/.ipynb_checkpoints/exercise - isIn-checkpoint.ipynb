{
 "cells": [
  {
   "cell_type": "code",
   "execution_count": 65,
   "metadata": {
    "collapsed": false
   },
   "outputs": [],
   "source": [
    "def isIn(char, aStr):\n",
    "    '''\n",
    "    char: a single character\n",
    "    aStr: an alphabetized string\n",
    "    \n",
    "    returns: True if char is in aStr; False otherwise\n",
    "    '''\n",
    "    if aStr == \"\":\n",
    "        return False\n",
    "    \n",
    "    middle = len(aStr) // 2\n",
    "    \n",
    "    if char > aStr[middle]:\n",
    "        return char == aStr[middle] or isIn(char, aStr[middle+1:])\n",
    "    else:\n",
    "        return char == aStr[middle] or isIn(char, aStr[:-middle])"
   ]
  },
  {
   "cell_type": "code",
   "execution_count": 69,
   "metadata": {
    "collapsed": true
   },
   "outputs": [],
   "source": [
    "def isIn(char, aStr):\n",
    "    if len(aStr) <= 1:\n",
    "        return char == aStr\n",
    "    middle = len(aStr) // 2\n",
    "    if char > aStr[middle]:\n",
    "        return char == aStr[middle] or isIn(char, aStr[middle+1:])\n",
    "    else:\n",
    "        return char == aStr[middle] or isIn(char, aStr[:-middle])"
   ]
  },
  {
   "cell_type": "code",
   "execution_count": 70,
   "metadata": {
    "collapsed": false
   },
   "outputs": [
    {
     "name": "stdout",
     "output_type": "stream",
     "text": [
      "True\n",
      "False\n",
      "True\n",
      "True\n"
     ]
    }
   ],
   "source": [
    "print(isIn(\"a\", \"abc\"))\n",
    "print(isIn(\"f\", \"abcxyz\"))\n",
    "print(isIn(\"x\", \"abcdefghxyz\"))\n",
    "print(isIn(\"b\", \"abcdefghxyz\"))"
   ]
  },
  {
   "cell_type": "code",
   "execution_count": 43,
   "metadata": {
    "collapsed": false
   },
   "outputs": [
    {
     "data": {
      "text/plain": [
       "'xyz'"
      ]
     },
     "execution_count": 43,
     "metadata": {},
     "output_type": "execute_result"
    }
   ],
   "source": [
    "\"abcxyz\"[3:]"
   ]
  },
  {
   "cell_type": "code",
   "execution_count": 51,
   "metadata": {
    "collapsed": false
   },
   "outputs": [
    {
     "data": {
      "text/plain": [
       "0"
      ]
     },
     "execution_count": 51,
     "metadata": {},
     "output_type": "execute_result"
    }
   ],
   "source": [
    "1//2"
   ]
  },
  {
   "cell_type": "code",
   "execution_count": null,
   "metadata": {
    "collapsed": true
   },
   "outputs": [],
   "source": []
  }
 ],
 "metadata": {
  "kernelspec": {
   "display_name": "Python 3",
   "language": "python",
   "name": "python3"
  },
  "language_info": {
   "codemirror_mode": {
    "name": "ipython",
    "version": 3
   },
   "file_extension": ".py",
   "mimetype": "text/x-python",
   "name": "python",
   "nbconvert_exporter": "python",
   "pygments_lexer": "ipython3",
   "version": "3.6.0"
  }
 },
 "nbformat": 4,
 "nbformat_minor": 2
}
