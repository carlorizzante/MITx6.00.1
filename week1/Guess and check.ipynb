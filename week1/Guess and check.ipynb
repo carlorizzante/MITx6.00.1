{
 "cells": [
  {
   "cell_type": "code",
   "execution_count": 46,
   "metadata": {
    "collapsed": false
   },
   "outputs": [
    {
     "name": "stdout",
     "output_type": "stream",
     "text": [
      "Enter a perfect cube: 4\n",
      "Bummer, 4 is not a perfect cube.\n"
     ]
    }
   ],
   "source": [
    "# Does not account for negative cubes\n",
    "x = int(input(\"Enter a perfect cube: \"))\n",
    "guess = 0\n",
    "\n",
    "while guess**3 < x:\n",
    "    guess +=1\n",
    "if guess**3 == x:\n",
    "    print(\"Thanks, \" + str(x) + \" is the perfect cube.\")\n",
    "else:\n",
    "    print(\"Bummer, \" + str(x) + \" is not a perfect cube.\")"
   ]
  },
  {
   "cell_type": "code",
   "execution_count": 52,
   "metadata": {
    "collapsed": false
   },
   "outputs": [
    {
     "name": "stdout",
     "output_type": "stream",
     "text": [
      "Enter a perfect cube: -27\n",
      "Thanks, -27 is the perfect cube of -3.\n"
     ]
    }
   ],
   "source": [
    "# Accounts for negative cubes\n",
    "x = int(input(\"Enter a perfect cube: \"))\n",
    "guess = 0\n",
    "\n",
    "while guess**3 < abs(x):\n",
    "    guess +=1\n",
    "if guess**3 == abs(x):\n",
    "    if x < 0:\n",
    "        guess *= -1\n",
    "    print(\"Thanks, \" + str(x) + \" is the perfect cube of \" + str(guess) + \".\")\n",
    "else:\n",
    "    print(\"Bummer, \" + str(x) + \" is not a perfect cube.\")"
   ]
  },
  {
   "cell_type": "code",
   "execution_count": 60,
   "metadata": {
    "collapsed": false
   },
   "outputs": [
    {
     "name": "stdout",
     "output_type": "stream",
     "text": [
      "Enter a perfect cube: -27\n",
      "Thanks, -27 is the perfect cube of -3.\n"
     ]
    }
   ],
   "source": [
    "# Inverse loop\n",
    "x = int(input(\"Enter a perfect cube: \"))\n",
    "guess = 0\n",
    "while guess**3 - abs(x) < 0:\n",
    "    guess += 1\n",
    "if guess**3 == abs(x):\n",
    "    if x < 0:\n",
    "        guess *= -1\n",
    "    print(\"Thanks, \" + str(x) + \" is the perfect cube of \" + str(guess) + \".\")\n",
    "else:\n",
    "    print(\"Bummer, \" + str(x) + \" is not a perfect cube.\")"
   ]
  },
  {
   "cell_type": "code",
   "execution_count": 69,
   "metadata": {
    "collapsed": false
   },
   "outputs": [
    {
     "name": "stdout",
     "output_type": "stream",
     "text": [
      "Enter a perfect cube: -27\n",
      "Thanks, -27 is the perfect cube of -3.\n"
     ]
    }
   ],
   "source": [
    "# Using a for loop\n",
    "x = int(input(\"Enter a perfect cube: \"))\n",
    "for guess in range(abs(x)):\n",
    "    if guess**3 >= abs(x):\n",
    "        break\n",
    "if guess**3 == abs(x):\n",
    "    if x < 0:\n",
    "        guess *= -1\n",
    "    print(\"Thanks, \" + str(x) + \" is the perfect cube of \" + str(guess) + \".\")\n",
    "else:\n",
    "    print(\"Bummer, \" + str(x) + \" is not a perfect cube.\")"
   ]
  },
  {
   "cell_type": "code",
   "execution_count": null,
   "metadata": {
    "collapsed": true
   },
   "outputs": [],
   "source": []
  }
 ],
 "metadata": {
  "kernelspec": {
   "display_name": "Python 3",
   "language": "python",
   "name": "python3"
  },
  "language_info": {
   "codemirror_mode": {
    "name": "ipython",
    "version": 3
   },
   "file_extension": ".py",
   "mimetype": "text/x-python",
   "name": "python",
   "nbconvert_exporter": "python",
   "pygments_lexer": "ipython3",
   "version": "3.6.0"
  }
 },
 "nbformat": 4,
 "nbformat_minor": 2
}
