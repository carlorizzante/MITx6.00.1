{
 "cells": [
  {
   "cell_type": "code",
   "execution_count": 53,
   "metadata": {
    "collapsed": false
   },
   "outputs": [],
   "source": [
    "import re\n",
    "def isPalindrome(s):\n",
    "    s = re.sub('[^A-Za-z]+', '', s)\n",
    "    if len(s) < 2:\n",
    "        return True\n",
    "    else:\n",
    "        return s[0].lower() == s[-1].lower() and isPalindrome(s[1:-1])"
   ]
  },
  {
   "cell_type": "code",
   "execution_count": 54,
   "metadata": {
    "collapsed": false
   },
   "outputs": [
    {
     "name": "stdout",
     "output_type": "stream",
     "text": [
      "True\n",
      "True\n",
      "True\n",
      "False\n",
      "False\n",
      "True\n",
      "True\n",
      "True\n"
     ]
    }
   ],
   "source": [
    "print(isPalindrome(\"\"))\n",
    "print(isPalindrome(\"a\"))\n",
    "print(isPalindrome(\"heeh\"))\n",
    "print(isPalindrome(\"ssaasg\"))\n",
    "print(isPalindrome(\"ssaasg\"))\n",
    "print(isPalindrome(\"Madam, I'm Adam\"))\n",
    "print(isPalindrome(\"Able was I ere I saw Elba\"))\n",
    "print(isPalindrome(\"Never odd or even\"))"
   ]
  },
  {
   "cell_type": "code",
   "execution_count": 12,
   "metadata": {
    "collapsed": false
   },
   "outputs": [
    {
     "data": {
      "text/plain": [
       "'ell'"
      ]
     },
     "execution_count": 12,
     "metadata": {},
     "output_type": "execute_result"
    }
   ],
   "source": [
    "\"hello\"[1:-1]"
   ]
  },
  {
   "cell_type": "code",
   "execution_count": null,
   "metadata": {
    "collapsed": true
   },
   "outputs": [],
   "source": []
  }
 ],
 "metadata": {
  "kernelspec": {
   "display_name": "Python 3",
   "language": "python",
   "name": "python3"
  },
  "language_info": {
   "codemirror_mode": {
    "name": "ipython",
    "version": 3
   },
   "file_extension": ".py",
   "mimetype": "text/x-python",
   "name": "python",
   "nbconvert_exporter": "python",
   "pygments_lexer": "ipython3",
   "version": "3.6.0"
  }
 },
 "nbformat": 4,
 "nbformat_minor": 2
}
