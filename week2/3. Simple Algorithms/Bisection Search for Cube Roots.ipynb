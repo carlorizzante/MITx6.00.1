{
 "cells": [
  {
   "cell_type": "code",
   "execution_count": 18,
   "metadata": {
    "collapsed": false
   },
   "outputs": [
    {
     "name": "stdout",
     "output_type": "stream",
     "text": [
      "177\n",
      "22.9999977200169\n",
      "Tolerance: 2.279983096542537e-06\n"
     ]
    }
   ],
   "source": [
    "# My first attempt\n",
    "x = 23**3\n",
    "guess = x\n",
    "precision = 0.01\n",
    "counter = 0\n",
    "while True:\n",
    "    counter += 1\n",
    "    if abs(guess**3 - x) <= precision:\n",
    "        break\n",
    "    elif guess**3 > x:\n",
    "        limit = guess\n",
    "        guess /= 2\n",
    "    else:\n",
    "        guess += (limit - guess) / 2\n",
    "#     print(guess)\n",
    "print(counter)\n",
    "print(guess)\n",
    "print(\"Tolerance: \" + str(x**(1/3) - guess))"
   ]
  },
  {
   "cell_type": "code",
   "execution_count": 16,
   "metadata": {
    "collapsed": false
   },
   "outputs": [
    {
     "name": "stdout",
     "output_type": "stream",
     "text": [
      "Guesses 29\n",
      "23.00000055320561 is close to the root of 12167\n",
      "Tolerance: -5.532056128743079e-07\n"
     ]
    }
   ],
   "source": [
    "# Teacher's code\n",
    "x = 23**3\n",
    "epsilon = 0.01\n",
    "numGuesses = 0\n",
    "low = 1.0\n",
    "high = x\n",
    "ans = (high + low) / 2.0\n",
    "\n",
    "while abs(ans**3 - x) >= epsilon:\n",
    "#     print(\"low = \" + str(low) + \" high = \" + str(high) + \" ans = \" + str(ans))\n",
    "    numGuesses += 1\n",
    "    if ans**3 < x:\n",
    "        low = ans\n",
    "    else:\n",
    "        high = ans\n",
    "    ans = (high + low) / 2\n",
    "\n",
    "print(\"Guesses \" + str(numGuesses))\n",
    "print(str(ans) + \" is close to the root of \" + str(x))\n",
    "print(\"Tolerance: \" + str(x**(1/3) - ans))"
   ]
  },
  {
   "cell_type": "code",
   "execution_count": 35,
   "metadata": {
    "collapsed": false
   },
   "outputs": [
    {
     "name": "stdout",
     "output_type": "stream",
     "text": [
      "73\n",
      "-9.000016844174203 is a close cube root of -729\n",
      "Tolerance: (13.500016844174203+7.794228634059946j)\n"
     ]
    }
   ],
   "source": [
    "# Code for negative cube roots\n",
    "x = -1 * 9**3\n",
    "guess = x\n",
    "precision = 0.01\n",
    "counter = 0\n",
    "while True:\n",
    "    counter += 1\n",
    "    if abs(guess**3 - x) <= precision:\n",
    "        break\n",
    "    elif abs(guess**3) > abs(x):\n",
    "        limit = guess\n",
    "        guess /= 2\n",
    "    else:\n",
    "        guess += (limit - guess) / 2\n",
    "#     print(guess)\n",
    "print(counter)\n",
    "print(str(guess) + \" is a close cube root of \" + str(x))\n",
    "print(\"Tolerance: \" + str(x**(1/3) - guess))"
   ]
  },
  {
   "cell_type": "code",
   "execution_count": null,
   "metadata": {
    "collapsed": true
   },
   "outputs": [],
   "source": []
  }
 ],
 "metadata": {
  "kernelspec": {
   "display_name": "Python 3",
   "language": "python",
   "name": "python3"
  },
  "language_info": {
   "codemirror_mode": {
    "name": "ipython",
    "version": 3
   },
   "file_extension": ".py",
   "mimetype": "text/x-python",
   "name": "python",
   "nbconvert_exporter": "python",
   "pygments_lexer": "ipython3",
   "version": "3.6.0"
  }
 },
 "nbformat": 4,
 "nbformat_minor": 2
}
