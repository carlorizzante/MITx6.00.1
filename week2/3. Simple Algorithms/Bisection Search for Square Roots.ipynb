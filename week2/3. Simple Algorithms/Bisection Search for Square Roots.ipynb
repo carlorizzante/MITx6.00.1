{
 "cells": [
  {
   "cell_type": "code",
   "execution_count": 60,
   "metadata": {
    "collapsed": false
   },
   "outputs": [
    {
     "name": "stdout",
     "output_type": "stream",
     "text": [
      "44\n",
      "5.000083315579218\n",
      "Tolerance: -8.33155792179241e-05\n"
     ]
    }
   ],
   "source": [
    "# My first attempt\n",
    "import math\n",
    "\n",
    "x = 25\n",
    "guess = x\n",
    "precision = 0.01\n",
    "counter = 0\n",
    "while True:\n",
    "    counter += 1\n",
    "    if abs(guess**2 - x) <= precision:\n",
    "        break\n",
    "    elif guess**2 > x:\n",
    "        limit = guess\n",
    "        guess /= 2\n",
    "    else:\n",
    "        guess += (limit - guess) / 2\n",
    "#     print(guess)\n",
    "print(counter)\n",
    "print(guess)\n",
    "print(\"Tolerance: \" + str(math.sqrt(x) - guess))"
   ]
  },
  {
   "cell_type": "code",
   "execution_count": 51,
   "metadata": {
    "collapsed": false
   },
   "outputs": [
    {
     "name": "stdout",
     "output_type": "stream",
     "text": [
      "Guesses 12\n",
      "4.9990234375 is close to the root of 25\n",
      "Tolerance: 0.0009765625\n"
     ]
    }
   ],
   "source": [
    "# Teacher's code\n",
    "import math\n",
    "\n",
    "x = 25\n",
    "epsilon = 0.01\n",
    "numGuesses = 0\n",
    "low = 1.0\n",
    "high = x\n",
    "ans = (high + low) / 2.0\n",
    "\n",
    "while abs(ans**2 - x) >= epsilon:\n",
    "#     print(\"low = \" + str(low) + \" high = \" + str(high) + \" ans = \" + str(ans))\n",
    "    numGuesses += 1\n",
    "    if ans**2 < x:\n",
    "        low = ans\n",
    "    else:\n",
    "        high = ans\n",
    "    ans = (high + low) / 2\n",
    "\n",
    "print(\"Guesses \" + str(numGuesses))\n",
    "print(str(ans) + \" is close to the root of \" + str(x))\n",
    "print(\"Tolerance: \" + str(math.sqrt(x) - ans))"
   ]
  },
  {
   "cell_type": "code",
   "execution_count": null,
   "metadata": {
    "collapsed": true
   },
   "outputs": [],
   "source": []
  }
 ],
 "metadata": {
  "kernelspec": {
   "display_name": "Python 3",
   "language": "python",
   "name": "python3"
  },
  "language_info": {
   "codemirror_mode": {
    "name": "ipython",
    "version": 3
   },
   "file_extension": ".py",
   "mimetype": "text/x-python",
   "name": "python",
   "nbconvert_exporter": "python",
   "pygments_lexer": "ipython3",
   "version": "3.6.0"
  }
 },
 "nbformat": 4,
 "nbformat_minor": 2
}
