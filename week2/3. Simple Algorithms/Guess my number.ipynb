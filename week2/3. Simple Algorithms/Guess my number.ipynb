{
 "cells": [
  {
   "cell_type": "code",
   "execution_count": 24,
   "metadata": {
    "collapsed": false
   },
   "outputs": [
    {
     "name": "stdout",
     "output_type": "stream",
     "text": [
      "Please think of a number between 0 and 100! \n",
      "Is your secret number 50? \n",
      "Enter 'h' to indicate the guess is too high. Enter 'l' to indicate the guess is too low. Enter 'c' to indicate I guessed correctly. 50\n",
      "Sorry, I did not understand your input.\n",
      "Is your secret number 50? \n",
      "Enter 'h' to indicate the guess is too high. Enter 'l' to indicate the guess is too low. Enter 'c' to indicate I guessed correctly. c\n",
      "Game over. Your secret number was: 50\n"
     ]
    }
   ],
   "source": [
    "top = 100;\n",
    "bottom = 0\n",
    "print(\"Please think of a number between \" + str(bottom) + \" and \" + str(top) + \"! \")\n",
    "answer = \"\"\n",
    "\n",
    "guess = (top - bottom) / 2\n",
    "while answer != \"c\" or answer != \"l\" or \"h\":\n",
    "    print(\"Is your secret number \" + str(int(guess)) + \"? \")\n",
    "    answer = input(\"Enter 'h' to indicate the guess is too high. Enter 'l' to indicate the guess is too low. Enter 'c' to indicate I guessed correctly. \")\n",
    "    \n",
    "    if answer == \"c\":\n",
    "        print(\"Game over. Your secret number was: \" + str(int(guess)))\n",
    "        break\n",
    "    elif answer == \"h\":\n",
    "        top = guess\n",
    "        guess = int((bottom + guess) / 2)\n",
    "    elif answer == \"l\":\n",
    "        bottom = guess\n",
    "        guess += int((top - guess) / 2)\n",
    "    else:\n",
    "        print(\"Sorry, I did not understand your input.\")"
   ]
  },
  {
   "cell_type": "code",
   "execution_count": null,
   "metadata": {
    "collapsed": true
   },
   "outputs": [],
   "source": []
  },
  {
   "cell_type": "code",
   "execution_count": null,
   "metadata": {
    "collapsed": true
   },
   "outputs": [],
   "source": []
  }
 ],
 "metadata": {
  "kernelspec": {
   "display_name": "Python 3",
   "language": "python",
   "name": "python3"
  },
  "language_info": {
   "codemirror_mode": {
    "name": "ipython",
    "version": 3
   },
   "file_extension": ".py",
   "mimetype": "text/x-python",
   "name": "python",
   "nbconvert_exporter": "python",
   "pygments_lexer": "ipython3",
   "version": "3.6.0"
  }
 },
 "nbformat": 4,
 "nbformat_minor": 2
}
