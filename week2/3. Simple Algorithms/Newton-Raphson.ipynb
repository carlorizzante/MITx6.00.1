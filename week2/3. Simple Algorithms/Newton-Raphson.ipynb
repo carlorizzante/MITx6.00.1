{
 "cells": [
  {
   "cell_type": "code",
   "execution_count": 12,
   "metadata": {
    "collapsed": false
   },
   "outputs": [
    {
     "name": "stdout",
     "output_type": "stream",
     "text": [
      "Counter 0\n",
      "Square root of 4 is close to 2.0\n",
      "Accuracy 0.0\n"
     ]
    }
   ],
   "source": [
    "precision = 0.00001\n",
    "x = 4\n",
    "guess = x / 2.0\n",
    "counter = 0\n",
    "\n",
    "while abs(guess * guess - x) >= precision:\n",
    "    counter += 1\n",
    "    guess = guess - ((guess**2 - x) / (2 * guess))\n",
    "print(\"Counter \" + str(counter))\n",
    "print(\"Square root of \" + str(x) + \" is close to \" + str(guess))\n",
    "print(\"Accuracy \" + str(x**(1/2) - guess))"
   ]
  },
  {
   "cell_type": "code",
   "execution_count": null,
   "metadata": {
    "collapsed": true
   },
   "outputs": [],
   "source": []
  }
 ],
 "metadata": {
  "kernelspec": {
   "display_name": "Python 3",
   "language": "python",
   "name": "python3"
  },
  "language_info": {
   "codemirror_mode": {
    "name": "ipython",
    "version": 3
   },
   "file_extension": ".py",
   "mimetype": "text/x-python",
   "name": "python",
   "nbconvert_exporter": "python",
   "pygments_lexer": "ipython3",
   "version": "3.6.0"
  }
 },
 "nbformat": 4,
 "nbformat_minor": 2
}
