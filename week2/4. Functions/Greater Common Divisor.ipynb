{
 "cells": [
  {
   "cell_type": "code",
   "execution_count": 58,
   "metadata": {
    "collapsed": true
   },
   "outputs": [],
   "source": [
    "def gcdIter(a, b):\n",
    "    '''\n",
    "    a, b: positive integers\n",
    "    \n",
    "    returns: a positive integer, the greatest common divisor of a & b.\n",
    "    '''\n",
    "    if a == b:\n",
    "        return a\n",
    "    elif a < b:\n",
    "        low = a\n",
    "        high = b\n",
    "    else:\n",
    "        low = b\n",
    "        high = a\n",
    "    test = low\n",
    "    while test > 1:\n",
    "        if high%test == 0 and low%test == 0:\n",
    "            return test\n",
    "        test -= 1\n",
    "    return 1"
   ]
  },
  {
   "cell_type": "code",
   "execution_count": 100,
   "metadata": {
    "collapsed": false
   },
   "outputs": [],
   "source": [
    "# https://en.wikipedia.org/wiki/Euclidean_algorithm#Worked_example\n",
    "def gcdRecur(a, b):\n",
    "    '''\n",
    "    a, b: positive integers\n",
    "    \n",
    "    returns: a positive integer, the greatest common divisor of a & b.\n",
    "    '''\n",
    "    if a == b:\n",
    "        return a\n",
    "    else:\n",
    "        return gcdRecur(max(a, b) - min(a, b), min(a, b))"
   ]
  },
  {
   "cell_type": "code",
   "execution_count": 96,
   "metadata": {
    "collapsed": false
   },
   "outputs": [],
   "source": []
  },
  {
   "cell_type": "code",
   "execution_count": 64,
   "metadata": {
    "collapsed": false
   },
   "outputs": [
    {
     "name": "stdout",
     "output_type": "stream",
     "text": [
      "4\n",
      "8\n",
      "2\n",
      "6\n",
      "3\n",
      "1\n"
     ]
    }
   ],
   "source": [
    "print(gcdIter(12, 16))\n",
    "print(gcdIter(24, 16))\n",
    "print(gcdIter(2, 12))\n",
    "print(gcdIter(6, 12))\n",
    "print(gcdIter(9, 12))\n",
    "print(gcdIter(17, 12))"
   ]
  },
  {
   "cell_type": "code",
   "execution_count": 101,
   "metadata": {
    "collapsed": false
   },
   "outputs": [
    {
     "name": "stdout",
     "output_type": "stream",
     "text": [
      "4\n",
      "8\n",
      "2\n",
      "6\n",
      "3\n",
      "1\n"
     ]
    }
   ],
   "source": [
    "print(gcdRecur(12, 16))\n",
    "print(gcdRecur(24, 16))\n",
    "print(gcdRecur(2, 12))\n",
    "print(gcdRecur(6, 12))\n",
    "print(gcdRecur(9, 12))\n",
    "print(gcdRecur(17, 12))"
   ]
  },
  {
   "cell_type": "code",
   "execution_count": 94,
   "metadata": {
    "collapsed": false
   },
   "outputs": [
    {
     "data": {
      "text/plain": [
       "5"
      ]
     },
     "execution_count": 94,
     "metadata": {},
     "output_type": "execute_result"
    }
   ],
   "source": []
  },
  {
   "cell_type": "code",
   "execution_count": null,
   "metadata": {
    "collapsed": true
   },
   "outputs": [],
   "source": []
  }
 ],
 "metadata": {
  "kernelspec": {
   "display_name": "Python 3",
   "language": "python",
   "name": "python3"
  },
  "language_info": {
   "codemirror_mode": {
    "name": "ipython",
    "version": 3
   },
   "file_extension": ".py",
   "mimetype": "text/x-python",
   "name": "python",
   "nbconvert_exporter": "python",
   "pygments_lexer": "ipython3",
   "version": "3.6.0"
  }
 },
 "nbformat": 4,
 "nbformat_minor": 2
}
