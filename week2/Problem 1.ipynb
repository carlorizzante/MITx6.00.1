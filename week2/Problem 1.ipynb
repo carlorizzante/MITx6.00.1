{
 "cells": [
  {
   "cell_type": "markdown",
   "metadata": {},
   "source": [
    "Write a program to calculate the credit card balance after one year if a person only pays the minimum monthly payment required by the credit card company each month.\n",
    "\n",
    "The following variables contain values as described below:\n",
    "\n",
    "balance - the outstanding balance on the credit card\n",
    "\n",
    "annualInterestRate - annual interest rate as a decimal\n",
    "\n",
    "monthlyPaymentRate - minimum monthly payment rate as a decimal\n",
    "\n",
    "For each month, calculate statements on the monthly payment and remaining balance. At the end of 12 months, print out the remaining balance.\n",
    "\n",
    "https://courses.edx.org/courses/course-v1:MITx+6.00.1x+2T2017/courseware/0de4fecc5a9a4749923133fcf4de181f/e137765987514da7851a59dedeb5ecec/?child=first"
   ]
  },
  {
   "cell_type": "code",
   "execution_count": 2,
   "metadata": {
    "collapsed": false
   },
   "outputs": [],
   "source": [
    "# Test Case 1:\n",
    "balance = 42\n",
    "annualInterestRate = 0.2\n",
    "monthlyPaymentRate = 0.04\n",
    "\n",
    "# Result Your Code Should Generate Below:\n",
    "# Remaining balance: 31.38"
   ]
  },
  {
   "cell_type": "code",
   "execution_count": 4,
   "metadata": {
    "collapsed": false
   },
   "outputs": [
    {
     "name": "stdout",
     "output_type": "stream",
     "text": [
      "Remaining balance: 31.38\n"
     ]
    }
   ],
   "source": [
    "final = balance\n",
    "for i in range(12):\n",
    "    actual = final - final * monthlyPaymentRate\n",
    "    final = actual + actual * (annualInterestRate / 12)\n",
    "print(\"Remaining balance:\", round(final, 2))"
   ]
  },
  {
   "cell_type": "code",
   "execution_count": null,
   "metadata": {
    "collapsed": false
   },
   "outputs": [],
   "source": []
  },
  {
   "cell_type": "code",
   "execution_count": 13,
   "metadata": {
    "collapsed": true
   },
   "outputs": [],
   "source": [
    "# Test Case 1:\n",
    "balance = 3329\n",
    "annualInterestRate = 0.2\n",
    "\n",
    "# Result Your Code Should Generate:\n",
    "# -------------------\n",
    "# Lowest Payment: 310"
   ]
  },
  {
   "cell_type": "code",
   "execution_count": 254,
   "metadata": {
    "collapsed": true
   },
   "outputs": [],
   "source": [
    "# Test Case 2:\n",
    "balance = 4773\n",
    "annualInterestRate = 0.2\n",
    "\n",
    "# Result Your Code Should Generate:\n",
    "# -------------------\n",
    "# Lowest Payment: 440"
   ]
  },
  {
   "cell_type": "code",
   "execution_count": 15,
   "metadata": {
    "collapsed": false
   },
   "outputs": [
    {
     "name": "stdout",
     "output_type": "stream",
     "text": [
      "Lowest Payment:  3329\n"
     ]
    }
   ],
   "source": [
    "mPay = balance\n",
    "while True:\n",
    "    # current balance at month 0\n",
    "    current = balance - mPay\n",
    "    \n",
    "    # apply interest over the next 12 month\n",
    "    for i in range(11):\n",
    "        interest = current * annualInterestRate / 12\n",
    "        current = current + interest - mPay\n",
    "    \n",
    "    # calculate payments\n",
    "    if current <= 0:\n",
    "        break\n",
    "        \n",
    "    mPay += 10\n",
    "    \n",
    "print(\"Lowest Payment: \", mPay)\n",
    "# print(mPay * 12, current)"
   ]
  },
  {
   "cell_type": "code",
   "execution_count": 20,
   "metadata": {
    "collapsed": false
   },
   "outputs": [
    {
     "name": "stdout",
     "output_type": "stream",
     "text": [
      "Lowest Payment:  310\n"
     ]
    }
   ],
   "source": [
    "mPay = balance // 12 - (balance // 12 ) % 10\n",
    "while True:\n",
    "    # current balance at month 0\n",
    "    current = balance - mPay\n",
    "    \n",
    "    # apply interest over the next 12 month\n",
    "    for i in range(11):\n",
    "        interest = current * annualInterestRate / 12\n",
    "        current = current + interest - mPay\n",
    "    \n",
    "    # calculate payments\n",
    "    if current <= 0:\n",
    "        break\n",
    "        \n",
    "    mPay += 10\n",
    "    \n",
    "print(\"Lowest Payment: \", mPay)\n",
    "# print(mPay * 12, current)"
   ]
  },
  {
   "cell_type": "code",
   "execution_count": 9,
   "metadata": {
    "collapsed": false
   },
   "outputs": [],
   "source": [
    "# Test Case 1:\n",
    "balance = 320000\n",
    "annualInterestRate = 0.2\n",
    "\n",
    "# Result Your Code Should Generate:\n",
    "# -------------------\n",
    "# Lowest Payment: 29157.09"
   ]
  },
  {
   "cell_type": "code",
   "execution_count": 271,
   "metadata": {
    "collapsed": true
   },
   "outputs": [],
   "source": [
    "# Test Case 2:\n",
    "balance = 999999\n",
    "annualInterestRate = 0.18\n",
    "\n",
    "# Result Your Code Should Generate:\n",
    "# -------------------\n",
    "# Lowest Payment: 90325.03"
   ]
  },
  {
   "cell_type": "code",
   "execution_count": 276,
   "metadata": {
    "collapsed": false
   },
   "outputs": [
    {
     "name": "stdout",
     "output_type": "stream",
     "text": [
      "Lowest Payment:  29157.08935186511\n",
      "counter 187\n",
      "mPay * 12 349885.0722223813\n",
      "current 0.013543298842705553\n"
     ]
    }
   ],
   "source": [
    "lowBoundPay = balance / 12\n",
    "highBoundPay = (balance * (1 + annualInterestRate / 12)**12) / 12\n",
    "counter = 0\n",
    "\n",
    "while True:\n",
    "    mPay = (lowBoundPay + highBoundPay) / 2\n",
    "    current = balance - mPay\n",
    "    \n",
    "    for i in range(11):\n",
    "        counter += 1\n",
    "        actual = current * (1 + annualInterestRate / 12)\n",
    "        current = actual - mPay\n",
    "    \n",
    "    if -0.1 < current < 0.1:\n",
    "        break\n",
    "\n",
    "    else:\n",
    "        if current < 0:\n",
    "            highBoundPay = mPay\n",
    "        else:\n",
    "            lowBoundPay = mPay\n",
    "\n",
    "print(\"Lowest Payment: \", mPay)\n",
    "print(\"counter\", counter)\n",
    "print(\"mPay * 12\", mPay * 12)\n",
    "print(\"current\", current)"
   ]
  },
  {
   "cell_type": "code",
   "execution_count": 277,
   "metadata": {
    "collapsed": false
   },
   "outputs": [
    {
     "name": "stdout",
     "output_type": "stream",
     "text": [
      "Lowest Payment:  29157.09\n"
     ]
    }
   ],
   "source": [
    "lowBoundPay = balance / 12\n",
    "highBoundPay = (balance * (1 + annualInterestRate / 12)**12) / 12\n",
    "\n",
    "while True:\n",
    "    mPay = (lowBoundPay + highBoundPay) / 2\n",
    "    current = balance - mPay\n",
    "    \n",
    "    for i in range(11):\n",
    "        actual = current * (1 + annualInterestRate / 12)\n",
    "        current = actual - mPay\n",
    "    \n",
    "    if -0.1 < current < 0:\n",
    "        break\n",
    "\n",
    "    else:\n",
    "        if current < 0:\n",
    "            highBoundPay = mPay\n",
    "        else:\n",
    "            lowBoundPay = mPay\n",
    "\n",
    "print(\"Lowest Payment: \", round(mPay, 2))"
   ]
  },
  {
   "cell_type": "code",
   "execution_count": 243,
   "metadata": {
    "collapsed": false
   },
   "outputs": [
    {
     "data": {
      "text/plain": [
       "3.56"
      ]
     },
     "execution_count": 243,
     "metadata": {},
     "output_type": "execute_result"
    }
   ],
   "source": [
    "mPay"
   ]
  },
  {
   "cell_type": "code",
   "execution_count": null,
   "metadata": {
    "collapsed": true
   },
   "outputs": [],
   "source": []
  }
 ],
 "metadata": {
  "kernelspec": {
   "display_name": "Python 3",
   "language": "python",
   "name": "python3"
  },
  "language_info": {
   "codemirror_mode": {
    "name": "ipython",
    "version": 3
   },
   "file_extension": ".py",
   "mimetype": "text/x-python",
   "name": "python",
   "nbconvert_exporter": "python",
   "pygments_lexer": "ipython3",
   "version": "3.6.0"
  }
 },
 "nbformat": 4,
 "nbformat_minor": 2
}
