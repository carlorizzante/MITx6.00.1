{
 "cells": [
  {
   "cell_type": "code",
   "execution_count": 4,
   "metadata": {
    "collapsed": false
   },
   "outputs": [
    {
     "name": "stdout",
     "output_type": "stream",
     "text": [
      "14930352\n",
      "count 18454929\n"
     ]
    }
   ],
   "source": [
    "count = 0\n",
    "\n",
    "def fib_basic(n):\n",
    "    global count\n",
    "    count += 1\n",
    "    if n <= 2:\n",
    "        return n\n",
    "    else:\n",
    "        return fib_basic(n-1) + fib_basic(n-2)\n",
    "\n",
    "print(fib_basic(35))\n",
    "print(\"count\", count)"
   ]
  },
  {
   "cell_type": "code",
   "execution_count": 12,
   "metadata": {
    "collapsed": false
   },
   "outputs": [
    {
     "name": "stdout",
     "output_type": "stream",
     "text": [
      "2498969039560915132957977798862109344396049027027608580321689463293083154191701872161544253851021166818224976696498665856655054877267897114315732109703320617984221250891067213686546998323182474416674\n",
      "count 1897\n"
     ]
    }
   ],
   "source": [
    "count = 0\n",
    "\n",
    "def fib_dict(n, d = {1:1, 2:2}):\n",
    "    global count\n",
    "    count += 1\n",
    "    if n in d:\n",
    "        return d[n]\n",
    "    else:\n",
    "        ans = fib_dict(n-1, d) + fib_dict(n-2, d)\n",
    "        d[n] = ans\n",
    "        return ans\n",
    "\n",
    "# d = {1:1, 2:2}\n",
    "print(fib_dict(950))\n",
    "print(\"count\", count)"
   ]
  },
  {
   "cell_type": "code",
   "execution_count": 13,
   "metadata": {
    "collapsed": false
   },
   "outputs": [
    {
     "name": "stdout",
     "output_type": "stream",
     "text": [
      "5702887\n",
      "count 1897\n"
     ]
    }
   ],
   "source": [
    "def fibonacci(n):\n",
    "    i = 1 \n",
    "    a, b = 0, 1\n",
    "    #a, b = 1, 2 #uncomment this line for same results as in video\n",
    "    while True:\n",
    "        if i == n:\n",
    "            return a\n",
    "        a, b = b, a + b\n",
    "        i += 1\n",
    "print(fibonacci(35))\n",
    "print(\"count\", count)"
   ]
  },
  {
   "cell_type": "code",
   "execution_count": 14,
   "metadata": {
    "collapsed": false
   },
   "outputs": [],
   "source": [
    "def fibonacci_effective(n):\n",
    "    max_key = max(d.keys())\n",
    "    if n > max_key:\n",
    "        i = max_key-1\n",
    "        a, b = d[max_key-1], d[max_key]\n",
    "    else:\n",
    "        i = n-1\n",
    "        a, b = d[n-1], d[n]\n",
    "    while True:\n",
    "        d[i] = a\n",
    "        if i == n:\n",
    "            return a\n",
    "        a, b = b, a + b\n",
    "        i += 1\n",
    "\n",
    "d = {1:0,2:1}"
   ]
  },
  {
   "cell_type": "code",
   "execution_count": null,
   "metadata": {
    "collapsed": false
   },
   "outputs": [],
   "source": []
  },
  {
   "cell_type": "code",
   "execution_count": null,
   "metadata": {
    "collapsed": false
   },
   "outputs": [],
   "source": []
  },
  {
   "cell_type": "code",
   "execution_count": null,
   "metadata": {
    "collapsed": true
   },
   "outputs": [],
   "source": []
  }
 ],
 "metadata": {
  "kernelspec": {
   "display_name": "Python 3",
   "language": "python",
   "name": "python3"
  },
  "language_info": {
   "codemirror_mode": {
    "name": "ipython",
    "version": 3
   },
   "file_extension": ".py",
   "mimetype": "text/x-python",
   "name": "python",
   "nbconvert_exporter": "python",
   "pygments_lexer": "ipython3",
   "version": "3.6.0"
  }
 },
 "nbformat": 4,
 "nbformat_minor": 2
}
