{
 "cells": [
  {
   "cell_type": "code",
   "execution_count": 15,
   "metadata": {
    "collapsed": true
   },
   "outputs": [],
   "source": [
    "# Assumes lyrics is an array of words\n",
    "\n",
    "def lyrics_to_frequencies(lyrics):\n",
    "    allWords = {}\n",
    "    for word in lyrics:\n",
    "        if word in allWords:\n",
    "            allWords[word] += 1\n",
    "        else:\n",
    "            allWords[word] = 1\n",
    "    return allWords\n",
    "\n",
    "def words_from_lyrics(lyrics):\n",
    "    return lyrics.split(\" \")\n",
    "\n",
    "def most_common_words(freqs):\n",
    "    values = freqs.values()\n",
    "    best = max(values)\n",
    "    words = []\n",
    "    for word in freqs:\n",
    "        if freqs[word] == best:\n",
    "            words.append(word)\n",
    "    return (words, best)\n",
    "\n",
    "def words_often(freqs, minTimes):\n",
    "    result = []\n",
    "    done = False\n",
    "    while not done:\n",
    "        temp = most_common_words(freqs)\n",
    "        if temp[1] >= minTimes:\n",
    "            result.append(temp)\n",
    "            for w in temp[0]:\n",
    "                del(freqs[w])\n",
    "        else:\n",
    "            done = True"
   ]
  },
  {
   "cell_type": "code",
   "execution_count": 12,
   "metadata": {
    "collapsed": false
   },
   "outputs": [
    {
     "data": {
      "text/plain": [
       "{'Hello': 1, 'world!': 1}"
      ]
     },
     "execution_count": 12,
     "metadata": {},
     "output_type": "execute_result"
    }
   ],
   "source": [
    "lyrics_to_frequencies(words_from_lyrics(\"Hello world!\"))"
   ]
  },
  {
   "cell_type": "code",
   "execution_count": 13,
   "metadata": {
    "collapsed": false
   },
   "outputs": [
    {
     "data": {
      "text/plain": [
       "{'Hello': 1, 'world': 1}"
      ]
     },
     "execution_count": 13,
     "metadata": {},
     "output_type": "execute_result"
    }
   ],
   "source": [
    "lyrics_to_frequencies([\"Hello\", \"world\"])"
   ]
  },
  {
   "cell_type": "code",
   "execution_count": 14,
   "metadata": {
    "collapsed": false
   },
   "outputs": [
    {
     "data": {
      "text/plain": [
       "(['Hello'], 2)"
      ]
     },
     "execution_count": 14,
     "metadata": {},
     "output_type": "execute_result"
    }
   ],
   "source": [
    "most_common_words(lyrics_to_frequencies([\"Hello\", \"Hello\", \"World\"]))"
   ]
  },
  {
   "cell_type": "code",
   "execution_count": null,
   "metadata": {
    "collapsed": true
   },
   "outputs": [],
   "source": []
  }
 ],
 "metadata": {
  "kernelspec": {
   "display_name": "Python 3",
   "language": "python",
   "name": "python3"
  },
  "language_info": {
   "codemirror_mode": {
    "name": "ipython",
    "version": 3
   },
   "file_extension": ".py",
   "mimetype": "text/x-python",
   "name": "python",
   "nbconvert_exporter": "python",
   "pygments_lexer": "ipython3",
   "version": "3.6.0"
  }
 },
 "nbformat": 4,
 "nbformat_minor": 2
}
