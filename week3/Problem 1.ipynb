{
 "cells": [
  {
   "cell_type": "code",
   "execution_count": 6,
   "metadata": {
    "collapsed": false
   },
   "outputs": [
    {
     "name": "stdout",
     "output_type": "stream",
     "text": [
      "4\n",
      "5\n",
      "8\n",
      "8\n",
      "3\n",
      "5\n",
      "6\n",
      "5\n",
      "5\n",
      "4\n"
     ]
    }
   ],
   "source": [
    "import random\n",
    "lst = [1,2,3,4,5,6,8]\n",
    "for i in range(10):\n",
    "    print(random.choice(lst))"
   ]
  },
  {
   "cell_type": "code",
   "execution_count": 50,
   "metadata": {
    "collapsed": true
   },
   "outputs": [],
   "source": [
    "import random\n",
    "\n",
    "WORDLIST_FILENAME = \"words.txt\"\n",
    "\n",
    "def loadWords():\n",
    "    \"\"\"\n",
    "    Returns a list of valid words. Words are strings of lowercase letters.\n",
    "    \n",
    "    Depending on the size of the word list, this function may\n",
    "    take a while to finish.\n",
    "    \"\"\"\n",
    "    print(\"Loading word list from file...\")\n",
    "    # inFile: file\n",
    "    inFile = open(WORDLIST_FILENAME, 'r')\n",
    "    # line: string\n",
    "    line = inFile.readline()\n",
    "    # wordlist: list of strings\n",
    "    wordlist = line.split()\n",
    "    print(\"  \", len(wordlist), \"words loaded.\")\n",
    "    return wordlist\n",
    "\n",
    "def chooseWord(wordlist):\n",
    "    \"\"\"\n",
    "    wordlist (list): list of words (strings)\n",
    "\n",
    "    Returns a word from wordlist at random\n",
    "    \"\"\"\n",
    "    return random.choice(wordlist)"
   ]
  },
  {
   "cell_type": "code",
   "execution_count": 13,
   "metadata": {
    "collapsed": false
   },
   "outputs": [
    {
     "name": "stdout",
     "output_type": "stream",
     "text": [
      "5\n",
      "o\n",
      "['H', 'e', 'l', 'l']\n",
      "4\n"
     ]
    }
   ],
   "source": [
    "word = \"Hello\"\n",
    "lword = list(word)\n",
    "print(len(lword))\n",
    "print(lword.pop())\n",
    "print(lword)\n",
    "print(len(lword))"
   ]
  },
  {
   "cell_type": "code",
   "execution_count": 21,
   "metadata": {
    "collapsed": false
   },
   "outputs": [
    {
     "data": {
      "text/plain": [
       "True"
      ]
     },
     "execution_count": 21,
     "metadata": {},
     "output_type": "execute_result"
    }
   ],
   "source": [
    "secretWord = 'apple'\n",
    "lettersGuessed = ['e', 'i', 'k', 'p', 'r', 's', 'l', 'a']\n",
    "\n",
    "def isWordGuessed(secretWord, lettersGuessed):\n",
    "    '''\n",
    "    secretWord: string, the word the user is guessing\n",
    "    lettersGuessed: list, what letters have been guessed so far\n",
    "    returns: boolean, True if all the letters of secretWord are in lettersGuessed;\n",
    "      False otherwise\n",
    "    '''\n",
    "    lword = list(secretWord)\n",
    "    while len(lword):\n",
    "        char = lword.pop()\n",
    "        if char not in lettersGuessed:\n",
    "            return False\n",
    "    return True\n",
    "\n",
    "isWordGuessed(secretWord, lettersGuessed)"
   ]
  },
  {
   "cell_type": "code",
   "execution_count": 23,
   "metadata": {
    "collapsed": false
   },
   "outputs": [
    {
     "data": {
      "text/plain": [
       "False"
      ]
     },
     "execution_count": 23,
     "metadata": {},
     "output_type": "execute_result"
    }
   ],
   "source": [
    "secretWord = 'apple'\n",
    "lettersGuessed = ['e', 'i', 'k', 'p', 'r', 's', 'l']\n",
    "\n",
    "def isWordGuessed(secretWord, lettersGuessed):\n",
    "    '''\n",
    "    secretWord: string, the word the user is guessing\n",
    "    lettersGuessed: list, what letters have been guessed so far\n",
    "    returns: boolean, True if all the letters of secretWord are in lettersGuessed;\n",
    "      False otherwise\n",
    "    '''\n",
    "    for char in secretWord:\n",
    "        if char not in lettersGuessed:\n",
    "            return False\n",
    "    return True\n",
    "\n",
    "isWordGuessed(secretWord, lettersGuessed)"
   ]
  },
  {
   "cell_type": "code",
   "execution_count": 28,
   "metadata": {
    "collapsed": false
   },
   "outputs": [
    {
     "name": "stdout",
     "output_type": "stream",
     "text": [
      "_ pp_ e\n"
     ]
    }
   ],
   "source": [
    "secretWord = 'apple' \n",
    "lettersGuessed = ['e', 'i', 'k', 'p', 'r', 's']\n",
    "\n",
    "def getGuessedWord(secretWord, lettersGuessed):\n",
    "    '''\n",
    "    secretWord: string, the word the user is guessing\n",
    "    lettersGuessed: list, what letters have been guessed so far\n",
    "    returns: string, comprised of letters and underscores that represents\n",
    "      what letters in secretWord have been guessed so far.\n",
    "    '''\n",
    "    guessed = \"\"\n",
    "    for char in secretWord:\n",
    "        if char in lettersGuessed:\n",
    "            guessed += char\n",
    "        else:\n",
    "            guessed += \"_ \"\n",
    "    return guessed\n",
    "\n",
    "print(getGuessedWord(secretWord, lettersGuessed))"
   ]
  },
  {
   "cell_type": "code",
   "execution_count": 44,
   "metadata": {
    "collapsed": false
   },
   "outputs": [
    {
     "name": "stdout",
     "output_type": "stream",
     "text": [
      "abcdfghjlmnoqtuvwxyz\n"
     ]
    }
   ],
   "source": [
    "lettersGuessed = ['e', 'i', 'k', 'p', 'r', 's']\n",
    "\n",
    "import string\n",
    "def getAvailableLetters(lettersGuessed):\n",
    "    '''\n",
    "    lettersGuessed: list, what letters have been guessed so far\n",
    "    returns: string, comprised of letters that represents what letters have not\n",
    "      yet been guessed.\n",
    "    '''\n",
    "    availableLetters = string.ascii_lowercase\n",
    "    index = len(availableLetters)\n",
    "    while index:\n",
    "        index -= 1\n",
    "        if availableLetters[index] in lettersGuessed:\n",
    "            availableLetters = availableLetters.replace(availableLetters[index], \"\")        \n",
    "    return availableLetters\n",
    "    \n",
    "print(getAvailableLetters(lettersGuessed))\n",
    "# abcdfghjlmnoqtuvwxyz"
   ]
  },
  {
   "cell_type": "code",
   "execution_count": 31,
   "metadata": {
    "collapsed": false
   },
   "outputs": [
    {
     "name": "stdout",
     "output_type": "stream",
     "text": [
      "abcdefghijklmnopqrstuvwxyz\n"
     ]
    }
   ],
   "source": [
    "import string\n",
    "print(string.ascii_lowercase)\n",
    "# abcdefghijklmnopqrstuvwxyz"
   ]
  },
  {
   "cell_type": "code",
   "execution_count": 89,
   "metadata": {
    "collapsed": false
   },
   "outputs": [
    {
     "name": "stdout",
     "output_type": "stream",
     "text": [
      "Loading word list from file...\n",
      "   55909 words loaded.\n",
      "Welcome to the game, Hangman!\n",
      "I am thinking of a word that is 9 letters long.\n",
      "-------------\n",
      "You have 8 guesses left.\n",
      "Available letters: abcdefghijklmnopqrstuvwxyz\n",
      "Please guess a letter: a\n",
      "Good guess: _ _ _ _ a_ _ _ _ \n",
      "-------------\n",
      "You have 8 guesses left.\n",
      "Available letters: bcdefghijklmnopqrstuvwxyz\n",
      "Please guess a letter: e\n",
      "Good guess: _ ee_ a_ _ _ _ \n",
      "-------------\n",
      "You have 8 guesses left.\n",
      "Available letters: bcdfghijklmnopqrstuvwxyz\n",
      "Please guess a letter: o\n",
      "Oops! That letter is not in my word: _ ee_ a_ _ _ _ \n",
      "-------------\n",
      "You have 7 guesses left.\n",
      "Available letters: bcdfghijklmnpqrstuvwxyz\n",
      "Please guess a letter: t\n",
      "Oops! That letter is not in my word: _ ee_ a_ _ _ _ \n",
      "-------------\n",
      "You have 6 guesses left.\n",
      "Available letters: bcdfghijklmnpqrsuvwxyz\n",
      "Please guess a letter: l\n",
      "Oops! That letter is not in my word: _ ee_ a_ _ _ _ \n",
      "-------------\n",
      "You have 5 guesses left.\n",
      "Available letters: bcdfghijkmnpqrsuvwxyz\n",
      "Please guess a letter: y\n",
      "Oops! That letter is not in my word: _ ee_ a_ _ _ _ \n",
      "-------------\n",
      "You have 4 guesses left.\n",
      "Available letters: bcdfghijkmnpqrsuvwxz\n",
      "Please guess a letter: t\n",
      "Oops! You've already guessed that letter: _ ee_ a_ _ _ _ \n",
      "-------------\n",
      "You have 4 guesses left.\n",
      "Available letters: bcdfghijkmnpqrsuvwxz\n",
      "Please guess a letter: b\n",
      "Oops! That letter is not in my word: _ ee_ a_ _ _ _ \n",
      "-------------\n",
      "You have 3 guesses left.\n",
      "Available letters: cdfghijkmnpqrsuvwxz\n",
      "Please guess a letter: r\n",
      "Oops! That letter is not in my word: _ ee_ a_ _ _ _ \n",
      "-------------\n",
      "You have 2 guesses left.\n",
      "Available letters: cdfghijkmnpqsuvwxz\n",
      "Please guess a letter: k\n",
      "Oops! That letter is not in my word: _ ee_ a_ _ _ _ \n",
      "-------------\n",
      "You have 1 guesses left.\n",
      "Available letters: cdfghijmnpqsuvwxz\n",
      "Please guess a letter: m\n",
      "Oops! That letter is not in my word: _ ee_ a_ _ _ _ \n",
      "-------------\n",
      "Sorry, you ran out of guesses. The word was seesawing.\n"
     ]
    }
   ],
   "source": [
    "def hangman(secretWord):\n",
    "    '''\n",
    "    secretWord: string, the secret word to guess.\n",
    "\n",
    "    Starts up an interactive game of Hangman.\n",
    "\n",
    "    * At the start of the game, let the user know how many \n",
    "      letters the secretWord contains.\n",
    "\n",
    "    * Ask the user to supply one guess (i.e. letter) per round.\n",
    "\n",
    "    * The user should receive feedback immediately after each guess \n",
    "      about whether their guess appears in the computers word.\n",
    "\n",
    "    * After each round, you should also display to the user the \n",
    "      partially guessed word so far, as well as letters that the \n",
    "      user has not yet guessed.\n",
    "\n",
    "    Follows the other limitations detailed in the problem write-up.\n",
    "    '''\n",
    "    \n",
    "    # Welcome and introduce player to the game\n",
    "    print(\"Welcome to the game, Hangman!\")\n",
    "    print(\"I am thinking of a word that is\", len(secretWord), \"letters long.\")\n",
    "    \n",
    "    # Initial setup\n",
    "    mistakesMade = 0\n",
    "    maxMistakes = 8\n",
    "    lettersGuessed = []\n",
    "    availableLetters = getAvailableLetters(lettersGuessed)\n",
    "    \n",
    "    # Start game!\n",
    "    while mistakesMade < maxMistakes:\n",
    "        \n",
    "        print(\"-------------\")\n",
    "        print(\"You have\", maxMistakes - mistakesMade, \"guesses left.\")\n",
    "        print(\"Available letters:\", availableLetters)\n",
    "        currentGuess = input(\"Please guess a letter: \")\n",
    "        \n",
    "        if currentGuess not in availableLetters:\n",
    "            print(\"Oops! You've already guessed that letter: \", end=\"\")\n",
    "            \n",
    "        elif currentGuess in secretWord:\n",
    "            print(\"Good guess: \", end=\"\")\n",
    "            \n",
    "        else:\n",
    "            mistakesMade += 1\n",
    "            print(\"Oops! That letter is not in my word: \", end=\"\")\n",
    "            \n",
    "        lettersGuessed.append(currentGuess)\n",
    "        availableLetters = getAvailableLetters(lettersGuessed)\n",
    "        print(getGuessedWord(secretWord, lettersGuessed))\n",
    "        \n",
    "        if isWordGuessed(secretWord, lettersGuessed):\n",
    "            print(\"-------------\")\n",
    "            print(\"Congratulations, you won!\")\n",
    "            return\n",
    "        \n",
    "    print(\"-------------\")\n",
    "    print(\"Sorry, you ran out of guesses. The word was \" + secretWord + \".\")\n",
    "    return\n",
    "\n",
    "wordlist = loadWords()\n",
    "secretWord = chooseWord(wordlist).lower()\n",
    "hangman(secretWord)"
   ]
  },
  {
   "cell_type": "code",
   "execution_count": null,
   "metadata": {
    "collapsed": true
   },
   "outputs": [],
   "source": []
  },
  {
   "cell_type": "code",
   "execution_count": null,
   "metadata": {
    "collapsed": true
   },
   "outputs": [],
   "source": []
  }
 ],
 "metadata": {
  "kernelspec": {
   "display_name": "Python 3",
   "language": "python",
   "name": "python3"
  },
  "language_info": {
   "codemirror_mode": {
    "name": "ipython",
    "version": 3
   },
   "file_extension": ".py",
   "mimetype": "text/x-python",
   "name": "python",
   "nbconvert_exporter": "python",
   "pygments_lexer": "ipython3",
   "version": "3.6.0"
  }
 },
 "nbformat": 4,
 "nbformat_minor": 2
}
