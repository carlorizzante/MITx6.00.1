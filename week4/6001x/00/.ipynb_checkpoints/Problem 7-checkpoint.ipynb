{
 "cells": [
  {
   "cell_type": "code",
   "execution_count": 94,
   "metadata": {
    "collapsed": false
   },
   "outputs": [],
   "source": [
    "def dict_invert(d):\n",
    "    '''\n",
    "    d: dict\n",
    "    Returns an inverted dictionary according to the instructions above\n",
    "    '''\n",
    "    result = {}\n",
    "    for key, value in d.items():\n",
    "        result[value] = []\n",
    "    for key, value in d.items():\n",
    "        result[value].append(key)\n",
    "    for key, value in d.items():\n",
    "        result[value] = sorted(result[value])\n",
    "    return result"
   ]
  },
  {
   "cell_type": "code",
   "execution_count": 95,
   "metadata": {
    "collapsed": false
   },
   "outputs": [
    {
     "data": {
      "text/plain": [
       "{10: [1], 20: [2], 30: [3]}"
      ]
     },
     "execution_count": 95,
     "metadata": {},
     "output_type": "execute_result"
    }
   ],
   "source": [
    "d = {1:10, 2:20, 3:30}\n",
    "dict_invert(d)\n",
    "# {10: [1], 20: [2], 30: [3]}"
   ]
  },
  {
   "cell_type": "code",
   "execution_count": 96,
   "metadata": {
    "collapsed": false
   },
   "outputs": [
    {
     "data": {
      "text/plain": [
       "{10: [1], 20: [2], 30: [3, 4]}"
      ]
     },
     "execution_count": 96,
     "metadata": {},
     "output_type": "execute_result"
    }
   ],
   "source": [
    "d = {1:10, 2:20, 3:30, 4:30}\n",
    "dict_invert(d)\n",
    "# {10: [1], 20: [2], 30: [3, 4]}"
   ]
  },
  {
   "cell_type": "code",
   "execution_count": 97,
   "metadata": {
    "collapsed": false
   },
   "outputs": [
    {
     "data": {
      "text/plain": [
       "{True: [0, 2, 4]}"
      ]
     },
     "execution_count": 97,
     "metadata": {},
     "output_type": "execute_result"
    }
   ],
   "source": [
    "d = {4:True, 2:True, 0:True}\n",
    "dict_invert(d)\n",
    "# {True: [0, 2, 4]}"
   ]
  },
  {
   "cell_type": "code",
   "execution_count": null,
   "metadata": {
    "collapsed": true
   },
   "outputs": [],
   "source": []
  },
  {
   "cell_type": "code",
   "execution_count": null,
   "metadata": {
    "collapsed": true
   },
   "outputs": [],
   "source": []
  }
 ],
 "metadata": {
  "kernelspec": {
   "display_name": "Python 3",
   "language": "python",
   "name": "python3"
  },
  "language_info": {
   "codemirror_mode": {
    "name": "ipython",
    "version": 3
   },
   "file_extension": ".py",
   "mimetype": "text/x-python",
   "name": "python",
   "nbconvert_exporter": "python",
   "pygments_lexer": "ipython3",
   "version": "3.6.0"
  }
 },
 "nbformat": 4,
 "nbformat_minor": 2
}
