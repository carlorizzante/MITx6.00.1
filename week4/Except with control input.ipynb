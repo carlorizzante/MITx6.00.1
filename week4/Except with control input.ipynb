{
 "cells": [
  {
   "cell_type": "code",
   "execution_count": 21,
   "metadata": {
    "collapsed": false
   },
   "outputs": [
    {
     "name": "stdout",
     "output_type": "stream",
     "text": [
      "File to open? text.txt\n",
      "1 Jon Snow, 17\n",
      "2 Anne Oliver, 16\n",
      "3 Drake Goldman, 1\n",
      "Ok\n"
     ]
    }
   ],
   "source": [
    "data = []\n",
    "file_name = input(\"File to open? \")\n",
    "\n",
    "try:\n",
    "    fh = open(file_name, \"r\")\n",
    "except IOError:\n",
    "    print(\"Cannot open\", file_name)\n",
    "else:\n",
    "    counter = 0\n",
    "    for new in fh:\n",
    "        counter += 1\n",
    "        print(counter, new[:-1])\n",
    "    print(\"Ok\")\n",
    "finally:\n",
    "    fh.close()"
   ]
  },
  {
   "cell_type": "code",
   "execution_count": 26,
   "metadata": {
    "collapsed": false
   },
   "outputs": [
    {
     "name": "stdout",
     "output_type": "stream",
     "text": [
      "File to open? text.txt\n",
      "Ok\n"
     ]
    },
    {
     "data": {
      "text/plain": [
       "[['Jon', ' Snow', ' 17'],\n",
       " ['Anne', ' Oliver', ' 16'],\n",
       " ['Drake', ' Goldman', ' 19'],\n",
       " ['Quill', ' Suc']]"
      ]
     },
     "execution_count": 26,
     "metadata": {},
     "output_type": "execute_result"
    }
   ],
   "source": [
    "data = []\n",
    "file_name = input(\"File to open? \")\n",
    "\n",
    "try:\n",
    "    fh = open(file_name, \"r\")\n",
    "except IOError:\n",
    "    print(\"Cannot open\", file_name)\n",
    "else:\n",
    "    counter = 0\n",
    "    for new in fh:\n",
    "        counter += 1\n",
    "        if new != \"\\n\":\n",
    "            addIt = new[:-1].split(\",\") # removes trailing \\n\n",
    "            data.append(addIt)\n",
    "    print(\"Ok\")\n",
    "finally:\n",
    "    fh.close()\n",
    "    \n",
    "gradesData = []\n",
    "if data:\n",
    "    for student in data:\n",
    "        try:\n",
    "            gradesData.append([student[0:2], student[2]])\n",
    "        except IndexError:\n",
    "            gradesData.append([student[0:2], []])\n",
    "data"
   ]
  },
  {
   "cell_type": "code",
   "execution_count": 37,
   "metadata": {
    "collapsed": false
   },
   "outputs": [
    {
     "name": "stdout",
     "output_type": "stream",
     "text": [
      "File to open? students.txt\n"
     ]
    },
    {
     "data": {
      "text/plain": [
       "[[['Jon', ' Snow'], [17]],\n",
       " [['Anne', ' Oliver'], [16]],\n",
       " [['Drake', ' Goldman'], [19]],\n",
       " [['Quill'], [13]],\n",
       " [['Ann', ' Louise', ' Skov'], []],\n",
       " [['Ki', ' Khan', ' Kun'], [1]]]"
      ]
     },
     "execution_count": 37,
     "metadata": {},
     "output_type": "execute_result"
    }
   ],
   "source": [
    "# final\n",
    "data = []\n",
    "file_name = input(\"File to open? \")\n",
    "\n",
    "try:\n",
    "    fh = open(file_name, \"r\")\n",
    "except IOError:\n",
    "    print(\"Unable to open\", file_name)\n",
    "else:\n",
    "    for new in fh:\n",
    "        if new != \"\\n\":\n",
    "            addIt = new[:-1].split(\",\")\n",
    "            data.append(addIt)\n",
    "finally:\n",
    "    fh.close()\n",
    "\n",
    "if data:\n",
    "    grades = []\n",
    "    for student in data:\n",
    "        try:\n",
    "            name = student[0:-1]\n",
    "            grade = int(student[-1])\n",
    "            grades.append([name, [grade]])\n",
    "        except ValueError:\n",
    "            grades.append([student[:], []])\n",
    "\n",
    "grades"
   ]
  },
  {
   "cell_type": "code",
   "execution_count": null,
   "metadata": {
    "collapsed": true
   },
   "outputs": [],
   "source": []
  }
 ],
 "metadata": {
  "kernelspec": {
   "display_name": "Python 3",
   "language": "python",
   "name": "python3"
  },
  "language_info": {
   "codemirror_mode": {
    "name": "ipython",
    "version": 3
   },
   "file_extension": ".py",
   "mimetype": "text/x-python",
   "name": "python",
   "nbconvert_exporter": "python",
   "pygments_lexer": "ipython3",
   "version": "3.6.0"
  }
 },
 "nbformat": 4,
 "nbformat_minor": 2
}
