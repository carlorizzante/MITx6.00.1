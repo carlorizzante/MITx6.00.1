{
 "cells": [
  {
   "cell_type": "code",
   "execution_count": 16,
   "metadata": {
    "collapsed": false
   },
   "outputs": [],
   "source": [
    "def get_ratio(L1, L2):\n",
    "    \"\"\"\n",
    "    Assumes: L1 and L2 are lists of equal length of numbers\n",
    "    Returns: a list containing L1[i]/L2[i]\n",
    "    \"\"\"\n",
    "    ratios = []\n",
    "    for i in range(len(L1)):\n",
    "        try:\n",
    "            ratios.append(L1[i]/L2[i])\n",
    "        except ZeroDivisionError:\n",
    "            ratios.append(float(\"NaN\")) # NaN is not a number\n",
    "        except:\n",
    "            raise ValueError(\"get_ratios called with bad arguments.\")\n",
    "            \n",
    "    return ratios"
   ]
  },
  {
   "cell_type": "code",
   "execution_count": 17,
   "metadata": {
    "collapsed": false
   },
   "outputs": [
    {
     "data": {
      "text/plain": [
       "[0.2, 0.3333333333333333, 0.42857142857142855, 0.5]"
      ]
     },
     "execution_count": 17,
     "metadata": {},
     "output_type": "execute_result"
    }
   ],
   "source": [
    "get_ratio([1,2,3,4], [5,6,7,8])"
   ]
  },
  {
   "cell_type": "code",
   "execution_count": null,
   "metadata": {
    "collapsed": false
   },
   "outputs": [],
   "source": []
  },
  {
   "cell_type": "code",
   "execution_count": 29,
   "metadata": {
    "collapsed": true
   },
   "outputs": [],
   "source": [
    "students = [\n",
    "    [[\"Peter\", \"Parker\"], [80, 70, 85]],\n",
    "    [[\"Bruce\", \"Waine\"], [100, 80, 74]],\n",
    "    [[\"Clark\", \"Kent\"], [90, 100, 100, 97]],\n",
    "    [[\"Deadpool\"], []]\n",
    "]"
   ]
  },
  {
   "cell_type": "code",
   "execution_count": 34,
   "metadata": {
    "collapsed": false
   },
   "outputs": [],
   "source": [
    "def get_stats(students):\n",
    "    new_stats = []\n",
    "    for student in students:\n",
    "        new_stats.append([student[0], student[1], avg(student[1])])\n",
    "    return new_stats\n",
    "\n",
    "def avg(grades):\n",
    "    try:\n",
    "        return sum(grades)/len(grades)\n",
    "    except ZeroDivisionError:\n",
    "        return 0"
   ]
  },
  {
   "cell_type": "code",
   "execution_count": 35,
   "metadata": {
    "collapsed": false
   },
   "outputs": [
    {
     "data": {
      "text/plain": [
       "[[['Peter', 'Parker'], [80, 70, 85], 78.33333333333333],\n",
       " [['Bruce', 'Waine'], [100, 80, 74], 84.66666666666667],\n",
       " [['Clark', 'Kent'], [90, 100, 100, 97], 96.75],\n",
       " [['Deadpool'], [], 0]]"
      ]
     },
     "execution_count": 35,
     "metadata": {},
     "output_type": "execute_result"
    }
   ],
   "source": [
    "get_stats(students)"
   ]
  },
  {
   "cell_type": "code",
   "execution_count": null,
   "metadata": {
    "collapsed": true
   },
   "outputs": [],
   "source": []
  },
  {
   "cell_type": "code",
   "execution_count": null,
   "metadata": {
    "collapsed": true
   },
   "outputs": [],
   "source": []
  }
 ],
 "metadata": {
  "kernelspec": {
   "display_name": "Python 3",
   "language": "python",
   "name": "python3"
  },
  "language_info": {
   "codemirror_mode": {
    "name": "ipython",
    "version": 3
   },
   "file_extension": ".py",
   "mimetype": "text/x-python",
   "name": "python",
   "nbconvert_exporter": "python",
   "pygments_lexer": "ipython3",
   "version": "3.6.0"
  }
 },
 "nbformat": 4,
 "nbformat_minor": 2
}
