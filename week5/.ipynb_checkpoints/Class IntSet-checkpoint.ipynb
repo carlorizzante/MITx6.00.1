{
 "cells": [
  {
   "cell_type": "code",
   "execution_count": 12,
   "metadata": {
    "collapsed": false
   },
   "outputs": [],
   "source": [
    "class IntSet(object):\n",
    "    def __init__(self):\n",
    "        self.vals = []\n",
    "    def insert(self, val):\n",
    "        if val not in self.vals:\n",
    "            self.vals.append(val)\n",
    "            return self.vals\n",
    "        else:\n",
    "            return False\n",
    "    def member(self, val):\n",
    "        return val in self.vals\n",
    "    def remove(self, val):\n",
    "        try:\n",
    "            self.vals.remove(val)\n",
    "            return val\n",
    "        except:\n",
    "            return False\n",
    "#     def remove(self, val):\n",
    "#         try:\n",
    "#             self.vals.remove(val)\n",
    "#             return val\n",
    "#         except:\n",
    "#             raise ValueError(str(val) + \" not found\")\n",
    "    def __str__(self):\n",
    "        self.vals.sort()\n",
    "        result = \"\"\n",
    "        for val in self.vals:\n",
    "            result += str(val) + \",\"\n",
    "        return \"{\" + result[:-1] + \"}\""
   ]
  },
  {
   "cell_type": "code",
   "execution_count": 24,
   "metadata": {
    "collapsed": false
   },
   "outputs": [
    {
     "name": "stdout",
     "output_type": "stream",
     "text": [
      "{}\n"
     ]
    }
   ],
   "source": [
    "vals = IntSet()\n",
    "print(vals)"
   ]
  },
  {
   "cell_type": "code",
   "execution_count": 29,
   "metadata": {
    "collapsed": false
   },
   "outputs": [
    {
     "name": "stdout",
     "output_type": "stream",
     "text": [
      "{2,4,7,11,13}\n"
     ]
    }
   ],
   "source": [
    "vals.insert(2)\n",
    "vals.insert(4)\n",
    "vals.insert(7)\n",
    "vals.insert(11)\n",
    "print(vals)"
   ]
  },
  {
   "cell_type": "code",
   "execution_count": 22,
   "metadata": {
    "collapsed": false
   },
   "outputs": [
    {
     "data": {
      "text/plain": [
       "False"
      ]
     },
     "execution_count": 22,
     "metadata": {},
     "output_type": "execute_result"
    }
   ],
   "source": [
    "vals.remove(3)"
   ]
  },
  {
   "cell_type": "code",
   "execution_count": 23,
   "metadata": {
    "collapsed": false
   },
   "outputs": [
    {
     "data": {
      "text/plain": [
       "2"
      ]
     },
     "execution_count": 23,
     "metadata": {},
     "output_type": "execute_result"
    }
   ],
   "source": [
    "vals.remove(2)"
   ]
  },
  {
   "cell_type": "code",
   "execution_count": 27,
   "metadata": {
    "collapsed": false
   },
   "outputs": [
    {
     "data": {
      "text/plain": [
       "False"
      ]
     },
     "execution_count": 27,
     "metadata": {},
     "output_type": "execute_result"
    }
   ],
   "source": [
    "vals.insert(13)\n",
    "vals.insert(13)"
   ]
  },
  {
   "cell_type": "code",
   "execution_count": null,
   "metadata": {
    "collapsed": true
   },
   "outputs": [],
   "source": []
  }
 ],
 "metadata": {
  "kernelspec": {
   "display_name": "Python 3",
   "language": "python",
   "name": "python3"
  },
  "language_info": {
   "codemirror_mode": {
    "name": "ipython",
    "version": 3
   },
   "file_extension": ".py",
   "mimetype": "text/x-python",
   "name": "python",
   "nbconvert_exporter": "python",
   "pygments_lexer": "ipython3",
   "version": "3.6.0"
  }
 },
 "nbformat": 4,
 "nbformat_minor": 2
}
