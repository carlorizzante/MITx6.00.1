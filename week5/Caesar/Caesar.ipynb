{
 "cells": [
  {
   "cell_type": "code",
   "execution_count": 104,
   "metadata": {
    "collapsed": true
   },
   "outputs": [],
   "source": [
    "import string\n",
    "\n",
    "### DO NOT MODIFY THIS FUNCTION ###\n",
    "def load_words(file_name):\n",
    "    '''\n",
    "    file_name (string): the name of the file containing \n",
    "    the list of words to load    \n",
    "    \n",
    "    Returns: a list of valid words. Words are strings of lowercase letters.\n",
    "    \n",
    "    Depending on the size of the word list, this function may\n",
    "    take a while to finish.\n",
    "    '''\n",
    "    print('Loading word list from file...')\n",
    "    # inFile: file\n",
    "    in_file = open(file_name, 'r')\n",
    "    # line: string\n",
    "    line = in_file.readline()\n",
    "    # word_list: list of strings\n",
    "    word_list = line.split()\n",
    "    print('  ', len(word_list), 'words loaded.')\n",
    "    in_file.close()\n",
    "    return word_list\n",
    "\n",
    "### DO NOT MODIFY THIS FUNCTION ###\n",
    "def is_word(word_list, word):\n",
    "    '''\n",
    "    Determines if word is a valid word, ignoring\n",
    "    capitalization and punctuation\n",
    "\n",
    "    word_list (list): list of words in the dictionary.\n",
    "    word (string): a possible word.\n",
    "    \n",
    "    Returns: True if word is in word_list, False otherwise\n",
    "\n",
    "    Example:\n",
    "    >>> is_word(word_list, 'bat') returns\n",
    "    True\n",
    "    >>> is_word(word_list, 'asdf') returns\n",
    "    False\n",
    "    '''\n",
    "    word = word.lower()\n",
    "    word = word.strip(\" !@#$%^&*()-_+={}[]|\\:;'<>?,./\\\"\")\n",
    "    return word in word_list\n",
    "\n",
    "### DO NOT MODIFY THIS FUNCTION ###\n",
    "def get_story_string():\n",
    "    \"\"\"\n",
    "    Returns: a joke in encrypted text.\n",
    "    \"\"\"\n",
    "    f = open(\"story.txt\", \"r\")\n",
    "    story = str(f.read())\n",
    "    f.close()\n",
    "    return story\n",
    "\n",
    "WORDLIST_FILENAME = 'words.txt'"
   ]
  },
  {
   "cell_type": "code",
   "execution_count": 105,
   "metadata": {
    "collapsed": true
   },
   "outputs": [],
   "source": [
    "class Message(object):\n",
    "    ### DO NOT MODIFY THIS METHOD ###\n",
    "    def __init__(self, text):\n",
    "        '''\n",
    "        Initializes a Message object\n",
    "                \n",
    "        text (string): the message's text\n",
    "\n",
    "        a Message object has two attributes:\n",
    "            self.message_text (string, determined by input text)\n",
    "            self.valid_words (list, determined using helper function load_words\n",
    "        '''\n",
    "        self.message_text = text\n",
    "        self.valid_words = load_words(WORDLIST_FILENAME)\n",
    "\n",
    "    ### DO NOT MODIFY THIS METHOD ###\n",
    "    def get_message_text(self):\n",
    "        '''\n",
    "        Used to safely access self.message_text outside of the class\n",
    "        \n",
    "        Returns: self.message_text\n",
    "        '''\n",
    "        return self.message_text\n",
    "\n",
    "    ### DO NOT MODIFY THIS METHOD ###\n",
    "    def get_valid_words(self):\n",
    "        '''\n",
    "        Used to safely access a copy of self.valid_words outside of the class\n",
    "        \n",
    "        Returns: a COPY of self.valid_words\n",
    "        '''\n",
    "        return self.valid_words[:]\n",
    "        \n",
    "    def build_shift_dict(self, shift):\n",
    "        '''\n",
    "        Creates a dictionary that can be used to apply a cipher to a letter.\n",
    "        The dictionary maps every uppercase and lowercase letter to a\n",
    "        character shifted down the alphabet by the input shift. The dictionary\n",
    "        should have 52 keys of all the uppercase letters and all the lowercase\n",
    "        letters only.        \n",
    "        \n",
    "        shift (integer): the amount by which to shift every letter of the \n",
    "        alphabet. 0 <= shift < 26\n",
    "\n",
    "        Returns: a dictionary mapping a letter (string) to \n",
    "                 another letter (string). \n",
    "        '''\n",
    "        shifted_alpha = {}\n",
    "    \n",
    "        index = 0\n",
    "        basic_alpha = []\n",
    "        for char in string.ascii_lowercase:\n",
    "            basic_alpha.append(char)\n",
    "        \n",
    "        for char in basic_alpha:\n",
    "            shifted_alpha[char] = basic_alpha[(index + shift) % len(basic_alpha)]\n",
    "            index += 1\n",
    "        \n",
    "        index = 0\n",
    "        basic_alpha = []\n",
    "        for char in string.ascii_uppercase:\n",
    "            basic_alpha.append(char)\n",
    "        \n",
    "        for char in basic_alpha:\n",
    "            shifted_alpha[char] = basic_alpha[(index + shift) % len(basic_alpha)]\n",
    "            index += 1\n",
    "        \n",
    "        return shifted_alpha\n",
    "            \n",
    "\n",
    "    def apply_shift(self, shift):\n",
    "        '''\n",
    "        Applies the Caesar Cipher to self.message_text with the input shift.\n",
    "        Creates a new string that is self.message_text shifted down the\n",
    "        alphabet by some number of characters determined by the input shift        \n",
    "        \n",
    "        shift (integer): the shift with which to encrypt the message.\n",
    "        0 <= shift < 26\n",
    "\n",
    "        Returns: the message text (string) in which every character is shifted\n",
    "             down the alphabet by the input shift\n",
    "        '''\n",
    "        shifted_dict = self.build_shift_dict(shift)\n",
    "        shifted_text = \"\"\n",
    "        \n",
    "        for char in self.message_text:\n",
    "            if char not in shifted_dict:\n",
    "                shifted_text += char\n",
    "            else:\n",
    "                shifted_text += shifted_dict[char]\n",
    "        \n",
    "        return shifted_text"
   ]
  },
  {
   "cell_type": "code",
   "execution_count": 106,
   "metadata": {
    "collapsed": false
   },
   "outputs": [],
   "source": [
    "class PlaintextMessage(Message):\n",
    "    def __init__(self, text, shift):\n",
    "        '''\n",
    "        Initializes a PlaintextMessage object        \n",
    "        \n",
    "        text (string): the message's text\n",
    "        shift (integer): the shift associated with this message\n",
    "\n",
    "        A PlaintextMessage object inherits from Message and has five attributes:\n",
    "            self.message_text (string, determined by input text)\n",
    "            self.valid_words (list, determined using helper function load_words)\n",
    "            self.shift (integer, determined by input shift)\n",
    "            self.encrypting_dict (dictionary, built using shift)\n",
    "            self.message_text_encrypted (string, created using shift)\n",
    "\n",
    "        Hint: consider using the parent class constructor so less \n",
    "        code is repeated\n",
    "        '''\n",
    "        self.message_text = text\n",
    "        self.valid_words = load_words(WORDLIST_FILENAME)\n",
    "        self.shift = shift\n",
    "        self.encrypting_dict = self.build_shift_dict(self.shift)\n",
    "        self.message_text_encrypted = self.apply_shift(self.shift)\n",
    "\n",
    "    def get_shift(self):\n",
    "        '''\n",
    "        Used to safely access self.shift outside of the class\n",
    "        \n",
    "        Returns: self.shift\n",
    "        '''\n",
    "        return self.shift\n",
    "\n",
    "    def get_encrypting_dict(self):\n",
    "        '''\n",
    "        Used to safely access a copy self.encrypting_dict outside of the class\n",
    "        \n",
    "        Returns: a COPY of self.encrypting_dict\n",
    "        '''\n",
    "        self.encrypting_dict = self.build_shift_dict(self.shift)\n",
    "        return self.encrypting_dict.copy()\n",
    "\n",
    "    def get_message_text_encrypted(self):\n",
    "        '''\n",
    "        Used to safely access self.message_text_encrypted outside of the class\n",
    "        \n",
    "        Returns: self.message_text_encrypted\n",
    "        '''\n",
    "        self.message_text_encrypted = self.apply_shift(self.shift)\n",
    "        return self.message_text_encrypted\n",
    "\n",
    "    def change_shift(self, shift):\n",
    "        '''\n",
    "        Changes self.shift of the PlaintextMessage and updates other \n",
    "        attributes determined by shift (ie. self.encrypting_dict and \n",
    "        message_text_encrypted).\n",
    "        \n",
    "        shift (integer): the new shift that should be associated with this message.\n",
    "        0 <= shift < 26\n",
    "\n",
    "        Returns: nothing\n",
    "        '''\n",
    "        self.shift = shift"
   ]
  },
  {
   "cell_type": "code",
   "execution_count": 107,
   "metadata": {
    "collapsed": false
   },
   "outputs": [],
   "source": [
    "class CiphertextMessage(Message):\n",
    "    def __init__(self, text):\n",
    "        '''\n",
    "        Initializes a CiphertextMessage object\n",
    "                \n",
    "        text (string): the message's text\n",
    "\n",
    "        a CiphertextMessage object has two attributes:\n",
    "            self.message_text (string, determined by input text)\n",
    "            self.valid_words (list, determined using helper function load_words)\n",
    "        '''\n",
    "        self.message_text = text\n",
    "        self.valid_words = load_words(WORDLIST_FILENAME)\n",
    "        \n",
    "    def extract_words(self, text):\n",
    "        \"\"\"\n",
    "        Returns a list of all words in a sentence.\n",
    "        \"\"\"\n",
    "        temp = \"\"\n",
    "        for char in text:\n",
    "            if char in string.ascii_lowercase or char in string.ascii_uppercase:\n",
    "                temp += char\n",
    "            else:\n",
    "                temp += \" \"\n",
    "        temp = temp.split(\" \")\n",
    "        words = []\n",
    "        for word in temp:\n",
    "            if word:\n",
    "                words.append(word)\n",
    "        return words\n",
    "    \n",
    "    def decrypt(self, shift, word, shifted_dict):\n",
    "        \"\"\"\n",
    "        Decrypt a single word, given a shift, the word, and a shifted dictionary to work with\n",
    "        \"\"\"\n",
    "        decrypted_word = \"\"\n",
    "        \n",
    "        for char in word:\n",
    "            if char not in shifted_dict:\n",
    "                decrypted_word += char\n",
    "            else:\n",
    "                decrypted_word += shifted_dict[char]\n",
    "                \n",
    "        return decrypted_word\n",
    "\n",
    "    def decrypt_message(self):\n",
    "        '''\n",
    "        Decrypt self.message_text by trying every possible shift value\n",
    "        and find the \"best\" one. We will define \"best\" as the shift that\n",
    "        creates the maximum number of real words when we use apply_shift(shift)\n",
    "        on the message text. If s is the original shift value used to encrypt\n",
    "        the message, then we would expect 26 - s to be the best shift value \n",
    "        for decrypting it.\n",
    "\n",
    "        Note: if multiple shifts are  equally good such that they all create \n",
    "        the maximum number of you may choose any of those shifts (and their\n",
    "        corresponding decrypted messages) to return\n",
    "\n",
    "        Returns: a tuple of the best shift value used to decrypt the message\n",
    "        and the decrypted message text using that shift value\n",
    "        '''\n",
    "        \n",
    "        # Plain message, none so far\n",
    "        plain_message = \"\"\n",
    "        \n",
    "        # Max score for decryption, 0 so far\n",
    "        max_score = 0\n",
    "        \n",
    "        # Best shift, basically 0 so far\n",
    "        best_shift = 0\n",
    "        \n",
    "        # Extract each sigle words into an array\n",
    "        words = self.extract_words(self.message_text)\n",
    "        \n",
    "        # Try all possible shifts for the English alphabet\n",
    "        for shift in range(26):\n",
    "            \n",
    "            # Reset score\n",
    "            current_score = 0\n",
    "            \n",
    "            # Build new shifted dictionary\n",
    "            shifted_dict = self.build_shift_dict(shift)\n",
    "            \n",
    "            # Validate each word against valid words\n",
    "            for word in words:\n",
    "                \n",
    "                # Decrypt current word using current shifted dictionary\n",
    "                decrypted_word = self.decrypt(shift, word, shifted_dict)\n",
    "                \n",
    "                # If current word is valid, add 1 to score\n",
    "                if decrypted_word in self.valid_words:\n",
    "                    current_score += 1\n",
    "            \n",
    "            # keep track of current shift if winning over other shifts\n",
    "            if current_score > max_score:\n",
    "                max_score = current_score\n",
    "                best_shift = shift\n",
    "        \n",
    "        # Decrypt message using best shift\n",
    "        plain_message = self.apply_shift(best_shift)\n",
    "        \n",
    "        # Return best shift and corresponding decrypted message\n",
    "        return (best_shift, plain_message)"
   ]
  },
  {
   "cell_type": "code",
   "execution_count": 119,
   "metadata": {
    "collapsed": false
   },
   "outputs": [],
   "source": [
    "def decrypt_story():\n",
    "    story = get_story_string()\n",
    "    crypted = CiphertextMessage(story)\n",
    "    return crypted.decrypt_message()"
   ]
  },
  {
   "cell_type": "code",
   "execution_count": 120,
   "metadata": {
    "collapsed": false
   },
   "outputs": [
    {
     "name": "stdout",
     "output_type": "stream",
     "text": [
      "Loading word list from file...\n",
      "   55901 words loaded.\n"
     ]
    },
    {
     "data": {
      "text/plain": [
       "(16,\n",
       " 'Jack Florey is a mythical character created on the spur of a moment to help cover an insufficiently planned hack. He has been registered for classes at MIT twice before, but has reportedly never passed a class. It has been the tradition of the residents of East Campus to become Jack Florey for a few nights each year to educate incoming students in the ways, means, and ethics of hacking.')"
      ]
     },
     "execution_count": 120,
     "metadata": {},
     "output_type": "execute_result"
    }
   ],
   "source": [
    "decrypt_story()"
   ]
  },
  {
   "cell_type": "code",
   "execution_count": 110,
   "metadata": {
    "collapsed": false
   },
   "outputs": [
    {
     "name": "stdout",
     "output_type": "stream",
     "text": [
      "Loading word list from file...\n",
      "   55901 words loaded.\n"
     ]
    },
    {
     "data": {
      "text/plain": [
       "(2,\n",
       " 'Nonsense words: mercy stop homecoming operation crack request dot possible hole than stair wave decay go what')"
      ]
     },
     "execution_count": 110,
     "metadata": {},
     "output_type": "execute_result"
    }
   ],
   "source": [
    "c = CiphertextMessage(\"Lmlqclqc umpbq: kcpaw qrmn fmkcamkgle mncpyrgml apyai pcoscqr bmr nmqqgzjc fmjc rfyl qrygp uytc bcayw em ufyr\")\n",
    "c.decrypt_message()"
   ]
  },
  {
   "cell_type": "code",
   "execution_count": 111,
   "metadata": {
    "collapsed": false
   },
   "outputs": [
    {
     "name": "stdout",
     "output_type": "stream",
     "text": [
      "Loading word list from file...\n",
      "   55901 words loaded.\n"
     ]
    },
    {
     "data": {
      "text/plain": [
       "(24, 'hello hello')"
      ]
     },
     "execution_count": 111,
     "metadata": {},
     "output_type": "execute_result"
    }
   ],
   "source": [
    "c = CiphertextMessage(\"jgnnq jgnnq\")\n",
    "c.decrypt_message()"
   ]
  },
  {
   "cell_type": "code",
   "execution_count": 112,
   "metadata": {
    "collapsed": false
   },
   "outputs": [
    {
     "name": "stdout",
     "output_type": "stream",
     "text": [
      "Hello\n",
      "World\n"
     ]
    }
   ],
   "source": [
    "words = [\"Hello\", \"World\"]\n",
    "for word in words:\n",
    "    print(word)"
   ]
  },
  {
   "cell_type": "code",
   "execution_count": null,
   "metadata": {
    "collapsed": true
   },
   "outputs": [],
   "source": []
  },
  {
   "cell_type": "code",
   "execution_count": null,
   "metadata": {
    "collapsed": true
   },
   "outputs": [],
   "source": []
  },
  {
   "cell_type": "code",
   "execution_count": null,
   "metadata": {
    "collapsed": true
   },
   "outputs": [],
   "source": []
  }
 ],
 "metadata": {
  "kernelspec": {
   "display_name": "Python 3",
   "language": "python",
   "name": "python3"
  },
  "language_info": {
   "codemirror_mode": {
    "name": "ipython",
    "version": 3
   },
   "file_extension": ".py",
   "mimetype": "text/x-python",
   "name": "python",
   "nbconvert_exporter": "python",
   "pygments_lexer": "ipython3",
   "version": "3.6.0"
  }
 },
 "nbformat": 4,
 "nbformat_minor": 2
}
