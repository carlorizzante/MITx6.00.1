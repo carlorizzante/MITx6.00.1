{
 "cells": [
  {
   "cell_type": "code",
   "execution_count": 27,
   "metadata": {
    "collapsed": true
   },
   "outputs": [],
   "source": [
    "class Student(object):\n",
    "    \n",
    "    _id = 0\n",
    "    \n",
    "    def __init__(self, first = None, last = None):\n",
    "        self.first = first\n",
    "        self.last = last\n",
    "        self.id = Student._id\n",
    "        Student._id += 1\n",
    "    \n",
    "    def __str__(self):\n",
    "        return str(self.first) + \" \" + str(self.last)\n",
    "    \n",
    "    def getId(self):\n",
    "        return self.id\n",
    "    \n",
    "    def OFF__lt__(self, other):\n",
    "        \"\"\"\n",
    "        Sort by id\n",
    "        \"\"\"\n",
    "        return self.id < other.id\n",
    "    \n",
    "    def __lt__(self, other):\n",
    "        \"\"\"\n",
    "        Sort by last, first name\n",
    "        \"\"\"\n",
    "        if self.last == other.last:\n",
    "            return self.first < other.first\n",
    "        else:\n",
    "            return self.last < other.last"
   ]
  },
  {
   "cell_type": "code",
   "execution_count": 24,
   "metadata": {
    "collapsed": false
   },
   "outputs": [
    {
     "name": "stdout",
     "output_type": "stream",
     "text": [
      "Jon Snow\n",
      "1\n"
     ]
    }
   ],
   "source": [
    "s1 = Student(\"Jon\", \"Snow\")\n",
    "print(s1)\n",
    "print(s1.getId())"
   ]
  },
  {
   "cell_type": "code",
   "execution_count": null,
   "metadata": {
    "collapsed": true
   },
   "outputs": [],
   "source": []
  }
 ],
 "metadata": {
  "kernelspec": {
   "display_name": "Python 3",
   "language": "python",
   "name": "python3"
  },
  "language_info": {
   "codemirror_mode": {
    "name": "ipython",
    "version": 3
   },
   "file_extension": ".py",
   "mimetype": "text/x-python",
   "name": "python",
   "nbconvert_exporter": "python",
   "pygments_lexer": "ipython3",
   "version": "3.6.0"
  }
 },
 "nbformat": 4,
 "nbformat_minor": 2
}
