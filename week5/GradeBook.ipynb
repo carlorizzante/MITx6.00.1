{
 "cells": [
  {
   "cell_type": "code",
   "execution_count": 2,
   "metadata": {
    "collapsed": true
   },
   "outputs": [],
   "source": [
    "class Grades(object):\n",
    "    \"\"\"\n",
    "    A mapping for students to a list of grades\n",
    "    \"\"\"\n",
    "    def __init__(self):\n",
    "        \"\"\"\n",
    "        Creates an empty grade book\n",
    "        \"\"\"\n",
    "        self.students = []\n",
    "        self.grades = {}\n",
    "        self.isSorted = True\n",
    "        \n",
    "    def addStudent(self, student):\n",
    "        \"\"\"\n",
    "        Assumes student is of type Student\n",
    "        Adds student to the grade book\n",
    "        \"\"\"\n",
    "        if student in self.students:\n",
    "            raise ValueError(\"Duplicated entry - student already present in grade book.\")\n",
    "        self.students.append(student)\n",
    "        self.grades[student.getId()] = []\n",
    "        self.isSorted = False\n",
    "        \n",
    "    def addGrade(self, student, grade):\n",
    "        \"\"\"\n",
    "        Assumes grade is float\n",
    "        \"\"\"\n",
    "        try:\n",
    "            self.grades[student.getId()].append(grade)\n",
    "        except KeyError:\n",
    "            raise ValueError(\"Student not in grade book.\")\n",
    "        \n",
    "    def getGrades(self, student):\n",
    "        \"\"\"\n",
    "        Returns a list of grades for requested student\n",
    "        \"\"\"\n",
    "        try:\n",
    "            return self.grades[student.getId()][:] # [:] returns a copy\n",
    "        except KeyError:\n",
    "            raise ValueError(\"Student not in grade book.\")\n",
    "    \n",
    "#     def allStudents(self):\n",
    "#         \"\"\"\n",
    "#         Returns a list of all students in the grade book.\n",
    "#         \"\"\"\n",
    "#         if not self.isSorted:\n",
    "#             self.students.sort()\n",
    "#             self.isSorted = True\n",
    "#         # returns a copy of list of students\n",
    "#         return self.students[:]\n",
    "\n",
    "    def allStudents(self):\n",
    "        \"\"\"\n",
    "        Returns a list of all students in the grade book.\n",
    "        \"\"\"\n",
    "        if not self.isSorted:\n",
    "            self.students.sort()\n",
    "            self.isSorted = True\n",
    "        # returns a copy of list of students\n",
    "        for s in self.students:\n",
    "            yield s"
   ]
  },
  {
   "cell_type": "code",
   "execution_count": 8,
   "metadata": {
    "collapsed": false
   },
   "outputs": [],
   "source": [
    "def gradeReport(course):\n",
    "    \"\"\"\n",
    "    Assumes course is of type grades\n",
    "    \"\"\"\n",
    "    report = []\n",
    "    for s in course.allStudents():\n",
    "        tot = 0.0\n",
    "        numGrades = 0\n",
    "        \n",
    "        for g in course.getGrades(s):\n",
    "            tot += g\n",
    "            numGrades += 1\n",
    "            \n",
    "        try:\n",
    "            average = tot/numGrades\n",
    "            report.append(str(s) + \"'s mean grade is \" + str(average))\n",
    "        except ZeroDivisionError:\n",
    "            report.append(str(s) + \" has no grades yet.\")\n",
    "            \n",
    "    return \"\\n\".join(report)"
   ]
  },
  {
   "cell_type": "code",
   "execution_count": 9,
   "metadata": {
    "collapsed": false,
    "scrolled": false
   },
   "outputs": [
    {
     "data": {
      "text/plain": [
       "[1, 2, 3]"
      ]
     },
     "execution_count": 9,
     "metadata": {},
     "output_type": "execute_result"
    }
   ],
   "source": []
  },
  {
   "cell_type": "code",
   "execution_count": null,
   "metadata": {
    "collapsed": true
   },
   "outputs": [],
   "source": []
  }
 ],
 "metadata": {
  "kernelspec": {
   "display_name": "Python 3",
   "language": "python",
   "name": "python3"
  },
  "language_info": {
   "codemirror_mode": {
    "name": "ipython",
    "version": 3
   },
   "file_extension": ".py",
   "mimetype": "text/x-python",
   "name": "python",
   "nbconvert_exporter": "python",
   "pygments_lexer": "ipython3",
   "version": "3.6.0"
  }
 },
 "nbformat": 4,
 "nbformat_minor": 2
}
