{
 "cells": [
  {
   "cell_type": "code",
   "execution_count": 134,
   "metadata": {
    "collapsed": false
   },
   "outputs": [],
   "source": [
    "class Rabbit(object):\n",
    "    _id = 0\n",
    "    \n",
    "    def __init__(self, name=\"Unknown\", parent1=None, parent2=None):\n",
    "        self.name = name\n",
    "        self.parent1 = parent1\n",
    "        self.parent2 = parent2\n",
    "        self._id = Rabbit._id\n",
    "        Rabbit._id += 1\n",
    "    \n",
    "    def setName(self, name=\"Unknown\"):\n",
    "        self.name = name\n",
    "        \n",
    "    def getName(self):\n",
    "        return self.name\n",
    "    \n",
    "    def __str__(self):\n",
    "        return str(self._id).zfill(3) + \" - \" + str(self.name)\n",
    "    \n",
    "    def __add__(parent1, parent2):\n",
    "        return Rabbit(None, parent1.getName(), parent2.getName())\n",
    "    \n",
    "    def getParents(self):\n",
    "        return \"Parents: \" + self.parent1 + \", \" + self.parent2"
   ]
  },
  {
   "cell_type": "code",
   "execution_count": 139,
   "metadata": {
    "collapsed": false
   },
   "outputs": [],
   "source": [
    "r1 = Rabbit(\"Jon\")\n",
    "# r1.setName(\"Jon\")\n",
    "\n",
    "r2 = Rabbit()\n",
    "r2.setName(\"Gru\")\n",
    "\n",
    "r3 = r1 + r2\n",
    "r3.setName(\"Tung\")"
   ]
  },
  {
   "cell_type": "code",
   "execution_count": 140,
   "metadata": {
    "collapsed": false
   },
   "outputs": [
    {
     "name": "stdout",
     "output_type": "stream",
     "text": [
      "005 - Jon\n",
      "006 - Gru\n",
      "007 - Tung\n",
      "Parents: Jon, Gru\n"
     ]
    }
   ],
   "source": [
    "print(r1)\n",
    "print(r2)\n",
    "print(r3)\n",
    "print(r3.getParents())"
   ]
  },
  {
   "cell_type": "code",
   "execution_count": 141,
   "metadata": {
    "collapsed": false
   },
   "outputs": [
    {
     "name": "stdout",
     "output_type": "stream",
     "text": [
      "008 - Blumpy\n"
     ]
    }
   ],
   "source": [
    "r4 = r1 + r2\n",
    "r4.setName(\"Blumpy\")\n",
    "print(r4)"
   ]
  },
  {
   "cell_type": "code",
   "execution_count": null,
   "metadata": {
    "collapsed": true
   },
   "outputs": [],
   "source": []
  },
  {
   "cell_type": "code",
   "execution_count": null,
   "metadata": {
    "collapsed": true
   },
   "outputs": [],
   "source": []
  }
 ],
 "metadata": {
  "kernelspec": {
   "display_name": "Python 3",
   "language": "python",
   "name": "python3"
  },
  "language_info": {
   "codemirror_mode": {
    "name": "ipython",
    "version": 3
   },
   "file_extension": ".py",
   "mimetype": "text/x-python",
   "name": "python",
   "nbconvert_exporter": "python",
   "pygments_lexer": "ipython3",
   "version": "3.6.0"
  }
 },
 "nbformat": 4,
 "nbformat_minor": 2
}
