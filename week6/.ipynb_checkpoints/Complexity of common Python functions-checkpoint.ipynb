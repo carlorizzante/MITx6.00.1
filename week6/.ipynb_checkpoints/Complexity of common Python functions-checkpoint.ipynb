{
 "cells": [
  {
   "cell_type": "code",
   "execution_count": 2,
   "metadata": {
    "collapsed": false
   },
   "outputs": [],
   "source": [
    "# List: n is len(L)\n",
    "\n",
    "# index       O(1)\n",
    "# store       O(1)\n",
    "# length      O(1)\n",
    "# append      O(1)\n",
    "# ==          O(n)\n",
    "# remove      O(n)\n",
    "# copy        O(n)\n",
    "# reverse     O(n)\n",
    "# iteration   O(n)\n",
    "# in list     O(n)"
   ]
  },
  {
   "cell_type": "code",
   "execution_count": 3,
   "metadata": {
    "collapsed": true
   },
   "outputs": [],
   "source": [
    "# Dictionaries: n is len(D)\n",
    "    \n",
    "# Worst case\n",
    "# index       O(n)\n",
    "# store       O(n)\n",
    "# length      O(n)\n",
    "# delete      O(n)\n",
    "# iteration   O(n)\n",
    "\n",
    "# Average case\n",
    "# index       O(1)\n",
    "# store       O(1)\n",
    "# delete      O(1)\n",
    "# iteration   O(n)"
   ]
  },
  {
   "cell_type": "code",
   "execution_count": null,
   "metadata": {
    "collapsed": true
   },
   "outputs": [],
   "source": []
  }
 ],
 "metadata": {
  "kernelspec": {
   "display_name": "Python 3",
   "language": "python",
   "name": "python3"
  },
  "language_info": {
   "codemirror_mode": {
    "name": "ipython",
    "version": 3
   },
   "file_extension": ".py",
   "mimetype": "text/x-python",
   "name": "python",
   "nbconvert_exporter": "python",
   "pygments_lexer": "ipython3",
   "version": "3.6.0"
  }
 },
 "nbformat": 4,
 "nbformat_minor": 2
}
