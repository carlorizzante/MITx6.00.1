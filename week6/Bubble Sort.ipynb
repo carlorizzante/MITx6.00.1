{
 "cells": [
  {
   "cell_type": "code",
   "execution_count": 12,
   "metadata": {
    "collapsed": true
   },
   "outputs": [],
   "source": [
    "def bubble_sort(L):\n",
    "    swap = False\n",
    "    count = 0\n",
    "    while not swap:\n",
    "        swap = True\n",
    "        count += 1\n",
    "        for j in range(1, len(L)):\n",
    "            if L[j-1] > L[j]:\n",
    "                swap = False\n",
    "                tmp = L[j]\n",
    "                L[j] = L[j-1]\n",
    "                L[j-1] = tmp\n",
    "    return count"
   ]
  },
  {
   "cell_type": "code",
   "execution_count": 31,
   "metadata": {
    "collapsed": false
   },
   "outputs": [
    {
     "name": "stdout",
     "output_type": "stream",
     "text": [
      "10.73\n"
     ]
    }
   ],
   "source": [
    "import random\n",
    "# L = [2,3,6,1,7,8,9,5,4,0]\n",
    "L = []\n",
    "for i in range(10000):\n",
    "    r = random.randint(0,9) * random.randint(0,9) * random.randint(0,9) + random.randint(0,9)\n",
    "    L.append(r)\n",
    "\n",
    "    counts = []\n",
    "for i in range(1000):\n",
    "    counts.append(bubble_sort(L))\n",
    "\n",
    "tot = 0\n",
    "for n in counts:\n",
    "    tot += n\n",
    "\n",
    "print(tot/len(counts))"
   ]
  },
  {
   "cell_type": "code",
   "execution_count": null,
   "metadata": {
    "collapsed": true
   },
   "outputs": [],
   "source": []
  },
  {
   "cell_type": "code",
   "execution_count": null,
   "metadata": {
    "collapsed": true
   },
   "outputs": [],
   "source": []
  }
 ],
 "metadata": {
  "kernelspec": {
   "display_name": "Python 3",
   "language": "python",
   "name": "python3"
  },
  "language_info": {
   "codemirror_mode": {
    "name": "ipython",
    "version": 3
   },
   "file_extension": ".py",
   "mimetype": "text/x-python",
   "name": "python",
   "nbconvert_exporter": "python",
   "pygments_lexer": "ipython3",
   "version": "3.6.0"
  }
 },
 "nbformat": 4,
 "nbformat_minor": 2
}
